{
 "cells": [
  {
   "cell_type": "code",
   "execution_count": 1,
   "metadata": {},
   "outputs": [],
   "source": [
    "import numpy as np\n",
    "import matplotlib.pyplot as plt\n",
    "import pandas as pd"
   ]
  },
  {
   "cell_type": "code",
   "execution_count": null,
   "metadata": {},
   "outputs": [],
   "source": [
    "# import urllib\n",
    "# URL = 'http://raw.githubusercontent.com/ageron/handson-ml2/master/datasets/housing/housing.csv'\n",
    "# urllib.request.urlretrieve(URL, 'housing.csv')"
   ]
  },
  {
   "cell_type": "code",
   "execution_count": 2,
   "metadata": {},
   "outputs": [
    {
     "data": {
      "text/html": [
       "<div>\n",
       "<style scoped>\n",
       "    .dataframe tbody tr th:only-of-type {\n",
       "        vertical-align: middle;\n",
       "    }\n",
       "\n",
       "    .dataframe tbody tr th {\n",
       "        vertical-align: top;\n",
       "    }\n",
       "\n",
       "    .dataframe thead th {\n",
       "        text-align: right;\n",
       "    }\n",
       "</style>\n",
       "<table border=\"1\" class=\"dataframe\">\n",
       "  <thead>\n",
       "    <tr style=\"text-align: right;\">\n",
       "      <th></th>\n",
       "      <th>longitude</th>\n",
       "      <th>latitude</th>\n",
       "      <th>housing_median_age</th>\n",
       "      <th>total_rooms</th>\n",
       "      <th>total_bedrooms</th>\n",
       "      <th>population</th>\n",
       "      <th>households</th>\n",
       "      <th>median_income</th>\n",
       "      <th>median_house_value</th>\n",
       "      <th>ocean_proximity</th>\n",
       "    </tr>\n",
       "  </thead>\n",
       "  <tbody>\n",
       "    <tr>\n",
       "      <th>0</th>\n",
       "      <td>-122.23</td>\n",
       "      <td>37.88</td>\n",
       "      <td>41.0</td>\n",
       "      <td>880.0</td>\n",
       "      <td>129.0</td>\n",
       "      <td>322.0</td>\n",
       "      <td>126.0</td>\n",
       "      <td>8.3252</td>\n",
       "      <td>452600.0</td>\n",
       "      <td>NEAR BAY</td>\n",
       "    </tr>\n",
       "    <tr>\n",
       "      <th>1</th>\n",
       "      <td>-122.22</td>\n",
       "      <td>37.86</td>\n",
       "      <td>21.0</td>\n",
       "      <td>7099.0</td>\n",
       "      <td>1106.0</td>\n",
       "      <td>2401.0</td>\n",
       "      <td>1138.0</td>\n",
       "      <td>8.3014</td>\n",
       "      <td>358500.0</td>\n",
       "      <td>NEAR BAY</td>\n",
       "    </tr>\n",
       "    <tr>\n",
       "      <th>2</th>\n",
       "      <td>-122.24</td>\n",
       "      <td>37.85</td>\n",
       "      <td>52.0</td>\n",
       "      <td>1467.0</td>\n",
       "      <td>190.0</td>\n",
       "      <td>496.0</td>\n",
       "      <td>177.0</td>\n",
       "      <td>7.2574</td>\n",
       "      <td>352100.0</td>\n",
       "      <td>NEAR BAY</td>\n",
       "    </tr>\n",
       "  </tbody>\n",
       "</table>\n",
       "</div>"
      ],
      "text/plain": [
       "   longitude  latitude  housing_median_age  total_rooms  total_bedrooms  \\\n",
       "0    -122.23     37.88                41.0        880.0           129.0   \n",
       "1    -122.22     37.86                21.0       7099.0          1106.0   \n",
       "2    -122.24     37.85                52.0       1467.0           190.0   \n",
       "\n",
       "   population  households  median_income  median_house_value ocean_proximity  \n",
       "0       322.0       126.0         8.3252            452600.0        NEAR BAY  \n",
       "1      2401.0      1138.0         8.3014            358500.0        NEAR BAY  \n",
       "2       496.0       177.0         7.2574            352100.0        NEAR BAY  "
      ]
     },
     "execution_count": 2,
     "metadata": {},
     "output_type": "execute_result"
    }
   ],
   "source": [
    "data = pd.read_csv('housing.csv')\n",
    "data.head(3)"
   ]
  },
  {
   "cell_type": "code",
   "execution_count": 3,
   "metadata": {},
   "outputs": [],
   "source": [
    "from sklearn.model_selection import train_test_split\n",
    "train_set, test_set = train_test_split(data, test_size=0.2, random_state=1)\n",
    "\n",
    "x_train = train_set.drop('median_house_value', axis=1)\n",
    "y_train = train_set['median_house_value'].copy()\n",
    "\n",
    "x_test = test_set.drop('median_house_value', axis=1)\n",
    "y_test = test_set['median_house_value'].copy()"
   ]
  },
  {
   "attachments": {},
   "cell_type": "markdown",
   "metadata": {},
   "source": [
    "## Preprocessing"
   ]
  },
  {
   "cell_type": "code",
   "execution_count": 4,
   "metadata": {},
   "outputs": [],
   "source": [
    "from sklearn.pipeline import Pipeline\n",
    "from sklearn.preprocessing import StandardScaler\n",
    "from sklearn.impute import SimpleImputer\n",
    "from sklearn.compose import ColumnTransformer\n",
    "from sklearn.preprocessing import OneHotEncoder\n",
    "\n",
    "pip_num = Pipeline([\n",
    "    ('imputer', SimpleImputer(strategy='median')),\n",
    "    ('std_scaler', StandardScaler())\n",
    "])\n",
    "\n",
    "pip_full = ColumnTransformer([\n",
    "    ('num', pip_num, list(x_train)[:8]),\n",
    "    ('cat', OneHotEncoder(), [list(x_train)[-1]])\n",
    "])\n",
    "\n",
    "x_train_prep = pip_full.fit_transform(x_train)\n",
    "x_test_prep = pip_full.transform(x_test)"
   ]
  },
  {
   "cell_type": "code",
   "execution_count": 5,
   "metadata": {},
   "outputs": [],
   "source": [
    "scalery = StandardScaler()\n",
    "y_train = scalery.fit_transform(np.array(y_train).reshape(-1, 1))\n",
    "y_test = scalery.transform(np.array(y_test).reshape(-1, 1))"
   ]
  },
  {
   "attachments": {},
   "cell_type": "markdown",
   "metadata": {},
   "source": [
    "## Model"
   ]
  },
  {
   "cell_type": "code",
   "execution_count": 6,
   "metadata": {},
   "outputs": [
    {
     "name": "stderr",
     "output_type": "stream",
     "text": [
      "2023-03-23 16:21:57.094353: I tensorflow/core/platform/cpu_feature_guard.cc:193] This TensorFlow binary is optimized with oneAPI Deep Neural Network Library (oneDNN) to use the following CPU instructions in performance-critical operations:  AVX2 FMA\n",
      "To enable them in other operations, rebuild TensorFlow with the appropriate compiler flags.\n"
     ]
    }
   ],
   "source": [
    "import tensorflow as tf\n",
    "from tensorflow import keras\n",
    "\n",
    "keras.backend.clear_session()\n",
    "np.random.seed(1)\n",
    "tf.random.set_seed(1)"
   ]
  },
  {
   "cell_type": "code",
   "execution_count": 7,
   "metadata": {},
   "outputs": [
    {
     "name": "stdout",
     "output_type": "stream",
     "text": [
      "Model: \"sequential\"\n",
      "_________________________________________________________________\n",
      " Layer (type)                Output Shape              Param #   \n",
      "=================================================================\n",
      " dense (Dense)               (None, 300)               4200      \n",
      "                                                                 \n",
      " dropout (Dropout)           (None, 300)               0         \n",
      "                                                                 \n",
      " dense_1 (Dense)             (None, 100)               30100     \n",
      "                                                                 \n",
      " dropout_1 (Dropout)         (None, 100)               0         \n",
      "                                                                 \n",
      " dense_2 (Dense)             (None, 50)                5050      \n",
      "                                                                 \n",
      " dropout_2 (Dropout)         (None, 50)                0         \n",
      "                                                                 \n",
      " dense_3 (Dense)             (None, 1)                 51        \n",
      "                                                                 \n",
      "=================================================================\n",
      "Total params: 39,401\n",
      "Trainable params: 39,401\n",
      "Non-trainable params: 0\n",
      "_________________________________________________________________\n"
     ]
    },
    {
     "name": "stderr",
     "output_type": "stream",
     "text": [
      "2023-03-23 16:21:58.183516: I tensorflow/compiler/xla/stream_executor/cuda/cuda_gpu_executor.cc:981] successful NUMA node read from SysFS had negative value (-1), but there must be at least one NUMA node, so returning NUMA node zero\n",
      "2023-03-23 16:21:58.204896: I tensorflow/compiler/xla/stream_executor/cuda/cuda_gpu_executor.cc:981] successful NUMA node read from SysFS had negative value (-1), but there must be at least one NUMA node, so returning NUMA node zero\n",
      "2023-03-23 16:21:58.204997: I tensorflow/compiler/xla/stream_executor/cuda/cuda_gpu_executor.cc:981] successful NUMA node read from SysFS had negative value (-1), but there must be at least one NUMA node, so returning NUMA node zero\n",
      "2023-03-23 16:21:58.205319: I tensorflow/core/platform/cpu_feature_guard.cc:193] This TensorFlow binary is optimized with oneAPI Deep Neural Network Library (oneDNN) to use the following CPU instructions in performance-critical operations:  AVX2 FMA\n",
      "To enable them in other operations, rebuild TensorFlow with the appropriate compiler flags.\n",
      "2023-03-23 16:21:58.206410: I tensorflow/compiler/xla/stream_executor/cuda/cuda_gpu_executor.cc:981] successful NUMA node read from SysFS had negative value (-1), but there must be at least one NUMA node, so returning NUMA node zero\n",
      "2023-03-23 16:21:58.206546: I tensorflow/compiler/xla/stream_executor/cuda/cuda_gpu_executor.cc:981] successful NUMA node read from SysFS had negative value (-1), but there must be at least one NUMA node, so returning NUMA node zero\n",
      "2023-03-23 16:21:58.206644: I tensorflow/compiler/xla/stream_executor/cuda/cuda_gpu_executor.cc:981] successful NUMA node read from SysFS had negative value (-1), but there must be at least one NUMA node, so returning NUMA node zero\n",
      "2023-03-23 16:21:58.536145: I tensorflow/compiler/xla/stream_executor/cuda/cuda_gpu_executor.cc:981] successful NUMA node read from SysFS had negative value (-1), but there must be at least one NUMA node, so returning NUMA node zero\n",
      "2023-03-23 16:21:58.536278: I tensorflow/compiler/xla/stream_executor/cuda/cuda_gpu_executor.cc:981] successful NUMA node read from SysFS had negative value (-1), but there must be at least one NUMA node, so returning NUMA node zero\n",
      "2023-03-23 16:21:58.536366: I tensorflow/compiler/xla/stream_executor/cuda/cuda_gpu_executor.cc:981] successful NUMA node read from SysFS had negative value (-1), but there must be at least one NUMA node, so returning NUMA node zero\n",
      "2023-03-23 16:21:58.536433: I tensorflow/core/common_runtime/gpu/gpu_device.cc:1613] Created device /job:localhost/replica:0/task:0/device:GPU:0 with 7998 MB memory:  -> device: 0, name: NVIDIA GeForce RTX 3080, pci bus id: 0000:01:00.0, compute capability: 8.6\n"
     ]
    }
   ],
   "source": [
    "r_l2 = keras.regularizers.l2(l2= .01)\n",
    "model = keras.models.Sequential([\n",
    "    keras.layers.InputLayer(input_shape = (13,)),\n",
    "    # keras.layers.Dropout(rate=.2), \n",
    "    keras.layers.Dense(\n",
    "        units=300, activation='relu', kernel_initializer='he_normal', kernel_regularizer=r_l2), \n",
    "    keras.layers.Dropout(rate=.2), \n",
    "    keras.layers.Dense(\n",
    "        units=100, activation='relu', kernel_initializer='he_normal', kernel_regularizer=r_l2),\n",
    "    keras.layers.Dropout(rate=.2), \n",
    "    keras.layers.Dense(\n",
    "        units=50, activation='relu', kernel_initializer='he_normal', kernel_regularizer=r_l2),\n",
    "    keras.layers.Dropout(rate=.2),\n",
    "    keras.layers.Dense(units=1)\n",
    "])\n",
    "model.summary()"
   ]
  },
  {
   "cell_type": "code",
   "execution_count": 8,
   "metadata": {},
   "outputs": [],
   "source": [
    "model.compile(\n",
    "    loss='mse', \n",
    "    optimizer='nadam',\n",
    "    # metrics=['RSquare']\n",
    ")"
   ]
  },
  {
   "cell_type": "code",
   "execution_count": 9,
   "metadata": {},
   "outputs": [
    {
     "name": "stdout",
     "output_type": "stream",
     "text": [
      "Epoch 1/30\n"
     ]
    },
    {
     "name": "stderr",
     "output_type": "stream",
     "text": [
      "2023-03-23 16:22:00.103459: I tensorflow/compiler/xla/stream_executor/cuda/cuda_blas.cc:630] TensorFloat-32 will be used for the matrix multiplication. This will only be logged once.\n",
      "2023-03-23 16:22:00.105322: I tensorflow/compiler/xla/service/service.cc:173] XLA service 0x556fa1283d00 initialized for platform CUDA (this does not guarantee that XLA will be used). Devices:\n",
      "2023-03-23 16:22:00.105334: I tensorflow/compiler/xla/service/service.cc:181]   StreamExecutor device (0): NVIDIA GeForce RTX 3080, Compute Capability 8.6\n",
      "2023-03-23 16:22:00.111377: I tensorflow/compiler/mlir/tensorflow/utils/dump_mlir_util.cc:268] disabling MLIR crash reproducer, set env var `MLIR_CRASH_REPRODUCER_DIRECTORY` to enable.\n",
      "2023-03-23 16:22:00.194068: I tensorflow/compiler/jit/xla_compilation_cache.cc:477] Compiled cluster using XLA!  This line is logged at most once for the lifetime of the process.\n"
     ]
    },
    {
     "name": "stdout",
     "output_type": "stream",
     "text": [
      "413/413 [==============================] - 3s 4ms/step - loss: 6.3359 - val_loss: 3.6612\n",
      "Epoch 2/30\n",
      "413/413 [==============================] - 1s 3ms/step - loss: 2.4065 - val_loss: 1.4657\n",
      "Epoch 3/30\n",
      "413/413 [==============================] - 1s 3ms/step - loss: 1.0567 - val_loss: 0.7328\n",
      "Epoch 4/30\n",
      "413/413 [==============================] - 1s 2ms/step - loss: 0.6049 - val_loss: 0.4939\n",
      "Epoch 5/30\n",
      "413/413 [==============================] - 1s 3ms/step - loss: 0.4520 - val_loss: 0.4029\n",
      "Epoch 6/30\n",
      "413/413 [==============================] - 1s 3ms/step - loss: 0.3976 - val_loss: 0.3712\n",
      "Epoch 7/30\n",
      "413/413 [==============================] - 1s 3ms/step - loss: 0.3752 - val_loss: 0.3556\n",
      "Epoch 8/30\n",
      "413/413 [==============================] - 1s 2ms/step - loss: 0.3678 - val_loss: 0.3527\n",
      "Epoch 9/30\n",
      "413/413 [==============================] - 1s 2ms/step - loss: 0.3608 - val_loss: 0.3473\n",
      "Epoch 10/30\n",
      "413/413 [==============================] - 1s 2ms/step - loss: 0.3613 - val_loss: 0.3421\n",
      "Epoch 11/30\n",
      "413/413 [==============================] - 1s 2ms/step - loss: 0.3571 - val_loss: 0.3601\n",
      "Epoch 12/30\n",
      "413/413 [==============================] - 1s 2ms/step - loss: 0.3542 - val_loss: 0.3389\n",
      "Epoch 13/30\n",
      "413/413 [==============================] - 1s 2ms/step - loss: 0.3528 - val_loss: 0.3398\n",
      "Epoch 14/30\n",
      "413/413 [==============================] - 1s 2ms/step - loss: 0.3482 - val_loss: 0.3391\n",
      "Epoch 15/30\n",
      "413/413 [==============================] - 1s 2ms/step - loss: 0.3479 - val_loss: 0.3512\n",
      "Epoch 16/30\n",
      "413/413 [==============================] - 1s 3ms/step - loss: 0.3486 - val_loss: 0.3339\n",
      "Epoch 17/30\n",
      "413/413 [==============================] - 1s 2ms/step - loss: 0.3464 - val_loss: 0.3329\n",
      "Epoch 18/30\n",
      "413/413 [==============================] - 2s 4ms/step - loss: 0.3487 - val_loss: 0.3355\n",
      "Epoch 19/30\n",
      "413/413 [==============================] - 1s 2ms/step - loss: 0.3491 - val_loss: 0.3451\n",
      "Epoch 20/30\n",
      "413/413 [==============================] - 1s 2ms/step - loss: 0.3460 - val_loss: 0.3407\n",
      "Epoch 21/30\n",
      "413/413 [==============================] - 1s 2ms/step - loss: 0.3438 - val_loss: 0.3327\n",
      "Epoch 22/30\n",
      "413/413 [==============================] - 1s 2ms/step - loss: 0.3436 - val_loss: 0.3358\n",
      "Epoch 23/30\n",
      "413/413 [==============================] - 1s 2ms/step - loss: 0.3419 - val_loss: 0.3548\n",
      "Epoch 24/30\n",
      "413/413 [==============================] - 1s 2ms/step - loss: 0.3443 - val_loss: 0.3238\n",
      "Epoch 25/30\n",
      "413/413 [==============================] - 1s 2ms/step - loss: 0.3390 - val_loss: 0.3245\n",
      "Epoch 26/30\n",
      "413/413 [==============================] - 1s 2ms/step - loss: 0.3422 - val_loss: 0.3201\n",
      "Epoch 27/30\n",
      "413/413 [==============================] - 1s 2ms/step - loss: 0.3392 - val_loss: 0.3375\n",
      "Epoch 28/30\n",
      "413/413 [==============================] - 1s 2ms/step - loss: 0.3394 - val_loss: 0.3391\n",
      "Epoch 29/30\n",
      "413/413 [==============================] - 1s 3ms/step - loss: 0.3377 - val_loss: 0.3290\n",
      "Epoch 30/30\n",
      "413/413 [==============================] - 1s 3ms/step - loss: 0.3409 - val_loss: 0.3215\n"
     ]
    }
   ],
   "source": [
    "train = model.fit(x_train_prep, y_train,\n",
    "          epochs=30,\n",
    "          validation_split=0.2)"
   ]
  },
  {
   "cell_type": "code",
   "execution_count": 12,
   "metadata": {},
   "outputs": [
    {
     "data": {
      "image/png": "[encoded data removed]",
      "text/plain": [
       "<Figure size 640x480 with 1 Axes>"
      ]
     },
     "metadata": {},
     "output_type": "display_data"
    }
   ],
   "source": [
    "pd.DataFrame(train.history).plot()\n",
    "plt.grid(True)\n",
    "plt.yscale('log')\n",
    "plt.show()"
   ]
  },
  {
   "cell_type": "code",
   "execution_count": 10,
   "metadata": {},
   "outputs": [
    {
     "name": "stdout",
     "output_type": "stream",
     "text": [
      "129/129 [==============================] - 0s 1ms/step - loss: 0.3157\n"
     ]
    },
    {
     "data": {
      "text/plain": [
       "0.31566324830055237"
      ]
     },
     "execution_count": 10,
     "metadata": {},
     "output_type": "execute_result"
    }
   ],
   "source": [
    "model.evaluate(x_test_prep, y_test)"
   ]
  }
 ],
 "metadata": {
  "kernelspec": {
   "display_name": "tf",
   "language": "python",
   "name": "python3"
  },
  "language_info": {
   "codemirror_mode": {
    "name": "ipython",
    "version": 3
   },
   "file_extension": ".py",
   "mimetype": "text/x-python",
   "name": "python",
   "nbconvert_exporter": "python",
   "pygments_lexer": "ipython3",
   "version": "3.10.6"
  },
  "orig_nbformat": 4
 },
 "nbformat": 4,
 "nbformat_minor": 2
}
