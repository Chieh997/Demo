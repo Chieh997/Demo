{
 "cells": [
  {
   "cell_type": "code",
   "execution_count": 1,
   "metadata": {},
   "outputs": [],
   "source": [
    "import numpy as np\n",
    "import matplotlib.pyplot as plt\n",
    "import pandas as pd"
   ]
  },
  {
   "attachments": {},
   "cell_type": "markdown",
   "metadata": {
    "tags": []
   },
   "source": [
    "## 取得資料"
   ]
  },
  {
   "cell_type": "code",
   "execution_count": 2,
   "metadata": {},
   "outputs": [
    {
     "data": {
      "text/plain": [
       "(1000, 784)"
      ]
     },
     "execution_count": 2,
     "metadata": {},
     "output_type": "execute_result"
    }
   ],
   "source": [
    "data = pd.read_csv('mnist.csv')\n",
    "x = np.array(data)[:, :784]\n",
    "x.shape"
   ]
  },
  {
   "cell_type": "code",
   "execution_count": 3,
   "metadata": {},
   "outputs": [
    {
     "data": {
      "image/png": "[encoded data removed]",
      "text/plain": [
       "<Figure size 640x480 with 1 Axes>"
      ]
     },
     "metadata": {},
     "output_type": "display_data"
    }
   ],
   "source": [
    "i = 0\n",
    "xi_image = x[i].reshape(28, 28)\n",
    "plt.imshow(xi_image, cmap='binary')\n",
    "plt.show()"
   ]
  },
  {
   "cell_type": "code",
   "execution_count": 4,
   "metadata": {},
   "outputs": [
    {
     "data": {
      "text/plain": [
       "array([ 97, 116,  99,  93, 105,  92,  94, 117,  87, 100])"
      ]
     },
     "execution_count": 4,
     "metadata": {},
     "output_type": "execute_result"
    }
   ],
   "source": [
    "y = np.array(data)[:, 784]\n",
    "np.bincount(y)"
   ]
  },
  {
   "attachments": {},
   "cell_type": "markdown",
   "metadata": {},
   "source": [
    "## Split Data"
   ]
  },
  {
   "cell_type": "code",
   "execution_count": 5,
   "metadata": {},
   "outputs": [
    {
     "name": "stdout",
     "output_type": "stream",
     "text": [
      "(750, 784) (250, 784)\n"
     ]
    }
   ],
   "source": [
    "from sklearn.model_selection import train_test_split\n",
    "x_train, x_test, y_train, y_test =  train_test_split(x, y, random_state = 1)\n",
    "print(x_train.shape, x_test.shape)\n",
    "# Preprocessing\n",
    "x_train = x_train/255\n",
    "x_test = x_test/255\n"
   ]
  },
  {
   "cell_type": "code",
   "execution_count": 6,
   "metadata": {},
   "outputs": [
    {
     "name": "stderr",
     "output_type": "stream",
     "text": [
      "2023-03-09 15:32:49.880137: I tensorflow/core/platform/cpu_feature_guard.cc:193] This TensorFlow binary is optimized with oneAPI Deep Neural Network Library (oneDNN) to use the following CPU instructions in performance-critical operations:  AVX2 FMA\n",
      "To enable them in other operations, rebuild TensorFlow with the appropriate compiler flags.\n",
      "2023-03-09 15:32:50.364695: W tensorflow/compiler/xla/stream_executor/platform/default/dso_loader.cc:64] Could not load dynamic library 'libnvinfer.so.7'; dlerror: libnvinfer.so.7: cannot open shared object file: No such file or directory; LD_LIBRARY_PATH: :/usr/local/cuda-11.7/lib64:/usr/local/cuda-11.7/extras/CUPTI/lib64\n",
      "2023-03-09 15:32:50.364748: W tensorflow/compiler/xla/stream_executor/platform/default/dso_loader.cc:64] Could not load dynamic library 'libnvinfer_plugin.so.7'; dlerror: libnvinfer_plugin.so.7: cannot open shared object file: No such file or directory; LD_LIBRARY_PATH: :/usr/local/cuda-11.7/lib64:/usr/local/cuda-11.7/extras/CUPTI/lib64\n",
      "2023-03-09 15:32:50.364754: W tensorflow/compiler/tf2tensorrt/utils/py_utils.cc:38] TF-TRT Warning: Cannot dlopen some TensorRT libraries. If you would like to use Nvidia GPU with TensorRT, please make sure the missing libraries mentioned above are installed properly.\n"
     ]
    }
   ],
   "source": [
    "import tensorflow as tf\n",
    "from tensorflow import keras\n",
    "from tensorflow.keras.models import Sequential\n",
    "from tensorflow.keras.layers import Dense\n",
    "from tensorflow.keras.optimizers import SGD\n",
    "\n",
    "gpus = tf.config.experimental.list_physical_devices('GPU')\n",
    "if gpus:\n",
    "  try:\n",
    "    tf.config.experimental.set_virtual_device_configuration(\n",
    "        gpus[0],[tf.config.experimental.VirtualDeviceConfiguration(memory_limit=4096)])\n",
    "  except RuntimeError as e:\n",
    "    print(e)\n",
    "\n",
    "keras.backend.clear_session()\n",
    "np.random.seed(1)\n",
    "tf.random.set_seed(1)"
   ]
  },
  {
   "cell_type": "code",
   "execution_count": 7,
   "metadata": {},
   "outputs": [
    {
     "name": "stderr",
     "output_type": "stream",
     "text": [
      "2023-03-09 15:32:50.864557: I tensorflow/core/platform/cpu_feature_guard.cc:193] This TensorFlow binary is optimized with oneAPI Deep Neural Network Library (oneDNN) to use the following CPU instructions in performance-critical operations:  AVX2 FMA\n",
      "To enable them in other operations, rebuild TensorFlow with the appropriate compiler flags.\n",
      "2023-03-09 15:32:51.206309: I tensorflow/core/common_runtime/gpu/gpu_device.cc:1613] Created device /job:localhost/replica:0/task:0/device:GPU:0 with 4096 MB memory:  -> device: 0, name: NVIDIA GeForce RTX 3080, pci bus id: 0000:01:00.0, compute capability: 8.6\n"
     ]
    }
   ],
   "source": [
    "model = keras.models.Sequential([\n",
    "    keras.layers.BatchNormalization(),\n",
    "    keras.layers.Dense(units=300, use_bias=False, kernel_initializer='he_normal'),\n",
    "    keras.layers.BatchNormalization(),\n",
    "    keras.layers.Activation('tanh'),\n",
    "    keras.layers.Dense(units=200,kernel_initializer='he_normal', use_bias=False),\n",
    "    keras.layers.BatchNormalization(),\n",
    "    keras.layers.LeakyReLU(alpha=.01),\n",
    "    keras.layers.Dense(units=100, kernel_initializer='he_normal', use_bias=False),\n",
    "    keras.layers.BatchNormalization(),\n",
    "    keras.layers.PReLU(),  \n",
    "    keras.layers.Dense(units=10, activation='softmax', kernel_initializer='glorot_uniform')\n",
    "])"
   ]
  },
  {
   "cell_type": "code",
   "execution_count": 8,
   "metadata": {},
   "outputs": [],
   "source": [
    "# model.summary()"
   ]
  },
  {
   "cell_type": "code",
   "execution_count": 9,
   "metadata": {},
   "outputs": [],
   "source": [
    "opt = keras.optimizers.SGD(clipnorm=0.9)\n",
    "model.compile(loss='sparse_categorical_crossentropy', \n",
    "              optimizer=opt,\n",
    "              metrics=['accuracy'])"
   ]
  },
  {
   "cell_type": "code",
   "execution_count": 10,
   "metadata": {},
   "outputs": [
    {
     "name": "stdout",
     "output_type": "stream",
     "text": [
      "Epoch 1/50\n"
     ]
    },
    {
     "name": "stderr",
     "output_type": "stream",
     "text": [
      "2023-03-09 15:32:53.149963: I tensorflow/compiler/xla/stream_executor/cuda/cuda_blas.cc:630] TensorFloat-32 will be used for the matrix multiplication. This will only be logged once.\n",
      "2023-03-09 15:32:53.181339: I tensorflow/compiler/xla/service/service.cc:173] XLA service 0x563ba45841c0 initialized for platform CUDA (this does not guarantee that XLA will be used). Devices:\n",
      "2023-03-09 15:32:53.181353: I tensorflow/compiler/xla/service/service.cc:181]   StreamExecutor device (0): NVIDIA GeForce RTX 3080, Compute Capability 8.6\n",
      "2023-03-09 15:32:53.211517: I tensorflow/compiler/jit/xla_compilation_cache.cc:477] Compiled cluster using XLA!  This line is logged at most once for the lifetime of the process.\n"
     ]
    },
    {
     "name": "stdout",
     "output_type": "stream",
     "text": [
      "19/19 [==============================] - 2s 12ms/step - loss: 2.3053 - accuracy: 0.1700 - val_loss: 2.2522 - val_accuracy: 0.1333\n",
      "Epoch 2/50\n",
      "19/19 [==============================] - 0s 5ms/step - loss: 1.9772 - accuracy: 0.3350 - val_loss: 2.1084 - val_accuracy: 0.2800\n",
      "Epoch 3/50\n",
      "19/19 [==============================] - 0s 4ms/step - loss: 1.7444 - accuracy: 0.4517 - val_loss: 1.9559 - val_accuracy: 0.3933\n",
      "Epoch 4/50\n",
      "19/19 [==============================] - 0s 4ms/step - loss: 1.4977 - accuracy: 0.5617 - val_loss: 1.7976 - val_accuracy: 0.4800\n",
      "Epoch 5/50\n",
      "19/19 [==============================] - 0s 4ms/step - loss: 1.3470 - accuracy: 0.6333 - val_loss: 1.6462 - val_accuracy: 0.5667\n",
      "Epoch 6/50\n",
      "19/19 [==============================] - 0s 5ms/step - loss: 1.1741 - accuracy: 0.6967 - val_loss: 1.4970 - val_accuracy: 0.6400\n",
      "Epoch 7/50\n",
      "19/19 [==============================] - 0s 5ms/step - loss: 1.0436 - accuracy: 0.7483 - val_loss: 1.3577 - val_accuracy: 0.6867\n",
      "Epoch 8/50\n",
      "19/19 [==============================] - 0s 5ms/step - loss: 0.9669 - accuracy: 0.7483 - val_loss: 1.2336 - val_accuracy: 0.7467\n",
      "Epoch 9/50\n",
      "19/19 [==============================] - 0s 5ms/step - loss: 0.8660 - accuracy: 0.7833 - val_loss: 1.1277 - val_accuracy: 0.7800\n",
      "Epoch 10/50\n",
      "19/19 [==============================] - 0s 5ms/step - loss: 0.8070 - accuracy: 0.8417 - val_loss: 1.0306 - val_accuracy: 0.8133\n",
      "Epoch 11/50\n",
      "19/19 [==============================] - 0s 5ms/step - loss: 0.7267 - accuracy: 0.8450 - val_loss: 0.9491 - val_accuracy: 0.8333\n",
      "Epoch 12/50\n",
      "19/19 [==============================] - 0s 5ms/step - loss: 0.6443 - accuracy: 0.8817 - val_loss: 0.8808 - val_accuracy: 0.8467\n",
      "Epoch 13/50\n",
      "19/19 [==============================] - 0s 5ms/step - loss: 0.6370 - accuracy: 0.8683 - val_loss: 0.8220 - val_accuracy: 0.8533\n",
      "Epoch 14/50\n",
      "19/19 [==============================] - 0s 5ms/step - loss: 0.5810 - accuracy: 0.8900 - val_loss: 0.7725 - val_accuracy: 0.8533\n",
      "Epoch 15/50\n",
      "19/19 [==============================] - 0s 4ms/step - loss: 0.5363 - accuracy: 0.8967 - val_loss: 0.7321 - val_accuracy: 0.8533\n",
      "Epoch 16/50\n",
      "19/19 [==============================] - 0s 5ms/step - loss: 0.5059 - accuracy: 0.9017 - val_loss: 0.6993 - val_accuracy: 0.8533\n",
      "Epoch 17/50\n",
      "19/19 [==============================] - 0s 5ms/step - loss: 0.4842 - accuracy: 0.9033 - val_loss: 0.6685 - val_accuracy: 0.8600\n",
      "Epoch 18/50\n",
      "19/19 [==============================] - 0s 5ms/step - loss: 0.4412 - accuracy: 0.9200 - val_loss: 0.6414 - val_accuracy: 0.8733\n",
      "Epoch 19/50\n",
      "19/19 [==============================] - 0s 5ms/step - loss: 0.4169 - accuracy: 0.9267 - val_loss: 0.6169 - val_accuracy: 0.8800\n",
      "Epoch 20/50\n",
      "19/19 [==============================] - 0s 5ms/step - loss: 0.3847 - accuracy: 0.9267 - val_loss: 0.5955 - val_accuracy: 0.8733\n",
      "Epoch 21/50\n",
      "19/19 [==============================] - 0s 5ms/step - loss: 0.3763 - accuracy: 0.9450 - val_loss: 0.5806 - val_accuracy: 0.8800\n",
      "Epoch 22/50\n",
      "19/19 [==============================] - 0s 5ms/step - loss: 0.3515 - accuracy: 0.9433 - val_loss: 0.5676 - val_accuracy: 0.8800\n",
      "Epoch 23/50\n",
      "19/19 [==============================] - 0s 5ms/step - loss: 0.3199 - accuracy: 0.9583 - val_loss: 0.5567 - val_accuracy: 0.8867\n",
      "Epoch 24/50\n",
      "19/19 [==============================] - 0s 5ms/step - loss: 0.3171 - accuracy: 0.9567 - val_loss: 0.5451 - val_accuracy: 0.8800\n",
      "Epoch 25/50\n",
      "19/19 [==============================] - 0s 5ms/step - loss: 0.2980 - accuracy: 0.9583 - val_loss: 0.5383 - val_accuracy: 0.8800\n",
      "Epoch 26/50\n",
      "19/19 [==============================] - 0s 5ms/step - loss: 0.2753 - accuracy: 0.9683 - val_loss: 0.5328 - val_accuracy: 0.8800\n",
      "Epoch 27/50\n",
      "19/19 [==============================] - 0s 5ms/step - loss: 0.2766 - accuracy: 0.9583 - val_loss: 0.5258 - val_accuracy: 0.8800\n",
      "Epoch 28/50\n",
      "19/19 [==============================] - 0s 5ms/step - loss: 0.2532 - accuracy: 0.9750 - val_loss: 0.5203 - val_accuracy: 0.8867\n",
      "Epoch 29/50\n",
      "19/19 [==============================] - 0s 5ms/step - loss: 0.2441 - accuracy: 0.9750 - val_loss: 0.5147 - val_accuracy: 0.8867\n",
      "Epoch 30/50\n",
      "19/19 [==============================] - 0s 4ms/step - loss: 0.2177 - accuracy: 0.9783 - val_loss: 0.5101 - val_accuracy: 0.8867\n",
      "Epoch 31/50\n",
      "19/19 [==============================] - 0s 4ms/step - loss: 0.2282 - accuracy: 0.9717 - val_loss: 0.5053 - val_accuracy: 0.8800\n",
      "Epoch 32/50\n",
      "19/19 [==============================] - 0s 4ms/step - loss: 0.2060 - accuracy: 0.9817 - val_loss: 0.5026 - val_accuracy: 0.8733\n",
      "Epoch 33/50\n",
      "19/19 [==============================] - 0s 4ms/step - loss: 0.1848 - accuracy: 0.9850 - val_loss: 0.5018 - val_accuracy: 0.8733\n",
      "Epoch 34/50\n",
      "19/19 [==============================] - 0s 5ms/step - loss: 0.1987 - accuracy: 0.9800 - val_loss: 0.4999 - val_accuracy: 0.8733\n",
      "Epoch 35/50\n",
      "19/19 [==============================] - 0s 4ms/step - loss: 0.1765 - accuracy: 0.9850 - val_loss: 0.4991 - val_accuracy: 0.8667\n",
      "Epoch 36/50\n",
      "19/19 [==============================] - 0s 5ms/step - loss: 0.1633 - accuracy: 0.9900 - val_loss: 0.4958 - val_accuracy: 0.8667\n",
      "Epoch 37/50\n",
      "19/19 [==============================] - 0s 4ms/step - loss: 0.1617 - accuracy: 0.9917 - val_loss: 0.4939 - val_accuracy: 0.8667\n",
      "Epoch 38/50\n",
      "19/19 [==============================] - 0s 4ms/step - loss: 0.1553 - accuracy: 0.9867 - val_loss: 0.4948 - val_accuracy: 0.8667\n",
      "Epoch 39/50\n",
      "19/19 [==============================] - 0s 4ms/step - loss: 0.1529 - accuracy: 0.9883 - val_loss: 0.4938 - val_accuracy: 0.8667\n",
      "Epoch 40/50\n",
      "19/19 [==============================] - 0s 4ms/step - loss: 0.1439 - accuracy: 0.9900 - val_loss: 0.4923 - val_accuracy: 0.8667\n",
      "Epoch 41/50\n",
      "19/19 [==============================] - 0s 5ms/step - loss: 0.1405 - accuracy: 0.9883 - val_loss: 0.4923 - val_accuracy: 0.8667\n",
      "Epoch 42/50\n",
      "19/19 [==============================] - 0s 4ms/step - loss: 0.1355 - accuracy: 0.9917 - val_loss: 0.4912 - val_accuracy: 0.8667\n",
      "Epoch 43/50\n",
      "19/19 [==============================] - 0s 4ms/step - loss: 0.1185 - accuracy: 0.9917 - val_loss: 0.4899 - val_accuracy: 0.8667\n",
      "Epoch 44/50\n",
      "19/19 [==============================] - 0s 4ms/step - loss: 0.1405 - accuracy: 0.9900 - val_loss: 0.4856 - val_accuracy: 0.8667\n",
      "Epoch 45/50\n",
      "19/19 [==============================] - 0s 4ms/step - loss: 0.1079 - accuracy: 0.9983 - val_loss: 0.4842 - val_accuracy: 0.8667\n",
      "Epoch 46/50\n",
      "19/19 [==============================] - 0s 4ms/step - loss: 0.1119 - accuracy: 0.9950 - val_loss: 0.4827 - val_accuracy: 0.8667\n",
      "Epoch 47/50\n",
      "19/19 [==============================] - 0s 4ms/step - loss: 0.1093 - accuracy: 0.9983 - val_loss: 0.4827 - val_accuracy: 0.8667\n",
      "Epoch 48/50\n",
      "19/19 [==============================] - 0s 4ms/step - loss: 0.1033 - accuracy: 0.9967 - val_loss: 0.4824 - val_accuracy: 0.8667\n",
      "Epoch 49/50\n",
      "19/19 [==============================] - 0s 4ms/step - loss: 0.1015 - accuracy: 0.9967 - val_loss: 0.4831 - val_accuracy: 0.8667\n",
      "Epoch 50/50\n",
      "19/19 [==============================] - 0s 4ms/step - loss: 0.1001 - accuracy: 0.9983 - val_loss: 0.4817 - val_accuracy: 0.8667\n"
     ]
    }
   ],
   "source": [
    "train = model.fit(x_train, y_train,\n",
    "                  epochs=50,\n",
    "                  validation_split=0.2)"
   ]
  },
  {
   "cell_type": "code",
   "execution_count": 11,
   "metadata": {},
   "outputs": [
    {
     "name": "stdout",
     "output_type": "stream",
     "text": [
      "8/8 [==============================] - 0s 1ms/step - loss: 0.4256 - accuracy: 0.8760\n"
     ]
    },
    {
     "data": {
      "text/plain": [
       "[0.4256240129470825, 0.8759999871253967]"
      ]
     },
     "execution_count": 11,
     "metadata": {},
     "output_type": "execute_result"
    }
   ],
   "source": [
    "model.evaluate(x_test, y_test)"
   ]
  }
 ],
 "metadata": {
  "interpreter": {
   "hash": "a077222d77dfe082b8f1dd562ad70e458ac2ab76993a0b248ab0476e32e9e8dd"
  },
  "kernelspec": {
   "display_name": "Python 3.9.7 ('base')",
   "language": "python",
   "name": "python3"
  },
  "language_info": {
   "codemirror_mode": {
    "name": "ipython",
    "version": 3
   },
   "file_extension": ".py",
   "mimetype": "text/x-python",
   "name": "python",
   "nbconvert_exporter": "python",
   "pygments_lexer": "ipython3",
   "version": "3.10.6"
  }
 },
 "nbformat": 4,
 "nbformat_minor": 4
}
