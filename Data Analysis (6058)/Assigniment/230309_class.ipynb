{
 "cells": [
  {
   "cell_type": "code",
   "execution_count": 1,
   "metadata": {},
   "outputs": [],
   "source": [
    "import numpy as np\n",
    "import matplotlib.pyplot as plt\n",
    "import pandas as pd"
   ]
  },
  {
   "attachments": {},
   "cell_type": "markdown",
   "metadata": {
    "tags": []
   },
   "source": [
    "## 取得資料"
   ]
  },
  {
   "cell_type": "code",
   "execution_count": 2,
   "metadata": {},
   "outputs": [
    {
     "data": {
      "text/plain": [
       "(1000, 784)"
      ]
     },
     "execution_count": 2,
     "metadata": {},
     "output_type": "execute_result"
    }
   ],
   "source": [
    "data = pd.read_csv('mnist.csv')\n",
    "x = np.array(data)[:, :784]\n",
    "x.shape"
   ]
  },
  {
   "cell_type": "code",
   "execution_count": 3,
   "metadata": {},
   "outputs": [
    {
     "data": {
      "image/png": "[encoded data removed]",
      "text/plain": [
       "<Figure size 640x480 with 1 Axes>"
      ]
     },
     "metadata": {},
     "output_type": "display_data"
    }
   ],
   "source": [
    "i = 0\n",
    "xi_image = x[i].reshape(28, 28)\n",
    "plt.imshow(xi_image, cmap='binary')\n",
    "plt.show()"
   ]
  },
  {
   "cell_type": "code",
   "execution_count": 4,
   "metadata": {},
   "outputs": [
    {
     "data": {
      "text/plain": [
       "array([ 97, 116,  99,  93, 105,  92,  94, 117,  87, 100])"
      ]
     },
     "execution_count": 4,
     "metadata": {},
     "output_type": "execute_result"
    }
   ],
   "source": [
    "y = np.array(data)[:, 784]\n",
    "np.bincount(y)"
   ]
  },
  {
   "attachments": {},
   "cell_type": "markdown",
   "metadata": {},
   "source": [
    "## Split Data"
   ]
  },
  {
   "cell_type": "code",
   "execution_count": 5,
   "metadata": {},
   "outputs": [
    {
     "name": "stdout",
     "output_type": "stream",
     "text": [
      "(750, 784) (250, 784)\n"
     ]
    }
   ],
   "source": [
    "from sklearn.model_selection import train_test_split\n",
    "x_train, x_test, y_train, y_test =  train_test_split(x, y, random_state = 1)\n",
    "print(x_train.shape, x_test.shape)\n",
    "# Preprocessing\n",
    "x_train = x_train/255\n",
    "x_test = x_test/255\n"
   ]
  },
  {
   "cell_type": "code",
   "execution_count": 6,
   "metadata": {},
   "outputs": [
    {
     "name": "stderr",
     "output_type": "stream",
     "text": [
      "2023-03-09 15:41:29.968533: I tensorflow/core/platform/cpu_feature_guard.cc:193] This TensorFlow binary is optimized with oneAPI Deep Neural Network Library (oneDNN) to use the following CPU instructions in performance-critical operations:  AVX2 FMA\n",
      "To enable them in other operations, rebuild TensorFlow with the appropriate compiler flags.\n",
      "2023-03-09 15:41:30.472652: W tensorflow/compiler/xla/stream_executor/platform/default/dso_loader.cc:64] Could not load dynamic library 'libnvinfer.so.7'; dlerror: libnvinfer.so.7: cannot open shared object file: No such file or directory; LD_LIBRARY_PATH: :/usr/local/cuda-11.7/lib64:/usr/local/cuda-11.7/extras/CUPTI/lib64\n",
      "2023-03-09 15:41:30.472708: W tensorflow/compiler/xla/stream_executor/platform/default/dso_loader.cc:64] Could not load dynamic library 'libnvinfer_plugin.so.7'; dlerror: libnvinfer_plugin.so.7: cannot open shared object file: No such file or directory; LD_LIBRARY_PATH: :/usr/local/cuda-11.7/lib64:/usr/local/cuda-11.7/extras/CUPTI/lib64\n",
      "2023-03-09 15:41:30.472714: W tensorflow/compiler/tf2tensorrt/utils/py_utils.cc:38] TF-TRT Warning: Cannot dlopen some TensorRT libraries. If you would like to use Nvidia GPU with TensorRT, please make sure the missing libraries mentioned above are installed properly.\n"
     ]
    }
   ],
   "source": [
    "import tensorflow as tf\n",
    "from tensorflow import keras\n",
    "from tensorflow.keras.models import Sequential\n",
    "from tensorflow.keras.layers import Dense\n",
    "from tensorflow.keras.optimizers import SGD\n",
    "\n",
    "gpus = tf.config.experimental.list_physical_devices('GPU')\n",
    "if gpus:\n",
    "  try:\n",
    "    tf.config.experimental.set_virtual_device_configuration(\n",
    "        gpus[0],[tf.config.experimental.VirtualDeviceConfiguration(memory_limit=4096)])\n",
    "  except RuntimeError as e:\n",
    "    print(e)\n",
    "\n",
    "keras.backend.clear_session()\n",
    "np.random.seed(1)\n",
    "tf.random.set_seed(1)"
   ]
  },
  {
   "cell_type": "code",
   "execution_count": 7,
   "metadata": {},
   "outputs": [
    {
     "name": "stderr",
     "output_type": "stream",
     "text": [
      "2023-03-09 15:41:31.053546: I tensorflow/core/platform/cpu_feature_guard.cc:193] This TensorFlow binary is optimized with oneAPI Deep Neural Network Library (oneDNN) to use the following CPU instructions in performance-critical operations:  AVX2 FMA\n",
      "To enable them in other operations, rebuild TensorFlow with the appropriate compiler flags.\n",
      "2023-03-09 15:41:31.385986: I tensorflow/core/common_runtime/gpu/gpu_device.cc:1613] Created device /job:localhost/replica:0/task:0/device:GPU:0 with 4096 MB memory:  -> device: 0, name: NVIDIA GeForce RTX 3080, pci bus id: 0000:01:00.0, compute capability: 8.6\n"
     ]
    }
   ],
   "source": [
    "model = keras.models.Sequential([\n",
    "    keras.layers.BatchNormalization(),\n",
    "    keras.layers.Dense(units=300, use_bias=False, kernel_initializer='glorot_normal'),\n",
    "    keras.layers.BatchNormalization(),\n",
    "    keras.layers.Activation('tanh'),\n",
    "    keras.layers.Dense(units=200,kernel_initializer='he_normal', use_bias=False),\n",
    "    keras.layers.BatchNormalization(),\n",
    "    keras.layers.LeakyReLU(alpha=.01),\n",
    "    keras.layers.Dense(units=100, kernel_initializer='he_normal', use_bias=False),\n",
    "    keras.layers.BatchNormalization(),\n",
    "    keras.layers.PReLU(),  \n",
    "    keras.layers.Dense(units=10, activation='softmax', kernel_initializer='glorot_uniform')\n",
    "])"
   ]
  },
  {
   "cell_type": "code",
   "execution_count": 8,
   "metadata": {},
   "outputs": [],
   "source": [
    "# model.summary()"
   ]
  },
  {
   "cell_type": "code",
   "execution_count": 9,
   "metadata": {},
   "outputs": [],
   "source": [
    "opt = keras.optimizers.SGD(clipnorm=0.9)\n",
    "model.compile(loss='sparse_categorical_crossentropy', \n",
    "              optimizer=opt,\n",
    "              metrics=['accuracy'])"
   ]
  },
  {
   "cell_type": "code",
   "execution_count": 10,
   "metadata": {},
   "outputs": [
    {
     "name": "stdout",
     "output_type": "stream",
     "text": [
      "Epoch 1/50\n"
     ]
    },
    {
     "name": "stderr",
     "output_type": "stream",
     "text": [
      "2023-03-09 15:41:33.309765: I tensorflow/compiler/xla/stream_executor/cuda/cuda_blas.cc:630] TensorFloat-32 will be used for the matrix multiplication. This will only be logged once.\n",
      "2023-03-09 15:41:33.312536: I tensorflow/compiler/xla/service/service.cc:173] XLA service 0x7f7a5b42e790 initialized for platform CUDA (this does not guarantee that XLA will be used). Devices:\n",
      "2023-03-09 15:41:33.312548: I tensorflow/compiler/xla/service/service.cc:181]   StreamExecutor device (0): NVIDIA GeForce RTX 3080, Compute Capability 8.6\n",
      "2023-03-09 15:41:33.342165: I tensorflow/compiler/jit/xla_compilation_cache.cc:477] Compiled cluster using XLA!  This line is logged at most once for the lifetime of the process.\n"
     ]
    },
    {
     "name": "stdout",
     "output_type": "stream",
     "text": [
      "19/19 [==============================] - 2s 12ms/step - loss: 2.5511 - accuracy: 0.1167 - val_loss: 2.3159 - val_accuracy: 0.1267\n",
      "Epoch 2/50\n",
      "19/19 [==============================] - 0s 4ms/step - loss: 2.1804 - accuracy: 0.2383 - val_loss: 2.1567 - val_accuracy: 0.2133\n",
      "Epoch 3/50\n",
      "19/19 [==============================] - 0s 4ms/step - loss: 1.9092 - accuracy: 0.3833 - val_loss: 1.9923 - val_accuracy: 0.3800\n",
      "Epoch 4/50\n",
      "19/19 [==============================] - 0s 5ms/step - loss: 1.6381 - accuracy: 0.5017 - val_loss: 1.8213 - val_accuracy: 0.5133\n",
      "Epoch 5/50\n",
      "19/19 [==============================] - 0s 5ms/step - loss: 1.4285 - accuracy: 0.5767 - val_loss: 1.6537 - val_accuracy: 0.6000\n",
      "Epoch 6/50\n",
      "19/19 [==============================] - 0s 5ms/step - loss: 1.2733 - accuracy: 0.6483 - val_loss: 1.4909 - val_accuracy: 0.6733\n",
      "Epoch 7/50\n",
      "19/19 [==============================] - 0s 4ms/step - loss: 1.1114 - accuracy: 0.7317 - val_loss: 1.3416 - val_accuracy: 0.7200\n",
      "Epoch 8/50\n",
      "19/19 [==============================] - 0s 4ms/step - loss: 1.0154 - accuracy: 0.7700 - val_loss: 1.2093 - val_accuracy: 0.7467\n",
      "Epoch 9/50\n",
      "19/19 [==============================] - 0s 4ms/step - loss: 0.9083 - accuracy: 0.8050 - val_loss: 1.0953 - val_accuracy: 0.7800\n",
      "Epoch 10/50\n",
      "19/19 [==============================] - 0s 4ms/step - loss: 0.8509 - accuracy: 0.8183 - val_loss: 1.0019 - val_accuracy: 0.7933\n",
      "Epoch 11/50\n",
      "19/19 [==============================] - 0s 5ms/step - loss: 0.7563 - accuracy: 0.8483 - val_loss: 0.9203 - val_accuracy: 0.8067\n",
      "Epoch 12/50\n",
      "19/19 [==============================] - 0s 7ms/step - loss: 0.6920 - accuracy: 0.8517 - val_loss: 0.8511 - val_accuracy: 0.8067\n",
      "Epoch 13/50\n",
      "19/19 [==============================] - 0s 6ms/step - loss: 0.6532 - accuracy: 0.8667 - val_loss: 0.7950 - val_accuracy: 0.8200\n",
      "Epoch 14/50\n",
      "19/19 [==============================] - 0s 5ms/step - loss: 0.6078 - accuracy: 0.8733 - val_loss: 0.7463 - val_accuracy: 0.8333\n",
      "Epoch 15/50\n",
      "19/19 [==============================] - 0s 5ms/step - loss: 0.5691 - accuracy: 0.8833 - val_loss: 0.7062 - val_accuracy: 0.8467\n",
      "Epoch 16/50\n",
      "19/19 [==============================] - 0s 4ms/step - loss: 0.5224 - accuracy: 0.9067 - val_loss: 0.6725 - val_accuracy: 0.8400\n",
      "Epoch 17/50\n",
      "19/19 [==============================] - 0s 6ms/step - loss: 0.4878 - accuracy: 0.9133 - val_loss: 0.6418 - val_accuracy: 0.8467\n",
      "Epoch 18/50\n",
      "19/19 [==============================] - 0s 7ms/step - loss: 0.4554 - accuracy: 0.9250 - val_loss: 0.6168 - val_accuracy: 0.8467\n",
      "Epoch 19/50\n",
      "19/19 [==============================] - 0s 6ms/step - loss: 0.4158 - accuracy: 0.9333 - val_loss: 0.5911 - val_accuracy: 0.8467\n",
      "Epoch 20/50\n",
      "19/19 [==============================] - 0s 6ms/step - loss: 0.3944 - accuracy: 0.9400 - val_loss: 0.5711 - val_accuracy: 0.8600\n",
      "Epoch 21/50\n",
      "19/19 [==============================] - 0s 6ms/step - loss: 0.3788 - accuracy: 0.9383 - val_loss: 0.5528 - val_accuracy: 0.8733\n",
      "Epoch 22/50\n",
      "19/19 [==============================] - 0s 5ms/step - loss: 0.3466 - accuracy: 0.9467 - val_loss: 0.5364 - val_accuracy: 0.8800\n",
      "Epoch 23/50\n",
      "19/19 [==============================] - 0s 5ms/step - loss: 0.3131 - accuracy: 0.9583 - val_loss: 0.5233 - val_accuracy: 0.8800\n",
      "Epoch 24/50\n",
      "19/19 [==============================] - 0s 4ms/step - loss: 0.3149 - accuracy: 0.9517 - val_loss: 0.5098 - val_accuracy: 0.8800\n",
      "Epoch 25/50\n",
      "19/19 [==============================] - 0s 4ms/step - loss: 0.3073 - accuracy: 0.9583 - val_loss: 0.5003 - val_accuracy: 0.8800\n",
      "Epoch 26/50\n",
      "19/19 [==============================] - 0s 4ms/step - loss: 0.2769 - accuracy: 0.9717 - val_loss: 0.4910 - val_accuracy: 0.8800\n",
      "Epoch 27/50\n",
      "19/19 [==============================] - 0s 4ms/step - loss: 0.2748 - accuracy: 0.9617 - val_loss: 0.4827 - val_accuracy: 0.8800\n",
      "Epoch 28/50\n",
      "19/19 [==============================] - 0s 5ms/step - loss: 0.2553 - accuracy: 0.9683 - val_loss: 0.4769 - val_accuracy: 0.8800\n",
      "Epoch 29/50\n",
      "19/19 [==============================] - 0s 4ms/step - loss: 0.2327 - accuracy: 0.9750 - val_loss: 0.4696 - val_accuracy: 0.8800\n",
      "Epoch 30/50\n",
      "19/19 [==============================] - 0s 4ms/step - loss: 0.2175 - accuracy: 0.9783 - val_loss: 0.4640 - val_accuracy: 0.8800\n",
      "Epoch 31/50\n",
      "19/19 [==============================] - 0s 5ms/step - loss: 0.2103 - accuracy: 0.9850 - val_loss: 0.4584 - val_accuracy: 0.8733\n",
      "Epoch 32/50\n",
      "19/19 [==============================] - 0s 7ms/step - loss: 0.2048 - accuracy: 0.9850 - val_loss: 0.4528 - val_accuracy: 0.8733\n",
      "Epoch 33/50\n",
      "19/19 [==============================] - 0s 6ms/step - loss: 0.1797 - accuracy: 0.9850 - val_loss: 0.4519 - val_accuracy: 0.8733\n",
      "Epoch 34/50\n",
      "19/19 [==============================] - 0s 5ms/step - loss: 0.2005 - accuracy: 0.9817 - val_loss: 0.4470 - val_accuracy: 0.8733\n",
      "Epoch 35/50\n",
      "19/19 [==============================] - 0s 5ms/step - loss: 0.1767 - accuracy: 0.9850 - val_loss: 0.4442 - val_accuracy: 0.8733\n",
      "Epoch 36/50\n",
      "19/19 [==============================] - 0s 5ms/step - loss: 0.1571 - accuracy: 0.9900 - val_loss: 0.4419 - val_accuracy: 0.8733\n",
      "Epoch 37/50\n",
      "19/19 [==============================] - 0s 5ms/step - loss: 0.1526 - accuracy: 0.9950 - val_loss: 0.4402 - val_accuracy: 0.8733\n",
      "Epoch 38/50\n",
      "19/19 [==============================] - 0s 5ms/step - loss: 0.1519 - accuracy: 0.9967 - val_loss: 0.4389 - val_accuracy: 0.8733\n",
      "Epoch 39/50\n",
      "19/19 [==============================] - 0s 6ms/step - loss: 0.1435 - accuracy: 0.9933 - val_loss: 0.4356 - val_accuracy: 0.8667\n",
      "Epoch 40/50\n",
      "19/19 [==============================] - 0s 10ms/step - loss: 0.1266 - accuracy: 0.9967 - val_loss: 0.4330 - val_accuracy: 0.8667\n",
      "Epoch 41/50\n",
      "19/19 [==============================] - 0s 4ms/step - loss: 0.1327 - accuracy: 0.9933 - val_loss: 0.4314 - val_accuracy: 0.8667\n",
      "Epoch 42/50\n",
      "19/19 [==============================] - 0s 5ms/step - loss: 0.1243 - accuracy: 0.9900 - val_loss: 0.4290 - val_accuracy: 0.8667\n",
      "Epoch 43/50\n",
      "19/19 [==============================] - 0s 6ms/step - loss: 0.1092 - accuracy: 0.9967 - val_loss: 0.4252 - val_accuracy: 0.8667\n",
      "Epoch 44/50\n",
      "19/19 [==============================] - 0s 7ms/step - loss: 0.1196 - accuracy: 1.0000 - val_loss: 0.4221 - val_accuracy: 0.8667\n",
      "Epoch 45/50\n",
      "19/19 [==============================] - 0s 6ms/step - loss: 0.0978 - accuracy: 1.0000 - val_loss: 0.4190 - val_accuracy: 0.8667\n",
      "Epoch 46/50\n",
      "19/19 [==============================] - 0s 5ms/step - loss: 0.0972 - accuracy: 0.9967 - val_loss: 0.4187 - val_accuracy: 0.8667\n",
      "Epoch 47/50\n",
      "19/19 [==============================] - 0s 5ms/step - loss: 0.1031 - accuracy: 0.9967 - val_loss: 0.4158 - val_accuracy: 0.8667\n",
      "Epoch 48/50\n",
      "19/19 [==============================] - 0s 5ms/step - loss: 0.0953 - accuracy: 0.9933 - val_loss: 0.4163 - val_accuracy: 0.8667\n",
      "Epoch 49/50\n",
      "19/19 [==============================] - 0s 5ms/step - loss: 0.0890 - accuracy: 0.9967 - val_loss: 0.4162 - val_accuracy: 0.8667\n",
      "Epoch 50/50\n",
      "19/19 [==============================] - 0s 5ms/step - loss: 0.0884 - accuracy: 0.9983 - val_loss: 0.4138 - val_accuracy: 0.8667\n"
     ]
    }
   ],
   "source": [
    "train = model.fit(x_train, y_train,\n",
    "                  epochs=50,\n",
    "                  validation_split=0.2)"
   ]
  },
  {
   "cell_type": "code",
   "execution_count": 11,
   "metadata": {},
   "outputs": [
    {
     "name": "stdout",
     "output_type": "stream",
     "text": [
      "8/8 [==============================] - 0s 1ms/step - loss: 0.4498 - accuracy: 0.8760\n"
     ]
    },
    {
     "data": {
      "text/plain": [
       "[0.44977855682373047, 0.8759999871253967]"
      ]
     },
     "execution_count": 11,
     "metadata": {},
     "output_type": "execute_result"
    }
   ],
   "source": [
    "model.evaluate(x_test, y_test)"
   ]
  }
 ],
 "metadata": {
  "interpreter": {
   "hash": "a077222d77dfe082b8f1dd562ad70e458ac2ab76993a0b248ab0476e32e9e8dd"
  },
  "kernelspec": {
   "display_name": "Python 3.9.7 ('base')",
   "language": "python",
   "name": "python3"
  },
  "language_info": {
   "codemirror_mode": {
    "name": "ipython",
    "version": 3
   },
   "file_extension": ".py",
   "mimetype": "text/x-python",
   "name": "python",
   "nbconvert_exporter": "python",
   "pygments_lexer": "ipython3",
   "version": "3.10.6"
  }
 },
 "nbformat": 4,
 "nbformat_minor": 4
}
