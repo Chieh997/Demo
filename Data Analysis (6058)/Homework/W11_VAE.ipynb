{
 "cells": [
  {
   "attachments": {},
   "cell_type": "markdown",
   "metadata": {},
   "source": [
    "# DL(w11) VAE\n",
    "student ID: 7110018036\\\n",
    "name: Chieh-An, Chou"
   ]
  },
  {
   "cell_type": "code",
   "execution_count": 1,
   "metadata": {},
   "outputs": [
    {
     "name": "stderr",
     "output_type": "stream",
     "text": [
      "2023-05-16 20:34:45.753284: I tensorflow/core/platform/cpu_feature_guard.cc:193] This TensorFlow binary is optimized with oneAPI Deep Neural Network Library (oneDNN) to use the following CPU instructions in performance-critical operations:  AVX2 FMA\n",
      "To enable them in other operations, rebuild TensorFlow with the appropriate compiler flags.\n"
     ]
    }
   ],
   "source": [
    "import numpy as np\n",
    "import pandas as pd\n",
    "import tensorflow as tf\n",
    "from tensorflow import keras\n",
    "import matplotlib.pyplot as plt"
   ]
  },
  {
   "attachments": {},
   "cell_type": "markdown",
   "metadata": {},
   "source": [
    "## Data"
   ]
  },
  {
   "cell_type": "code",
   "execution_count": 2,
   "metadata": {},
   "outputs": [],
   "source": [
    "from tensorflow.keras.datasets import fashion_mnist\n",
    "(x_train_set, y_train_set), (x_test, y_test) = fashion_mnist.load_data()\n",
    "\n",
    "x_train_set = x_train_set/255.0\n",
    "x_test = x_test/255.0"
   ]
  },
  {
   "cell_type": "code",
   "execution_count": 3,
   "metadata": {},
   "outputs": [
    {
     "data": {
      "text/plain": [
       "((60000, 28, 28), (60000,), (10000, 28, 28), (10000,))"
      ]
     },
     "execution_count": 3,
     "metadata": {},
     "output_type": "execute_result"
    }
   ],
   "source": [
    "# (check data)\n",
    "x_train_set.shape, y_train_set.shape, x_test.shape, y_test.shape"
   ]
  },
  {
   "cell_type": "code",
   "execution_count": 4,
   "metadata": {},
   "outputs": [
    {
     "name": "stdout",
     "output_type": "stream",
     "text": [
      "2\n"
     ]
    },
    {
     "data": {
      "image/png": "[encoded data removed]",
      "text/plain": [
       "<Figure size 640x480 with 1 Axes>"
      ]
     },
     "metadata": {},
     "output_type": "display_data"
    }
   ],
   "source": [
    "i = 5\n",
    "print(y_train_set[i])\n",
    "plt.imshow(x_train_set[i], cmap='binary')\n",
    "plt.show()"
   ]
  },
  {
   "cell_type": "code",
   "execution_count": 5,
   "metadata": {},
   "outputs": [],
   "source": [
    "# Split data\n",
    "from sklearn.model_selection import train_test_split\n",
    "x_train, x_valid, y_train, y_valid = train_test_split(x_train_set, y_train_set, random_state = 1)"
   ]
  },
  {
   "attachments": {},
   "cell_type": "markdown",
   "metadata": {},
   "source": [
    "## Variational Autoencoder"
   ]
  },
  {
   "attachments": {},
   "cell_type": "markdown",
   "metadata": {},
   "source": [
    "### 1. Build Model\n",
    "\n",
    "Sampling Layer: coding $\\mu$ and $\\log\\mathbf{\\sigma}^2$ -> sampling\n",
    "+ $\\sigma = \\exp(\\log\\mathbf{\\sigma}^2/2)$, 使用log因其在訓練上更有效率\n",
    "+ $\\mathbf{z}=\\mathbf{\\mu}+ \\mathbf{\\epsilon}\\otimes\\exp(\\log\\mathbf{\\sigma}^2/2)$"
   ]
  },
  {
   "cell_type": "code",
   "execution_count": 6,
   "metadata": {},
   "outputs": [],
   "source": [
    "class Sampling(keras.layers.Layer):\n",
    "    def call(self, inputs):\n",
    "        mean, log_var = inputs\n",
    "        e = tf.random.normal(tf.shape(log_var))\n",
    "        return mean + e*tf.math.exp(log_var / 2)  "
   ]
  },
  {
   "cell_type": "code",
   "execution_count": 7,
   "metadata": {},
   "outputs": [],
   "source": [
    "keras.backend.clear_session()\n",
    "np.random.seed(1)\n",
    "tf.random.set_seed(1)"
   ]
  },
  {
   "cell_type": "code",
   "execution_count": 8,
   "metadata": {},
   "outputs": [
    {
     "name": "stderr",
     "output_type": "stream",
     "text": [
      "2023-05-16 20:34:47.872664: I tensorflow/compiler/xla/stream_executor/cuda/cuda_gpu_executor.cc:981] successful NUMA node read from SysFS had negative value (-1), but there must be at least one NUMA node, so returning NUMA node zero\n",
      "2023-05-16 20:34:47.895970: I tensorflow/compiler/xla/stream_executor/cuda/cuda_gpu_executor.cc:981] successful NUMA node read from SysFS had negative value (-1), but there must be at least one NUMA node, so returning NUMA node zero\n",
      "2023-05-16 20:34:47.896077: I tensorflow/compiler/xla/stream_executor/cuda/cuda_gpu_executor.cc:981] successful NUMA node read from SysFS had negative value (-1), but there must be at least one NUMA node, so returning NUMA node zero\n",
      "2023-05-16 20:34:47.896386: I tensorflow/core/platform/cpu_feature_guard.cc:193] This TensorFlow binary is optimized with oneAPI Deep Neural Network Library (oneDNN) to use the following CPU instructions in performance-critical operations:  AVX2 FMA\n",
      "To enable them in other operations, rebuild TensorFlow with the appropriate compiler flags.\n",
      "2023-05-16 20:34:47.897016: I tensorflow/compiler/xla/stream_executor/cuda/cuda_gpu_executor.cc:981] successful NUMA node read from SysFS had negative value (-1), but there must be at least one NUMA node, so returning NUMA node zero\n",
      "2023-05-16 20:34:47.897100: I tensorflow/compiler/xla/stream_executor/cuda/cuda_gpu_executor.cc:981] successful NUMA node read from SysFS had negative value (-1), but there must be at least one NUMA node, so returning NUMA node zero\n",
      "2023-05-16 20:34:47.897169: I tensorflow/compiler/xla/stream_executor/cuda/cuda_gpu_executor.cc:981] successful NUMA node read from SysFS had negative value (-1), but there must be at least one NUMA node, so returning NUMA node zero\n",
      "2023-05-16 20:34:48.236369: I tensorflow/compiler/xla/stream_executor/cuda/cuda_gpu_executor.cc:981] successful NUMA node read from SysFS had negative value (-1), but there must be at least one NUMA node, so returning NUMA node zero\n",
      "2023-05-16 20:34:48.236479: I tensorflow/compiler/xla/stream_executor/cuda/cuda_gpu_executor.cc:981] successful NUMA node read from SysFS had negative value (-1), but there must be at least one NUMA node, so returning NUMA node zero\n",
      "2023-05-16 20:34:48.236554: I tensorflow/compiler/xla/stream_executor/cuda/cuda_gpu_executor.cc:981] successful NUMA node read from SysFS had negative value (-1), but there must be at least one NUMA node, so returning NUMA node zero\n",
      "2023-05-16 20:34:48.236620: I tensorflow/core/common_runtime/gpu/gpu_device.cc:1613] Created device /job:localhost/replica:0/task:0/device:GPU:0 with 6213 MB memory:  -> device: 0, name: NVIDIA GeForce RTX 3080, pci bus id: 0000:01:00.0, compute capability: 8.6\n"
     ]
    }
   ],
   "source": [
    "d = 10\n",
    "\n",
    "# functional API \n",
    "in_en = keras.layers.Input(shape=[28, 28])\n",
    "c = keras.layers.Flatten()(in_en)\n",
    "c = keras.layers.Dense(150, activation=\"selu\")(c)\n",
    "c = keras.layers.Dense(100, activation=\"selu\")(c)\n",
    "# c need to be the inputs of c_mean and c_log_var at the same time.\n",
    "c_mean = keras.layers.Dense(d)(c)\n",
    "c_log_var = keras.layers.Dense(d)(c)\n",
    "out_en = Sampling()([c_mean, c_log_var])\n",
    "\n",
    "var_encoder = keras.models.Model(\n",
    "    inputs=[in_en], outputs=[out_en])"
   ]
  },
  {
   "attachments": {},
   "cell_type": "markdown",
   "metadata": {},
   "source": [
    "+ Latent Layer:\n",
    "    + coding $\\mu$: `dense_2` (<- `dense_1`)\n",
    "    + coding $\\log\\sigma^2$: `dense_3` (<- `dense_1`)\n",
    "    + Sampling: `Sampling` (<- `dense_2` & `dense_3`)"
   ]
  },
  {
   "cell_type": "code",
   "execution_count": 9,
   "metadata": {},
   "outputs": [
    {
     "name": "stdout",
     "output_type": "stream",
     "text": [
      "Model: \"model\"\n",
      "__________________________________________________________________________________________________\n",
      " Layer (type)                   Output Shape         Param #     Connected to                     \n",
      "==================================================================================================\n",
      " input_1 (InputLayer)           [(None, 28, 28)]     0           []                               \n",
      "                                                                                                  \n",
      " flatten (Flatten)              (None, 784)          0           ['input_1[0][0]']                \n",
      "                                                                                                  \n",
      " dense (Dense)                  (None, 150)          117750      ['flatten[0][0]']                \n",
      "                                                                                                  \n",
      " dense_1 (Dense)                (None, 100)          15100       ['dense[0][0]']                  \n",
      "                                                                                                  \n",
      " dense_2 (Dense)                (None, 10)           1010        ['dense_1[0][0]']                \n",
      "                                                                                                  \n",
      " dense_3 (Dense)                (None, 10)           1010        ['dense_1[0][0]']                \n",
      "                                                                                                  \n",
      " sampling (Sampling)            (None, 10)           0           ['dense_2[0][0]',                \n",
      "                                                                  'dense_3[0][0]']                \n",
      "                                                                                                  \n",
      "==================================================================================================\n",
      "Total params: 134,870\n",
      "Trainable params: 134,870\n",
      "Non-trainable params: 0\n",
      "__________________________________________________________________________________________________\n"
     ]
    }
   ],
   "source": [
    "var_encoder.summary()"
   ]
  },
  {
   "cell_type": "code",
   "execution_count": 10,
   "metadata": {},
   "outputs": [],
   "source": [
    "in_de = keras.layers.Input(shape=[d]) # from latent space\n",
    "x = keras.layers.Dense(100, activation=\"selu\")(in_de)\n",
    "x = keras.layers.Dense(150, activation=\"selu\")(x)\n",
    "x = keras.layers.Dense(28 * 28, activation=\"sigmoid\")(x)\n",
    "out_de = keras.layers.Reshape([28, 28])(x)\n",
    "\n",
    "var_decoder = keras.models.Model(inputs=[in_de], outputs=[out_de])"
   ]
  },
  {
   "cell_type": "code",
   "execution_count": 11,
   "metadata": {},
   "outputs": [
    {
     "name": "stdout",
     "output_type": "stream",
     "text": [
      "Model: \"model_1\"\n",
      "_________________________________________________________________\n",
      " Layer (type)                Output Shape              Param #   \n",
      "=================================================================\n",
      " input_2 (InputLayer)        [(None, 10)]              0         \n",
      "                                                                 \n",
      " dense_4 (Dense)             (None, 100)               1100      \n",
      "                                                                 \n",
      " dense_5 (Dense)             (None, 150)               15150     \n",
      "                                                                 \n",
      " dense_6 (Dense)             (None, 784)               118384    \n",
      "                                                                 \n",
      " reshape (Reshape)           (None, 28, 28)            0         \n",
      "                                                                 \n",
      "=================================================================\n",
      "Total params: 134,634\n",
      "Trainable params: 134,634\n",
      "Non-trainable params: 0\n",
      "_________________________________________________________________\n"
     ]
    }
   ],
   "source": [
    "var_decoder.summary()"
   ]
  },
  {
   "cell_type": "code",
   "execution_count": 12,
   "metadata": {},
   "outputs": [],
   "source": [
    "codings = var_encoder(in_en)\n",
    "rec = var_decoder(codings)\n",
    "\n",
    "var_ae = keras.models.Model(inputs=[in_en], outputs=[rec])"
   ]
  },
  {
   "cell_type": "code",
   "execution_count": 13,
   "metadata": {},
   "outputs": [
    {
     "name": "stdout",
     "output_type": "stream",
     "text": [
      "Model: \"model_2\"\n",
      "_________________________________________________________________\n",
      " Layer (type)                Output Shape              Param #   \n",
      "=================================================================\n",
      " input_1 (InputLayer)        [(None, 28, 28)]          0         \n",
      "                                                                 \n",
      " model (Functional)          (None, 10)                134870    \n",
      "                                                                 \n",
      " model_1 (Functional)        (None, 28, 28)            134634    \n",
      "                                                                 \n",
      "=================================================================\n",
      "Total params: 269,504\n",
      "Trainable params: 269,504\n",
      "Non-trainable params: 0\n",
      "_________________________________________________________________\n"
     ]
    }
   ],
   "source": [
    "var_ae.summary()"
   ]
  },
  {
   "attachments": {},
   "cell_type": "markdown",
   "metadata": {},
   "source": [
    "### 2. Compile"
   ]
  },
  {
   "cell_type": "code",
   "execution_count": 15,
   "metadata": {},
   "outputs": [],
   "source": [
    "D_KL = -0.5 * tf.math.reduce_sum(\n",
    "    1 + c_log_var - tf.math.exp(c_log_var) - tf.math.square(c_mean),\n",
    "    axis=1)\n",
    "latent_loss = tf.math.reduce_mean(D_KL) / 784.0 # to match the scale of binary_crossentropy\n",
    "var_ae.add_loss(latent_loss)\n",
    "\n",
    "def rounded_accuracy(y_true, y_pred):\n",
    "    return keras.metrics.binary_accuracy(tf.round(y_true), tf.round(y_pred)) # 0~1 -> 0,1\n",
    "\n",
    "var_ae.compile(loss=\"binary_crossentropy\",\n",
    "               optimizer=\"rmsprop\", \n",
    "               metrics=[rounded_accuracy])"
   ]
  },
  {
   "attachments": {},
   "cell_type": "markdown",
   "metadata": {},
   "source": [
    "### 3. Train "
   ]
  },
  {
   "cell_type": "code",
   "execution_count": 16,
   "metadata": {},
   "outputs": [
    {
     "name": "stdout",
     "output_type": "stream",
     "text": [
      "Epoch 1/20\n"
     ]
    },
    {
     "name": "stderr",
     "output_type": "stream",
     "text": [
      "2023-05-16 20:51:21.016551: I tensorflow/compiler/xla/stream_executor/cuda/cuda_blas.cc:630] TensorFloat-32 will be used for the matrix multiplication. This will only be logged once.\n",
      "2023-05-16 20:51:21.150000: I tensorflow/compiler/xla/service/service.cc:173] XLA service 0x562af952cb30 initialized for platform CUDA (this does not guarantee that XLA will be used). Devices:\n",
      "2023-05-16 20:51:21.150065: I tensorflow/compiler/xla/service/service.cc:181]   StreamExecutor device (0): NVIDIA GeForce RTX 3080, Compute Capability 8.6\n",
      "2023-05-16 20:51:21.195394: I tensorflow/compiler/mlir/tensorflow/utils/dump_mlir_util.cc:268] disabling MLIR crash reproducer, set env var `MLIR_CRASH_REPRODUCER_DIRECTORY` to enable.\n",
      "2023-05-16 20:51:21.521813: I tensorflow/compiler/jit/xla_compilation_cache.cc:477] Compiled cluster using XLA!  This line is logged at most once for the lifetime of the process.\n"
     ]
    },
    {
     "name": "stdout",
     "output_type": "stream",
     "text": [
      "176/176 [==============================] - 5s 13ms/step - loss: 0.4596 - rounded_accuracy: 0.7938 - val_loss: 0.3985 - val_rounded_accuracy: 0.8550\n",
      "Epoch 2/20\n",
      "176/176 [==============================] - 1s 8ms/step - loss: 0.3878 - rounded_accuracy: 0.8617 - val_loss: 0.3683 - val_rounded_accuracy: 0.8811\n",
      "Epoch 3/20\n",
      "176/176 [==============================] - 1s 3ms/step - loss: 0.3655 - rounded_accuracy: 0.8817 - val_loss: 0.3561 - val_rounded_accuracy: 0.8836\n",
      "Epoch 4/20\n",
      "176/176 [==============================] - 1s 3ms/step - loss: 0.3553 - rounded_accuracy: 0.8893 - val_loss: 0.3550 - val_rounded_accuracy: 0.8868\n",
      "Epoch 5/20\n",
      "176/176 [==============================] - 1s 3ms/step - loss: 0.3498 - rounded_accuracy: 0.8932 - val_loss: 0.3425 - val_rounded_accuracy: 0.9000\n",
      "Epoch 6/20\n",
      "176/176 [==============================] - 1s 3ms/step - loss: 0.3455 - rounded_accuracy: 0.8965 - val_loss: 0.3420 - val_rounded_accuracy: 0.9000\n",
      "Epoch 7/20\n",
      "176/176 [==============================] - 1s 3ms/step - loss: 0.3423 - rounded_accuracy: 0.8987 - val_loss: 0.3385 - val_rounded_accuracy: 0.8998\n",
      "Epoch 8/20\n",
      "176/176 [==============================] - 1s 3ms/step - loss: 0.3397 - rounded_accuracy: 0.9008 - val_loss: 0.3365 - val_rounded_accuracy: 0.9057\n",
      "Epoch 9/20\n",
      "176/176 [==============================] - 1s 4ms/step - loss: 0.3378 - rounded_accuracy: 0.9023 - val_loss: 0.3345 - val_rounded_accuracy: 0.9036\n",
      "Epoch 10/20\n",
      "176/176 [==============================] - 1s 3ms/step - loss: 0.3359 - rounded_accuracy: 0.9035 - val_loss: 0.3328 - val_rounded_accuracy: 0.9061\n",
      "Epoch 11/20\n",
      "176/176 [==============================] - 1s 4ms/step - loss: 0.3344 - rounded_accuracy: 0.9046 - val_loss: 0.3317 - val_rounded_accuracy: 0.9062\n",
      "Epoch 12/20\n",
      "176/176 [==============================] - 1s 3ms/step - loss: 0.3329 - rounded_accuracy: 0.9057 - val_loss: 0.3325 - val_rounded_accuracy: 0.9072\n",
      "Epoch 13/20\n",
      "176/176 [==============================] - 1s 3ms/step - loss: 0.3318 - rounded_accuracy: 0.9066 - val_loss: 0.3294 - val_rounded_accuracy: 0.9066\n",
      "Epoch 14/20\n",
      "176/176 [==============================] - 1s 3ms/step - loss: 0.3307 - rounded_accuracy: 0.9073 - val_loss: 0.3282 - val_rounded_accuracy: 0.9110\n",
      "Epoch 15/20\n",
      "176/176 [==============================] - 1s 5ms/step - loss: 0.3296 - rounded_accuracy: 0.9082 - val_loss: 0.3279 - val_rounded_accuracy: 0.9088\n",
      "Epoch 16/20\n",
      "176/176 [==============================] - 1s 3ms/step - loss: 0.3287 - rounded_accuracy: 0.9088 - val_loss: 0.3270 - val_rounded_accuracy: 0.9093\n",
      "Epoch 17/20\n",
      "176/176 [==============================] - 1s 4ms/step - loss: 0.3280 - rounded_accuracy: 0.9095 - val_loss: 0.3253 - val_rounded_accuracy: 0.9112\n",
      "Epoch 18/20\n",
      "176/176 [==============================] - 1s 4ms/step - loss: 0.3271 - rounded_accuracy: 0.9101 - val_loss: 0.3255 - val_rounded_accuracy: 0.9132\n",
      "Epoch 19/20\n",
      "176/176 [==============================] - 1s 6ms/step - loss: 0.3265 - rounded_accuracy: 0.9107 - val_loss: 0.3243 - val_rounded_accuracy: 0.9101\n",
      "Epoch 20/20\n",
      "176/176 [==============================] - 1s 4ms/step - loss: 0.3258 - rounded_accuracy: 0.9111 - val_loss: 0.3233 - val_rounded_accuracy: 0.9125\n"
     ]
    }
   ],
   "source": [
    "train = var_ae.fit(x_train, x_train, epochs=20, batch_size=256,\n",
    "                   validation_data=(x_valid, x_valid))"
   ]
  },
  {
   "cell_type": "code",
   "execution_count": 17,
   "metadata": {},
   "outputs": [
    {
     "data": {
      "image/png": "[encoded data removed]",
      "text/plain": [
       "<Figure size 640x480 with 1 Axes>"
      ]
     },
     "metadata": {},
     "output_type": "display_data"
    }
   ],
   "source": [
    "pd.DataFrame(train.history).plot()\n",
    "plt.grid(True)\n",
    "plt.show()"
   ]
  },
  {
   "attachments": {},
   "cell_type": "markdown",
   "metadata": {},
   "source": [
    "### 4. Evaluate"
   ]
  },
  {
   "cell_type": "code",
   "execution_count": 18,
   "metadata": {},
   "outputs": [
    {
     "name": "stdout",
     "output_type": "stream",
     "text": [
      "313/313 [==============================] - 0s 1ms/step - loss: 0.3263 - rounded_accuracy: 0.9110\n"
     ]
    },
    {
     "data": {
      "text/plain": [
       "[0.3262733221054077, 0.9110323786735535]"
      ]
     },
     "execution_count": 18,
     "metadata": {},
     "output_type": "execute_result"
    }
   ],
   "source": [
    "var_ae.evaluate(x_test, x_test)"
   ]
  },
  {
   "attachments": {},
   "cell_type": "markdown",
   "metadata": {},
   "source": [
    "### 5. Predict (Reconstruct)"
   ]
  },
  {
   "cell_type": "code",
   "execution_count": 19,
   "metadata": {},
   "outputs": [
    {
     "name": "stdout",
     "output_type": "stream",
     "text": [
      "313/313 [==============================] - 0s 961us/step\n"
     ]
    }
   ],
   "source": [
    "x_test_decoded = var_ae.predict(x_test)"
   ]
  },
  {
   "cell_type": "code",
   "execution_count": 20,
   "metadata": {},
   "outputs": [
    {
     "data": {
      "image/png": "[encoded data removed]",
      "text/plain": [
       "<Figure size 1000x400 with 10 Axes>"
      ]
     },
     "metadata": {},
     "output_type": "display_data"
    }
   ],
   "source": [
    "plt.figure(figsize=(10, 4))\n",
    "\n",
    "for i in range(5):\n",
    "    plt.subplot(2, 5, 1 + i)\n",
    "    plt.imshow(x_test[i], cmap='binary')\n",
    "    plt.title('Original')\n",
    "    plt.axis('off')\n",
    "\n",
    "    plt.subplot(2, 5, 1+ 5 + i)\n",
    "    plt.imshow(x_test_decoded[i], cmap='binary')\n",
    "    plt.title('Reconstructed')\n",
    "    plt.axis('off')\n",
    "plt.show()"
   ]
  },
  {
   "attachments": {},
   "cell_type": "markdown",
   "metadata": {},
   "source": [
    "## Generate Fashion Images"
   ]
  },
  {
   "cell_type": "code",
   "execution_count": 21,
   "metadata": {},
   "outputs": [],
   "source": [
    "tf.random.set_seed(1)\n",
    "\n",
    "random_codings = tf.random.normal(shape=[5, d])\n",
    "imgs = var_decoder(random_codings)"
   ]
  },
  {
   "cell_type": "code",
   "execution_count": 22,
   "metadata": {},
   "outputs": [
    {
     "data": {
      "image/png": "[encoded data removed]",
      "text/plain": [
       "<Figure size 1000x400 with 5 Axes>"
      ]
     },
     "metadata": {},
     "output_type": "display_data"
    }
   ],
   "source": [
    "plt.figure(figsize=(10, 4))\n",
    "for i in range(5):\n",
    "    plt.subplot(1, 5, 1 + i)\n",
    "    plt.imshow(imgs[i], cmap='binary')\n",
    "    plt.axis('off')\n",
    "plt.show()"
   ]
  }
 ],
 "metadata": {
  "kernelspec": {
   "display_name": "tf",
   "language": "python",
   "name": "python3"
  },
  "language_info": {
   "codemirror_mode": {
    "name": "ipython",
    "version": 3
   },
   "file_extension": ".py",
   "mimetype": "text/x-python",
   "name": "python",
   "nbconvert_exporter": "python",
   "pygments_lexer": "ipython3",
   "version": "3.10.6"
  },
  "orig_nbformat": 4
 },
 "nbformat": 4,
 "nbformat_minor": 2
}
