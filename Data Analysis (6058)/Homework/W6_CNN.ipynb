{
 "cells": [
  {
   "attachments": {},
   "cell_type": "markdown",
   "metadata": {},
   "source": [
    "# DL(w6) CNN\n",
    "student ID: 7110018036\\\n",
    "name: Chieh-An, Chou"
   ]
  },
  {
   "cell_type": "code",
   "execution_count": 1,
   "metadata": {},
   "outputs": [],
   "source": [
    "import numpy as np\n",
    "import pandas as pd\n",
    "import matplotlib.pyplot as plt"
   ]
  },
  {
   "attachments": {},
   "cell_type": "markdown",
   "metadata": {},
   "source": [
    "## Data"
   ]
  },
  {
   "cell_type": "code",
   "execution_count": 3,
   "metadata": {},
   "outputs": [],
   "source": [
    "from tensorflow.keras.datasets import cifar10\n",
    "(x_train, y_train), (x_test, y_test) = cifar10.load_data()"
   ]
  },
  {
   "cell_type": "markdown",
   "metadata": {},
   "source": [
    "### (check data)"
   ]
  },
  {
   "cell_type": "code",
   "execution_count": 4,
   "metadata": {},
   "outputs": [
    {
     "data": {
      "text/plain": [
       "((50000, 32, 32, 3), (50000, 1), (10000, 32, 32, 3), (10000, 1))"
      ]
     },
     "execution_count": 4,
     "metadata": {},
     "output_type": "execute_result"
    }
   ],
   "source": [
    "x_train.shape, y_train.shape, x_test.shape, y_test.shape"
   ]
  },
  {
   "cell_type": "code",
   "execution_count": 5,
   "metadata": {},
   "outputs": [
    {
     "name": "stdout",
     "output_type": "stream",
     "text": [
      "[6]\n"
     ]
    },
    {
     "data": {
      "image/png": "[encoded data removed]",
      "text/plain": [
       "<Figure size 640x480 with 1 Axes>"
      ]
     },
     "metadata": {},
     "output_type": "display_data"
    }
   ],
   "source": [
    "i = 0\n",
    "print(y_train[i]) # 6: frog\n",
    "plt.imshow(x_train[i])\n",
    "plt.show()"
   ]
  },
  {
   "cell_type": "markdown",
   "metadata": {},
   "source": [
    "### Preprocessing"
   ]
  },
  {
   "cell_type": "code",
   "execution_count": 6,
   "metadata": {},
   "outputs": [],
   "source": [
    "# x value: 0-255 >> 0-1\n",
    "x_train = x_train/255\n",
    "x_test = x_test/255"
   ]
  },
  {
   "cell_type": "markdown",
   "metadata": {},
   "source": [
    "## 1. Build Model"
   ]
  },
  {
   "cell_type": "code",
   "execution_count": 7,
   "metadata": {},
   "outputs": [],
   "source": [
    "import tensorflow as tf\n",
    "from tensorflow import keras\n",
    "from tensorflow.keras.models import Sequential\n",
    "from tensorflow.keras.layers import Dense, Dropout,Flatten, Conv2D, MaxPooling2D, AveragePooling2D\n",
    "\n",
    "keras.backend.clear_session()\n",
    "np.random.seed(1)\n",
    "tf.random.set_seed(1)"
   ]
  },
  {
   "cell_type": "code",
   "execution_count": 9,
   "metadata": {},
   "outputs": [],
   "source": [
    "model = Sequential([\n",
    "    # Conv-Pool1\n",
    "    Conv2D(filters=30,              # number of filters\n",
    "           kernel_size=(4,4),       # shape of filter_weight matrix\n",
    "           strides=(1,1), padding='valid', # Default setting\n",
    "           activation='relu', input_shape=(32,32,3)),\n",
    "    Dropout(rate=.25),              # to avoid overefitting\n",
    "    MaxPooling2D(pool_size=(2,2),   # w/o stride >> stride = pool_size\n",
    "                 padding='valid'),\n",
    "    # Conv-Pool2\n",
    "    Conv2D(filters=60, kernel_size=3, strides=2, padding='same', activation='relu'),\n",
    "    Dropout(rate=.25),\n",
    "    AveragePooling2D(pool_size=2, padding='same'),\n",
    "    # Fully Connected Layers\n",
    "    Flatten(),\n",
    "    Dropout(rate=.25),\n",
    "    Dense(1024, activation='relu'),\n",
    "    Dropout(rate=.25),\n",
    "    Dense(10, activation='softmax')\n",
    "])"
   ]
  },
  {
   "attachments": {},
   "cell_type": "markdown",
   "metadata": {},
   "source": [
    "### (check model)\n",
    "\n",
    "Output Shape: (mini_batch_size, H, W, C), C = chennels\n",
    "+ Conv2D: [keras](https://www.tensorflow.org/api_docs/python/tf/keras/layers/Conv2D), [pytorch](https://pytorch.org/docs/stable/generated/torch.nn.Conv2d.html)\n",
    "  + $H_{out} = \\dfrac{H_{in}+2\\times \\text{padding}_H-1\\times(K_H -1)-1}{\\text{stride}_H}+1, W_{out} = \\dfrac{W_{in}+2\\times \\text{padding}_W-1\\times(K_W -1)-1}{\\text{stride}_W}+1\\text{, padding}\\begin{cases}0 & \\text{, if valid} \\\\ 1 & \\text{, if same}\\end{cases}$\n",
    "  + $\\text{Param} = (1+ K_H\\times K_W\\times C_{in})\\times C_{out}$ , K = `kernel_size`\n",
    "+ MaxPooling2D / AveragePooling2D\n",
    "  +  `padding='valid'`: $H_{out} = floor( H_{in} / \\text{pool}_H ), W_{out} = floor( W_{in} / \\text{pool}_W )$\n",
    "  +  `padding='same'`: $H_{out} = ceil( H_{in} / \\text{pool}_H ), W_{out} = ceil( W_{in} / \\text{pool}_W )$"
   ]
  },
  {
   "cell_type": "code",
   "execution_count": 10,
   "metadata": {},
   "outputs": [
    {
     "name": "stdout",
     "output_type": "stream",
     "text": [
      "Model: \"sequential_1\"\n",
      "_________________________________________________________________\n",
      " Layer (type)                Output Shape              Param #   \n",
      "=================================================================\n",
      " conv2d_2 (Conv2D)           (None, 29, 29, 30)        1470      \n",
      "                                                                 \n",
      " dropout_4 (Dropout)         (None, 29, 29, 30)        0         \n",
      "                                                                 \n",
      " max_pooling2d_1 (MaxPooling  (None, 14, 14, 30)       0         \n",
      " 2D)                                                             \n",
      "                                                                 \n",
      " conv2d_3 (Conv2D)           (None, 7, 7, 60)          16260     \n",
      "                                                                 \n",
      " dropout_5 (Dropout)         (None, 7, 7, 60)          0         \n",
      "                                                                 \n",
      " average_pooling2d_1 (Averag  (None, 4, 4, 60)         0         \n",
      " ePooling2D)                                                     \n",
      "                                                                 \n",
      " flatten_1 (Flatten)         (None, 960)               0         \n",
      "                                                                 \n",
      " dropout_6 (Dropout)         (None, 960)               0         \n",
      "                                                                 \n",
      " dense_2 (Dense)             (None, 1024)              984064    \n",
      "                                                                 \n",
      " dropout_7 (Dropout)         (None, 1024)              0         \n",
      "                                                                 \n",
      " dense_3 (Dense)             (None, 10)                10250     \n",
      "                                                                 \n",
      "=================================================================\n",
      "Total params: 1,012,044\n",
      "Trainable params: 1,012,044\n",
      "Non-trainable params: 0\n",
      "_________________________________________________________________\n"
     ]
    }
   ],
   "source": [
    "model.summary()"
   ]
  },
  {
   "cell_type": "markdown",
   "metadata": {},
   "source": [
    "## 2. Compile"
   ]
  },
  {
   "cell_type": "code",
   "execution_count": 11,
   "metadata": {},
   "outputs": [],
   "source": [
    "model.compile(loss='sparse_categorical_crossentropy', \n",
    "              optimizer='adam',\n",
    "              metrics=['accuracy'])"
   ]
  },
  {
   "cell_type": "markdown",
   "metadata": {},
   "source": [
    "## 3. Train "
   ]
  },
  {
   "cell_type": "code",
   "execution_count": 13,
   "metadata": {},
   "outputs": [
    {
     "name": "stdout",
     "output_type": "stream",
     "text": [
      "Epoch 1/10\n",
      "313/313 [==============================] - 1s 5ms/step - loss: 1.4890 - accuracy: 0.4642 - val_loss: 1.3708 - val_accuracy: 0.5336\n",
      "Epoch 2/10\n",
      "313/313 [==============================] - 1s 3ms/step - loss: 1.3147 - accuracy: 0.5303 - val_loss: 1.2271 - val_accuracy: 0.5821\n",
      "Epoch 3/10\n",
      "313/313 [==============================] - 2s 6ms/step - loss: 1.2133 - accuracy: 0.5659 - val_loss: 1.1453 - val_accuracy: 0.6138\n",
      "Epoch 4/10\n",
      "313/313 [==============================] - 2s 6ms/step - loss: 1.1347 - accuracy: 0.5980 - val_loss: 1.1217 - val_accuracy: 0.6104\n",
      "Epoch 5/10\n",
      "313/313 [==============================] - 2s 6ms/step - loss: 1.0700 - accuracy: 0.6200 - val_loss: 1.0428 - val_accuracy: 0.6444\n",
      "Epoch 6/10\n",
      "313/313 [==============================] - 1s 4ms/step - loss: 1.0246 - accuracy: 0.6366 - val_loss: 1.0184 - val_accuracy: 0.6482\n",
      "Epoch 7/10\n",
      "313/313 [==============================] - 2s 7ms/step - loss: 0.9679 - accuracy: 0.6577 - val_loss: 0.9768 - val_accuracy: 0.6655\n",
      "Epoch 8/10\n",
      "313/313 [==============================] - 2s 6ms/step - loss: 0.9267 - accuracy: 0.6731 - val_loss: 0.9927 - val_accuracy: 0.6554\n",
      "Epoch 9/10\n",
      "313/313 [==============================] - 1s 3ms/step - loss: 0.8828 - accuracy: 0.6873 - val_loss: 0.8871 - val_accuracy: 0.6988\n",
      "Epoch 10/10\n",
      "313/313 [==============================] - 2s 6ms/step - loss: 0.8458 - accuracy: 0.7050 - val_loss: 0.8727 - val_accuracy: 0.7036\n"
     ]
    }
   ],
   "source": [
    "train = model.fit(x_train, y_train, validation_split=.2,    # auto split for validation\n",
    "                  epochs=10, batch_size=128, verbose=1)     # verbose: 0 -> no results, 1 -> full result, 2 -> only show epoch "
   ]
  },
  {
   "cell_type": "code",
   "execution_count": 14,
   "metadata": {},
   "outputs": [
    {
     "data": {
      "image/png": "[encoded data removed]",
      "text/plain": [
       "<Figure size 800x500 with 1 Axes>"
      ]
     },
     "metadata": {},
     "output_type": "display_data"
    }
   ],
   "source": [
    "pd.DataFrame(train.history).plot(figsize=(8,5))\n",
    "plt.grid(True)\n",
    "plt.show()"
   ]
  },
  {
   "cell_type": "markdown",
   "metadata": {},
   "source": [
    "## 4. Evaluate"
   ]
  },
  {
   "cell_type": "code",
   "execution_count": 15,
   "metadata": {},
   "outputs": [
    {
     "data": {
      "text/plain": [
       "[0.8690608143806458, 0.6991000175476074]"
      ]
     },
     "execution_count": 15,
     "metadata": {},
     "output_type": "execute_result"
    }
   ],
   "source": [
    "model.evaluate(x_test, y_test, verbose=0)"
   ]
  },
  {
   "cell_type": "markdown",
   "metadata": {},
   "source": [
    "## 5. Predict"
   ]
  },
  {
   "cell_type": "code",
   "execution_count": 16,
   "metadata": {},
   "outputs": [
    {
     "name": "stdout",
     "output_type": "stream",
     "text": [
      "y_prob = \n",
      "[[0.   0.   0.06 0.49 0.01 0.37 0.02 0.01 0.03 0.  ]\n",
      " [0.03 0.1  0.   0.   0.   0.   0.   0.   0.86 0.  ]\n",
      " [0.31 0.06 0.   0.   0.   0.   0.   0.   0.57 0.05]]\n",
      "y_pred =  [3 8 8]\n",
      "y_true =  [[3 8 8]]\n"
     ]
    }
   ],
   "source": [
    "y_prob = model.predict(x_test, verbose=0)\n",
    "y_pred = np.argmax(y_prob,axis=1)\n",
    "print(\"y_prob = \", y_prob[:3].round(2), sep=\"\\n\")\n",
    "print(\"y_pred = \", y_pred[:3])\n",
    "print(\"y_true = \", y_test[:3].T)"
   ]
  },
  {
   "cell_type": "markdown",
   "metadata": {},
   "source": [
    "### (Confussion Matrix)"
   ]
  },
  {
   "cell_type": "code",
   "execution_count": 17,
   "metadata": {},
   "outputs": [
    {
     "data": {
      "text/plain": [
       "array([[803,  18,  52,  14,  15,   3,   7,   3,  60,  25],\n",
       "       [ 20, 874,  11,   9,   5,   1,   8,   3,  20,  49],\n",
       "       [ 84,   5, 656,  66,  69,  33,  53,  17,  10,   7],\n",
       "       [ 30,  16, 136, 508,  61, 136,  56,  30,  13,  14],\n",
       "       [ 36,   7, 141,  60, 620,  27,  49,  48,   9,   3],\n",
       "       [ 25,   4, 105, 223,  48, 512,  24,  36,  16,   7],\n",
       "       [  4,  11,  77,  60,  28,  12, 791,   3,  10,   4],\n",
       "       [ 21,   5,  65,  54,  66,  48,   8, 719,   3,  11],\n",
       "       [ 88,  48,  22,  15,   6,   3,   4,   1, 793,  20],\n",
       "       [ 39, 140,  11,  24,   7,   8,   9,  11,  36, 715]])"
      ]
     },
     "execution_count": 17,
     "metadata": {},
     "output_type": "execute_result"
    }
   ],
   "source": [
    "from sklearn.metrics import confusion_matrix\n",
    "confusion_matrix(y_test, y_pred)"
   ]
  }
 ],
 "metadata": {
  "kernelspec": {
   "display_name": "tf",
   "language": "python",
   "name": "python3"
  },
  "language_info": {
   "codemirror_mode": {
    "name": "ipython",
    "version": 3
   },
   "file_extension": ".py",
   "mimetype": "text/x-python",
   "name": "python",
   "nbconvert_exporter": "python",
   "pygments_lexer": "ipython3",
   "version": "3.10.6"
  },
  "orig_nbformat": 4
 },
 "nbformat": 4,
 "nbformat_minor": 2
}
