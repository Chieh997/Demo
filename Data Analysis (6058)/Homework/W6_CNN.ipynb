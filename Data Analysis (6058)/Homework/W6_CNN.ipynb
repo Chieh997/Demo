{
 "cells": [
  {
   "attachments": {},
   "cell_type": "markdown",
   "metadata": {},
   "source": [
    "# DL(w6) CNN\n",
    "student ID: 7110018036\\\n",
    "name: Chieh-An, Chou"
   ]
  },
  {
   "cell_type": "code",
   "execution_count": 1,
   "metadata": {},
   "outputs": [],
   "source": [
    "import numpy as np\n",
    "import pandas as pd\n",
    "import matplotlib.pyplot as plt"
   ]
  },
  {
   "attachments": {},
   "cell_type": "markdown",
   "metadata": {},
   "source": [
    "## Data"
   ]
  },
  {
   "cell_type": "code",
   "execution_count": 2,
   "metadata": {},
   "outputs": [
    {
     "name": "stderr",
     "output_type": "stream",
     "text": [
      "2023-03-29 17:31:24.423153: I tensorflow/core/platform/cpu_feature_guard.cc:193] This TensorFlow binary is optimized with oneAPI Deep Neural Network Library (oneDNN) to use the following CPU instructions in performance-critical operations:  AVX2 FMA\n",
      "To enable them in other operations, rebuild TensorFlow with the appropriate compiler flags.\n"
     ]
    }
   ],
   "source": [
    "from tensorflow.keras.datasets import cifar10\n",
    "(x_train, y_train), (x_test, y_test) = cifar10.load_data()"
   ]
  },
  {
   "cell_type": "markdown",
   "metadata": {},
   "source": [
    "### (check data)"
   ]
  },
  {
   "cell_type": "code",
   "execution_count": 3,
   "metadata": {},
   "outputs": [
    {
     "data": {
      "text/plain": [
       "((50000, 32, 32, 3), (50000, 1), (10000, 32, 32, 3), (10000, 1))"
      ]
     },
     "execution_count": 3,
     "metadata": {},
     "output_type": "execute_result"
    }
   ],
   "source": [
    "x_train.shape, y_train.shape, x_test.shape, y_test.shape"
   ]
  },
  {
   "cell_type": "code",
   "execution_count": 4,
   "metadata": {},
   "outputs": [
    {
     "name": "stdout",
     "output_type": "stream",
     "text": [
      "[6]\n"
     ]
    },
    {
     "data": {
      "image/png": "[encoded data removed]",
      "text/plain": [
       "<Figure size 640x480 with 1 Axes>"
      ]
     },
     "metadata": {},
     "output_type": "display_data"
    }
   ],
   "source": [
    "i = 0\n",
    "print(y_train[i]) # 6: frog\n",
    "plt.imshow(x_train[i])\n",
    "plt.show()"
   ]
  },
  {
   "cell_type": "markdown",
   "metadata": {},
   "source": [
    "### Preprocessing"
   ]
  },
  {
   "cell_type": "code",
   "execution_count": 5,
   "metadata": {},
   "outputs": [],
   "source": [
    "# x value: 0-255 >> 0-1\n",
    "x_train = x_train/255\n",
    "x_test = x_test/255"
   ]
  },
  {
   "cell_type": "markdown",
   "metadata": {},
   "source": [
    "## 1. Build Model"
   ]
  },
  {
   "cell_type": "code",
   "execution_count": 6,
   "metadata": {},
   "outputs": [],
   "source": [
    "import tensorflow as tf\n",
    "from tensorflow import keras\n",
    "from tensorflow.keras.models import Sequential\n",
    "from tensorflow.keras.layers import Dense, Dropout,Flatten, Conv2D, MaxPooling2D, AveragePooling2D\n",
    "\n",
    "keras.backend.clear_session()\n",
    "np.random.seed(1)\n",
    "tf.random.set_seed(1)"
   ]
  },
  {
   "cell_type": "code",
   "execution_count": 7,
   "metadata": {},
   "outputs": [
    {
     "name": "stderr",
     "output_type": "stream",
     "text": [
      "2023-03-29 17:31:26.340210: I tensorflow/compiler/xla/stream_executor/cuda/cuda_gpu_executor.cc:981] successful NUMA node read from SysFS had negative value (-1), but there must be at least one NUMA node, so returning NUMA node zero\n",
      "2023-03-29 17:31:26.362687: I tensorflow/compiler/xla/stream_executor/cuda/cuda_gpu_executor.cc:981] successful NUMA node read from SysFS had negative value (-1), but there must be at least one NUMA node, so returning NUMA node zero\n",
      "2023-03-29 17:31:26.362782: I tensorflow/compiler/xla/stream_executor/cuda/cuda_gpu_executor.cc:981] successful NUMA node read from SysFS had negative value (-1), but there must be at least one NUMA node, so returning NUMA node zero\n",
      "2023-03-29 17:31:26.363334: I tensorflow/core/platform/cpu_feature_guard.cc:193] This TensorFlow binary is optimized with oneAPI Deep Neural Network Library (oneDNN) to use the following CPU instructions in performance-critical operations:  AVX2 FMA\n",
      "To enable them in other operations, rebuild TensorFlow with the appropriate compiler flags.\n",
      "2023-03-29 17:31:26.363824: I tensorflow/compiler/xla/stream_executor/cuda/cuda_gpu_executor.cc:981] successful NUMA node read from SysFS had negative value (-1), but there must be at least one NUMA node, so returning NUMA node zero\n",
      "2023-03-29 17:31:26.363915: I tensorflow/compiler/xla/stream_executor/cuda/cuda_gpu_executor.cc:981] successful NUMA node read from SysFS had negative value (-1), but there must be at least one NUMA node, so returning NUMA node zero\n",
      "2023-03-29 17:31:26.363989: I tensorflow/compiler/xla/stream_executor/cuda/cuda_gpu_executor.cc:981] successful NUMA node read from SysFS had negative value (-1), but there must be at least one NUMA node, so returning NUMA node zero\n",
      "2023-03-29 17:31:26.702440: I tensorflow/compiler/xla/stream_executor/cuda/cuda_gpu_executor.cc:981] successful NUMA node read from SysFS had negative value (-1), but there must be at least one NUMA node, so returning NUMA node zero\n",
      "2023-03-29 17:31:26.702557: I tensorflow/compiler/xla/stream_executor/cuda/cuda_gpu_executor.cc:981] successful NUMA node read from SysFS had negative value (-1), but there must be at least one NUMA node, so returning NUMA node zero\n",
      "2023-03-29 17:31:26.702635: I tensorflow/compiler/xla/stream_executor/cuda/cuda_gpu_executor.cc:981] successful NUMA node read from SysFS had negative value (-1), but there must be at least one NUMA node, so returning NUMA node zero\n",
      "2023-03-29 17:31:26.702770: I tensorflow/core/common_runtime/gpu/gpu_device.cc:1613] Created device /job:localhost/replica:0/task:0/device:GPU:0 with 7998 MB memory:  -> device: 0, name: NVIDIA GeForce RTX 3080, pci bus id: 0000:01:00.0, compute capability: 8.6\n"
     ]
    }
   ],
   "source": [
    "model = Sequential([\n",
    "    # Conv-Pool1\n",
    "    Conv2D(filters=30,              # number of filters\n",
    "           kernel_size=(4,4),       # shape of filter_weight matrix\n",
    "           strides=(1,1), padding='valid', # Default setting\n",
    "           activation='relu', input_shape=(32,32,3)),\n",
    "    Dropout(rate=.25),              # to avoid overefitting\n",
    "    MaxPooling2D(pool_size=(2,2),   # w/o stride >> stride = pool_size\n",
    "                 padding='valid'),\n",
    "    # Conv-Pool2\n",
    "    Conv2D(filters=60, kernel_size=3, strides=2, padding='same', activation='relu'),\n",
    "    Dropout(rate=.25),\n",
    "    AveragePooling2D(pool_size=2, padding='same'),\n",
    "    # Fully Connected Layers\n",
    "    Flatten(),\n",
    "    Dropout(rate=.25),\n",
    "    Dense(1024, activation='relu'),\n",
    "    Dropout(rate=.25),\n",
    "    Dense(10, activation='softmax')\n",
    "])"
   ]
  },
  {
   "attachments": {},
   "cell_type": "markdown",
   "metadata": {},
   "source": [
    "### (check model)\n",
    "\n",
    "Output Shape: (mini_batch_size, H, W, C), C = chennels\n",
    "+ Conv2D: [keras](https://www.tensorflow.org/api_docs/python/tf/keras/layers/Conv2D), [pytorch](https://pytorch.org/docs/stable/generated/torch.nn.Conv2d.html)\n",
    "  + $H_{out} = \\dfrac{H_{in}+2\\times \\text{padding}_H-1\\times(K_H-1)-1}{\\text{stride}_H}+1, W_{out} = \\dfrac{W_{in}+2\\times \\text{padding}_W-1\\times(K_W-1)-1}{\\text{stride}_W}+1\\text{, padding}\\begin{cases}0 & \\text{, if valid} \\\\ 1 & \\text{, if same}\\end{cases}$\n",
    "  + $\\text{Param} = (1+ K_H\\times K_W\\times C_{in})\\times C_{out}$ , K = `kernel_size`\n",
    "+ MaxPooling2D / AveragePooling2D\n",
    "  +  `padding='valid'`: $H_{out} = floor( H_{in} / \\text{pool}_H ), W_{out} = floor( W_{in} / \\text{pool}_W )$\n",
    "  +  `padding='same'`: $H_{out} = ceil( H_{in} / \\text{pool}_H ), W_{out} = ceil( W_{in} / \\text{pool}_W )$"
   ]
  },
  {
   "cell_type": "code",
   "execution_count": 8,
   "metadata": {},
   "outputs": [
    {
     "name": "stdout",
     "output_type": "stream",
     "text": [
      "Model: \"sequential\"\n",
      "_________________________________________________________________\n",
      " Layer (type)                Output Shape              Param #   \n",
      "=================================================================\n",
      " conv2d (Conv2D)             (None, 29, 29, 30)        1470      \n",
      "                                                                 \n",
      " dropout (Dropout)           (None, 29, 29, 30)        0         \n",
      "                                                                 \n",
      " max_pooling2d (MaxPooling2D  (None, 14, 14, 30)       0         \n",
      " )                                                               \n",
      "                                                                 \n",
      " conv2d_1 (Conv2D)           (None, 7, 7, 60)          16260     \n",
      "                                                                 \n",
      " dropout_1 (Dropout)         (None, 7, 7, 60)          0         \n",
      "                                                                 \n",
      " average_pooling2d (AverageP  (None, 4, 4, 60)         0         \n",
      " ooling2D)                                                       \n",
      "                                                                 \n",
      " flatten (Flatten)           (None, 960)               0         \n",
      "                                                                 \n",
      " dropout_2 (Dropout)         (None, 960)               0         \n",
      "                                                                 \n",
      " dense (Dense)               (None, 1024)              984064    \n",
      "                                                                 \n",
      " dropout_3 (Dropout)         (None, 1024)              0         \n",
      "                                                                 \n",
      " dense_1 (Dense)             (None, 10)                10250     \n",
      "                                                                 \n",
      "=================================================================\n",
      "Total params: 1,012,044\n",
      "Trainable params: 1,012,044\n",
      "Non-trainable params: 0\n",
      "_________________________________________________________________\n"
     ]
    }
   ],
   "source": [
    "model.summary()"
   ]
  },
  {
   "cell_type": "markdown",
   "metadata": {},
   "source": [
    "## 2. Compile"
   ]
  },
  {
   "cell_type": "code",
   "execution_count": 9,
   "metadata": {},
   "outputs": [],
   "source": [
    "model.compile(loss='sparse_categorical_crossentropy', \n",
    "              optimizer='adam',\n",
    "              metrics=['accuracy'])"
   ]
  },
  {
   "cell_type": "markdown",
   "metadata": {},
   "source": [
    "## 3. Train "
   ]
  },
  {
   "cell_type": "code",
   "execution_count": 10,
   "metadata": {},
   "outputs": [
    {
     "name": "stdout",
     "output_type": "stream",
     "text": [
      "Epoch 1/10\n"
     ]
    },
    {
     "name": "stderr",
     "output_type": "stream",
     "text": [
      "2023-03-29 17:31:28.019286: E tensorflow/core/grappler/optimizers/meta_optimizer.cc:954] layout failed: INVALID_ARGUMENT: Size of values 0 does not match size of permutation 4 @ fanin shape insequential/dropout/dropout/SelectV2-2-TransposeNHWCToNCHW-LayoutOptimizer\n",
      "2023-03-29 17:31:28.700594: I tensorflow/compiler/xla/stream_executor/cuda/cuda_dnn.cc:428] Loaded cuDNN version 8400\n",
      "2023-03-29 17:31:29.520170: I tensorflow/compiler/xla/stream_executor/cuda/cuda_blas.cc:630] TensorFloat-32 will be used for the matrix multiplication. This will only be logged once.\n",
      "2023-03-29 17:31:29.521461: I tensorflow/compiler/xla/service/service.cc:173] XLA service 0x55e9ef762380 initialized for platform CUDA (this does not guarantee that XLA will be used). Devices:\n",
      "2023-03-29 17:31:29.521472: I tensorflow/compiler/xla/service/service.cc:181]   StreamExecutor device (0): NVIDIA GeForce RTX 3080, Compute Capability 8.6\n",
      "2023-03-29 17:31:29.525187: I tensorflow/compiler/mlir/tensorflow/utils/dump_mlir_util.cc:268] disabling MLIR crash reproducer, set env var `MLIR_CRASH_REPRODUCER_DIRECTORY` to enable.\n",
      "2023-03-29 17:31:29.600776: I tensorflow/compiler/jit/xla_compilation_cache.cc:477] Compiled cluster using XLA!  This line is logged at most once for the lifetime of the process.\n"
     ]
    },
    {
     "name": "stdout",
     "output_type": "stream",
     "text": [
      "313/313 [==============================] - 4s 5ms/step - loss: 1.6849 - accuracy: 0.3868 - val_loss: 1.4629 - val_accuracy: 0.4962\n",
      "Epoch 2/10\n",
      "313/313 [==============================] - 2s 6ms/step - loss: 1.3838 - accuracy: 0.5023 - val_loss: 1.3085 - val_accuracy: 0.5549\n",
      "Epoch 3/10\n",
      "313/313 [==============================] - 2s 7ms/step - loss: 1.2672 - accuracy: 0.5462 - val_loss: 1.2289 - val_accuracy: 0.5808\n",
      "Epoch 4/10\n",
      "313/313 [==============================] - 2s 7ms/step - loss: 1.1753 - accuracy: 0.5853 - val_loss: 1.1320 - val_accuracy: 0.6076\n",
      "Epoch 5/10\n",
      "313/313 [==============================] - 2s 6ms/step - loss: 1.1053 - accuracy: 0.6087 - val_loss: 1.0561 - val_accuracy: 0.6417\n",
      "Epoch 6/10\n",
      "313/313 [==============================] - 3s 10ms/step - loss: 1.0554 - accuracy: 0.6252 - val_loss: 1.0442 - val_accuracy: 0.6398\n",
      "Epoch 7/10\n",
      "313/313 [==============================] - 2s 8ms/step - loss: 1.0062 - accuracy: 0.6435 - val_loss: 1.0436 - val_accuracy: 0.6389\n",
      "Epoch 8/10\n",
      "313/313 [==============================] - 2s 7ms/step - loss: 0.9593 - accuracy: 0.6606 - val_loss: 0.9697 - val_accuracy: 0.6651\n",
      "Epoch 9/10\n",
      "313/313 [==============================] - 2s 8ms/step - loss: 0.9105 - accuracy: 0.6813 - val_loss: 0.9611 - val_accuracy: 0.6639\n",
      "Epoch 10/10\n",
      "313/313 [==============================] - 2s 6ms/step - loss: 0.8786 - accuracy: 0.6896 - val_loss: 0.9022 - val_accuracy: 0.6880\n"
     ]
    }
   ],
   "source": [
    "train = model.fit(x_train, y_train, validation_split=.2,    # auto split for validation\n",
    "                  epochs=10, batch_size=128, verbose=1)     # verbose: 0 -> no results, 1 -> full result, 2 -> only show epoch "
   ]
  },
  {
   "cell_type": "code",
   "execution_count": 11,
   "metadata": {},
   "outputs": [
    {
     "data": {
      "image/png": "[encoded data removed]",
      "text/plain": [
       "<Figure size 800x500 with 1 Axes>"
      ]
     },
     "metadata": {},
     "output_type": "display_data"
    }
   ],
   "source": [
    "pd.DataFrame(train.history).plot(figsize=(8,5))\n",
    "plt.grid(True)\n",
    "plt.show()"
   ]
  },
  {
   "cell_type": "markdown",
   "metadata": {},
   "source": [
    "## 4. Evaluate"
   ]
  },
  {
   "cell_type": "code",
   "execution_count": 12,
   "metadata": {},
   "outputs": [
    {
     "data": {
      "text/plain": [
       "[0.8963953852653503, 0.6888999938964844]"
      ]
     },
     "execution_count": 12,
     "metadata": {},
     "output_type": "execute_result"
    }
   ],
   "source": [
    "model.evaluate(x_test, y_test, verbose=0)"
   ]
  },
  {
   "cell_type": "markdown",
   "metadata": {},
   "source": [
    "## 5. Predict"
   ]
  },
  {
   "cell_type": "code",
   "execution_count": 13,
   "metadata": {},
   "outputs": [
    {
     "name": "stdout",
     "output_type": "stream",
     "text": [
      "y_prob = \n",
      "[[0.01 0.01 0.1  0.57 0.04 0.19 0.04 0.01 0.03 0.01]\n",
      " [0.01 0.27 0.   0.   0.   0.   0.   0.   0.71 0.  ]\n",
      " [0.14 0.13 0.   0.   0.   0.   0.   0.   0.66 0.06]]\n",
      "y_pred =  [3 8 8]\n",
      "y_true =  [[3 8 8]]\n"
     ]
    }
   ],
   "source": [
    "y_prob = model.predict(x_test, verbose=0)\n",
    "y_pred = np.argmax(y_prob,axis=1)\n",
    "print(\"y_prob = \", y_prob[:3].round(2), sep=\"\\n\")\n",
    "print(\"y_pred = \", y_pred[:3])\n",
    "print(\"y_true = \", y_test[:3].T)"
   ]
  },
  {
   "cell_type": "markdown",
   "metadata": {},
   "source": [
    "### (Confussion Matrix)"
   ]
  },
  {
   "cell_type": "code",
   "execution_count": 14,
   "metadata": {},
   "outputs": [
    {
     "data": {
      "text/plain": [
       "array([[744,  23,  68,  15,  23,   2,  14,   5,  74,  32],\n",
       "       [ 18, 869,   6,   7,   3,   3,  12,   1,  24,  57],\n",
       "       [ 70,   5, 608,  56,  94,  28,  98,  15,  13,  13],\n",
       "       [ 20,  22, 121, 458,  86, 110, 130,  20,  16,  17],\n",
       "       [ 21,   4, 125,  39, 635,   9, 126,  30,  11,   0],\n",
       "       [ 13,   5, 123, 198,  80, 469,  65,  27,  17,   3],\n",
       "       [  3,   6,  48,  25,  20,   5, 883,   1,   7,   2],\n",
       "       [ 15,   8,  67,  45, 107,  40,  18, 681,   4,  15],\n",
       "       [ 67,  56,  18,  11,   9,   2,   5,   1, 807,  24],\n",
       "       [ 36, 135,  12,  13,  10,   4,  17,   9,  29, 735]])"
      ]
     },
     "execution_count": 14,
     "metadata": {},
     "output_type": "execute_result"
    }
   ],
   "source": [
    "from sklearn.metrics import confusion_matrix\n",
    "confusion_matrix(y_test, y_pred)"
   ]
  }
 ],
 "metadata": {
  "kernelspec": {
   "display_name": "tf",
   "language": "python",
   "name": "python3"
  },
  "language_info": {
   "codemirror_mode": {
    "name": "ipython",
    "version": 3
   },
   "file_extension": ".py",
   "mimetype": "text/x-python",
   "name": "python",
   "nbconvert_exporter": "python",
   "pygments_lexer": "ipython3",
   "version": "3.10.6"
  },
  "orig_nbformat": 4
 },
 "nbformat": 4,
 "nbformat_minor": 2
}
