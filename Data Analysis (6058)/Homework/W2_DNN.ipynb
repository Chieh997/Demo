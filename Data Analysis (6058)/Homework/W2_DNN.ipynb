{
 "cells": [
  {
   "attachments": {},
   "cell_type": "markdown",
   "metadata": {},
   "source": [
    "# DL(w2) DNN\n",
    "student ID: 7110018036\\\n",
    "name: Chieh-An, Chou"
   ]
  },
  {
   "attachments": {},
   "cell_type": "markdown",
   "metadata": {},
   "source": [
    "# [1] Regression"
   ]
  },
  {
   "cell_type": "code",
   "execution_count": 1,
   "metadata": {},
   "outputs": [],
   "source": [
    "import numpy as np\n",
    "import pandas as pd\n",
    "import matplotlib.pyplot as plt"
   ]
  },
  {
   "attachments": {},
   "cell_type": "markdown",
   "metadata": {},
   "source": [
    "### Data"
   ]
  },
  {
   "cell_type": "code",
   "execution_count": 2,
   "metadata": {},
   "outputs": [
    {
     "name": "stderr",
     "output_type": "stream",
     "text": [
      "2023-03-03 17:54:25.200834: I tensorflow/core/platform/cpu_feature_guard.cc:193] This TensorFlow binary is optimized with oneAPI Deep Neural Network Library (oneDNN) to use the following CPU instructions in performance-critical operations:  AVX2 FMA\n",
      "To enable them in other operations, rebuild TensorFlow with the appropriate compiler flags.\n",
      "2023-03-03 17:54:25.693640: W tensorflow/compiler/xla/stream_executor/platform/default/dso_loader.cc:64] Could not load dynamic library 'libnvinfer.so.7'; dlerror: libnvinfer.so.7: cannot open shared object file: No such file or directory; LD_LIBRARY_PATH: :/usr/local/cuda-11.7/lib64:/usr/local/cuda-11.7/extras/CUPTI/lib64\n",
      "2023-03-03 17:54:25.693691: W tensorflow/compiler/xla/stream_executor/platform/default/dso_loader.cc:64] Could not load dynamic library 'libnvinfer_plugin.so.7'; dlerror: libnvinfer_plugin.so.7: cannot open shared object file: No such file or directory; LD_LIBRARY_PATH: :/usr/local/cuda-11.7/lib64:/usr/local/cuda-11.7/extras/CUPTI/lib64\n",
      "2023-03-03 17:54:25.693696: W tensorflow/compiler/tf2tensorrt/utils/py_utils.cc:38] TF-TRT Warning: Cannot dlopen some TensorRT libraries. If you would like to use Nvidia GPU with TensorRT, please make sure the missing libraries mentioned above are installed properly.\n"
     ]
    }
   ],
   "source": [
    "from tensorflow.keras.datasets import boston_housing\n",
    "(x_train_set, y_train_set), (x_test, y_test) = boston_housing.load_data()"
   ]
  },
  {
   "attachments": {},
   "cell_type": "markdown",
   "metadata": {},
   "source": [
    "### (check data)"
   ]
  },
  {
   "cell_type": "code",
   "execution_count": 3,
   "metadata": {},
   "outputs": [
    {
     "data": {
      "text/plain": [
       "((404, 13), (404,), (102, 13), (102,))"
      ]
     },
     "execution_count": 3,
     "metadata": {},
     "output_type": "execute_result"
    }
   ],
   "source": [
    "x_train_set.shape, y_train_set.shape, x_test.shape, y_test.shape"
   ]
  },
  {
   "cell_type": "code",
   "execution_count": 4,
   "metadata": {},
   "outputs": [
    {
     "data": {
      "text/plain": [
       "array([[1.23247e+00, 0.00000e+00, 8.14000e+00, ..., 2.10000e+01,\n",
       "        3.96900e+02, 1.87200e+01],\n",
       "       [2.17700e-02, 8.25000e+01, 2.03000e+00, ..., 1.47000e+01,\n",
       "        3.95380e+02, 3.11000e+00],\n",
       "       [4.89822e+00, 0.00000e+00, 1.81000e+01, ..., 2.02000e+01,\n",
       "        3.75520e+02, 3.26000e+00],\n",
       "       ...,\n",
       "       [3.46600e-02, 3.50000e+01, 6.06000e+00, ..., 1.69000e+01,\n",
       "        3.62250e+02, 7.83000e+00],\n",
       "       [2.14918e+00, 0.00000e+00, 1.95800e+01, ..., 1.47000e+01,\n",
       "        2.61950e+02, 1.57900e+01],\n",
       "       [1.43900e-02, 6.00000e+01, 2.93000e+00, ..., 1.56000e+01,\n",
       "        3.76700e+02, 4.38000e+00]])"
      ]
     },
     "execution_count": 4,
     "metadata": {},
     "output_type": "execute_result"
    }
   ],
   "source": [
    "x_train_set"
   ]
  },
  {
   "attachments": {},
   "cell_type": "markdown",
   "metadata": {},
   "source": [
    "### Split data\n",
    "split data into two parts: for training and for validation"
   ]
  },
  {
   "cell_type": "code",
   "execution_count": 5,
   "metadata": {},
   "outputs": [],
   "source": [
    "from sklearn.model_selection import train_test_split\n",
    "x_train, x_valid, y_train, y_valid = train_test_split(x_train_set, y_train_set, random_state = 1)\n",
    "# defalt: test_size = 0.25 >> train 303 : valid 101\n",
    "# setting fixed random state"
   ]
  },
  {
   "attachments": {},
   "cell_type": "markdown",
   "metadata": {},
   "source": [
    "### Preprocessing"
   ]
  },
  {
   "cell_type": "code",
   "execution_count": 6,
   "metadata": {},
   "outputs": [],
   "source": [
    "from sklearn.preprocessing import StandardScaler\n",
    "scaler = StandardScaler()\n",
    "\n",
    "x_train = scaler.fit_transform(x_train)\n",
    "\n",
    "# transform with mean and SD of x_train\n",
    "x_valid = scaler.transform(x_valid)\n",
    "x_test = scaler.transform(x_test)"
   ]
  },
  {
   "attachments": {},
   "cell_type": "markdown",
   "metadata": {},
   "source": [
    "## 1. Build Model"
   ]
  },
  {
   "cell_type": "code",
   "execution_count": 7,
   "metadata": {},
   "outputs": [],
   "source": [
    "import tensorflow as tf\n",
    "from tensorflow import keras\n",
    "from tensorflow.keras.models import Sequential\n",
    "from tensorflow.keras.layers import Dense\n",
    "from tensorflow.keras.optimizers import SGD\n",
    "\n",
    "keras.backend.clear_session()\n",
    "np.random.seed(1)\n",
    "tf.random.set_seed(1)"
   ]
  },
  {
   "cell_type": "code",
   "execution_count": 8,
   "metadata": {},
   "outputs": [
    {
     "name": "stderr",
     "output_type": "stream",
     "text": [
      "2023-03-03 17:54:26.775913: I tensorflow/compiler/xla/stream_executor/cuda/cuda_gpu_executor.cc:981] successful NUMA node read from SysFS had negative value (-1), but there must be at least one NUMA node, so returning NUMA node zero\n",
      "2023-03-03 17:54:26.804146: I tensorflow/compiler/xla/stream_executor/cuda/cuda_gpu_executor.cc:981] successful NUMA node read from SysFS had negative value (-1), but there must be at least one NUMA node, so returning NUMA node zero\n",
      "2023-03-03 17:54:26.804267: I tensorflow/compiler/xla/stream_executor/cuda/cuda_gpu_executor.cc:981] successful NUMA node read from SysFS had negative value (-1), but there must be at least one NUMA node, so returning NUMA node zero\n",
      "2023-03-03 17:54:26.804718: I tensorflow/core/platform/cpu_feature_guard.cc:193] This TensorFlow binary is optimized with oneAPI Deep Neural Network Library (oneDNN) to use the following CPU instructions in performance-critical operations:  AVX2 FMA\n",
      "To enable them in other operations, rebuild TensorFlow with the appropriate compiler flags.\n",
      "2023-03-03 17:54:26.805400: I tensorflow/compiler/xla/stream_executor/cuda/cuda_gpu_executor.cc:981] successful NUMA node read from SysFS had negative value (-1), but there must be at least one NUMA node, so returning NUMA node zero\n",
      "2023-03-03 17:54:26.805497: I tensorflow/compiler/xla/stream_executor/cuda/cuda_gpu_executor.cc:981] successful NUMA node read from SysFS had negative value (-1), but there must be at least one NUMA node, so returning NUMA node zero\n",
      "2023-03-03 17:54:26.805580: I tensorflow/compiler/xla/stream_executor/cuda/cuda_gpu_executor.cc:981] successful NUMA node read from SysFS had negative value (-1), but there must be at least one NUMA node, so returning NUMA node zero\n",
      "2023-03-03 17:54:27.140854: I tensorflow/compiler/xla/stream_executor/cuda/cuda_gpu_executor.cc:981] successful NUMA node read from SysFS had negative value (-1), but there must be at least one NUMA node, so returning NUMA node zero\n",
      "2023-03-03 17:54:27.140989: I tensorflow/compiler/xla/stream_executor/cuda/cuda_gpu_executor.cc:981] successful NUMA node read from SysFS had negative value (-1), but there must be at least one NUMA node, so returning NUMA node zero\n",
      "2023-03-03 17:54:27.141077: I tensorflow/compiler/xla/stream_executor/cuda/cuda_gpu_executor.cc:981] successful NUMA node read from SysFS had negative value (-1), but there must be at least one NUMA node, so returning NUMA node zero\n",
      "2023-03-03 17:54:27.141145: I tensorflow/core/common_runtime/gpu/gpu_device.cc:1613] Created device /job:localhost/replica:0/task:0/device:GPU:0 with 7931 MB memory:  -> device: 0, name: NVIDIA GeForce RTX 3080, pci bus id: 0000:01:00.0, compute capability: 8.6\n"
     ]
    }
   ],
   "source": [
    "model = Sequential()\n",
    "model.add(Dense(units=100, activation='relu', input_shape=x_train.shape[1:])) # x_train.shape[1:] = 13\n",
    "model.add(Dense(units=50, activation='relu'))\n",
    "model.add(Dense(units=1))"
   ]
  },
  {
   "attachments": {},
   "cell_type": "markdown",
   "metadata": {},
   "source": [
    "### (check model)\n",
    "+ Param #\\\n",
    "dense: 1400 = (1+13)*100\\\n",
    "dense_1: 5050 = (1+100)*50\\\n",
    "dense_2: 51 = (1+50)*1"
   ]
  },
  {
   "cell_type": "code",
   "execution_count": 9,
   "metadata": {},
   "outputs": [
    {
     "name": "stdout",
     "output_type": "stream",
     "text": [
      "Model: \"sequential\"\n",
      "_________________________________________________________________\n",
      " Layer (type)                Output Shape              Param #   \n",
      "=================================================================\n",
      " dense (Dense)               (None, 100)               1400      \n",
      "                                                                 \n",
      " dense_1 (Dense)             (None, 50)                5050      \n",
      "                                                                 \n",
      " dense_2 (Dense)             (None, 1)                 51        \n",
      "                                                                 \n",
      "=================================================================\n",
      "Total params: 6,501\n",
      "Trainable params: 6,501\n",
      "Non-trainable params: 0\n",
      "_________________________________________________________________\n"
     ]
    }
   ],
   "source": [
    "model.summary()"
   ]
  },
  {
   "attachments": {},
   "cell_type": "markdown",
   "metadata": {},
   "source": [
    "### (get weights and bias)\n",
    "initial values of trainable params:\n",
    "bias = 0, wight = random"
   ]
  },
  {
   "cell_type": "code",
   "execution_count": 10,
   "metadata": {},
   "outputs": [],
   "source": [
    "weights, biases = model.layers[1].get_weights() # dense_1"
   ]
  },
  {
   "cell_type": "code",
   "execution_count": 11,
   "metadata": {},
   "outputs": [
    {
     "data": {
      "text/plain": [
       "((50,),\n",
       " array([0., 0., 0., 0., 0., 0., 0., 0., 0., 0., 0., 0., 0., 0., 0., 0., 0.,\n",
       "        0., 0., 0., 0., 0., 0., 0., 0., 0., 0., 0., 0., 0., 0., 0., 0., 0.,\n",
       "        0., 0., 0., 0., 0., 0., 0., 0., 0., 0., 0., 0., 0., 0., 0., 0.],\n",
       "       dtype=float32))"
      ]
     },
     "execution_count": 11,
     "metadata": {},
     "output_type": "execute_result"
    }
   ],
   "source": [
    "biases.shape, biases"
   ]
  },
  {
   "cell_type": "code",
   "execution_count": 12,
   "metadata": {},
   "outputs": [
    {
     "data": {
      "text/plain": [
       "((100, 50),\n",
       " array([[-0.12089147,  0.08479463, -0.07757478, ..., -0.15962534,\n",
       "          0.13530149, -0.1545384 ],\n",
       "        [ 0.03898664,  0.0066162 ,  0.0477694 , ...,  0.08018632,\n",
       "         -0.00324531, -0.04650798],\n",
       "        [-0.1778029 , -0.15020761, -0.08973318, ..., -0.11105509,\n",
       "          0.08516051,  0.08134018],\n",
       "        ...,\n",
       "        [ 0.04735442, -0.14176445, -0.10669684, ...,  0.17526256,\n",
       "         -0.02899536,  0.0960515 ],\n",
       "        [-0.1680521 , -0.01969938,  0.15671153, ..., -0.11010528,\n",
       "          0.10064389,  0.04671645],\n",
       "        [-0.16460657, -0.08675203, -0.00232454, ...,  0.17083083,\n",
       "         -0.13994098, -0.16906539]], dtype=float32))"
      ]
     },
     "execution_count": 12,
     "metadata": {},
     "output_type": "execute_result"
    }
   ],
   "source": [
    "weights.shape, weights"
   ]
  },
  {
   "attachments": {},
   "cell_type": "markdown",
   "metadata": {},
   "source": [
    "## 2. Compile"
   ]
  },
  {
   "cell_type": "code",
   "execution_count": 13,
   "metadata": {},
   "outputs": [],
   "source": [
    "model.compile(loss='mse', optimizer=SGD(learning_rate=1e-3))\n",
    "# 'mse' for regression"
   ]
  },
  {
   "attachments": {},
   "cell_type": "markdown",
   "metadata": {},
   "source": [
    "## 3. Train "
   ]
  },
  {
   "cell_type": "code",
   "execution_count": 14,
   "metadata": {},
   "outputs": [
    {
     "name": "stdout",
     "output_type": "stream",
     "text": [
      "Epoch 1/20\n",
      " 1/10 [==>...........................] - ETA: 8s - loss: 548.3702"
     ]
    },
    {
     "name": "stderr",
     "output_type": "stream",
     "text": [
      "2023-03-03 17:54:28.677196: I tensorflow/compiler/xla/stream_executor/cuda/cuda_blas.cc:630] TensorFloat-32 will be used for the matrix multiplication. This will only be logged once.\n",
      "2023-03-03 17:54:28.678920: I tensorflow/compiler/xla/service/service.cc:173] XLA service 0x7fe5440e2680 initialized for platform CUDA (this does not guarantee that XLA will be used). Devices:\n",
      "2023-03-03 17:54:28.678932: I tensorflow/compiler/xla/service/service.cc:181]   StreamExecutor device (0): NVIDIA GeForce RTX 3080, Compute Capability 8.6\n",
      "2023-03-03 17:54:28.708570: I tensorflow/compiler/jit/xla_compilation_cache.cc:477] Compiled cluster using XLA!  This line is logged at most once for the lifetime of the process.\n"
     ]
    },
    {
     "name": "stdout",
     "output_type": "stream",
     "text": [
      "10/10 [==============================] - 1s 12ms/step - loss: 506.3078 - val_loss: 352.9475\n",
      "Epoch 2/20\n",
      "10/10 [==============================] - 0s 3ms/step - loss: 177.5718 - val_loss: 68.0520\n",
      "Epoch 3/20\n",
      "10/10 [==============================] - 0s 3ms/step - loss: 42.3287 - val_loss: 39.6227\n",
      "Epoch 4/20\n",
      "10/10 [==============================] - 0s 3ms/step - loss: 28.4117 - val_loss: 31.3002\n",
      "Epoch 5/20\n",
      "10/10 [==============================] - 0s 3ms/step - loss: 23.3424 - val_loss: 26.6341\n",
      "Epoch 6/20\n",
      "10/10 [==============================] - 0s 3ms/step - loss: 20.4347 - val_loss: 24.1791\n",
      "Epoch 7/20\n",
      "10/10 [==============================] - 0s 3ms/step - loss: 18.5173 - val_loss: 21.8264\n",
      "Epoch 8/20\n",
      "10/10 [==============================] - 0s 3ms/step - loss: 17.2056 - val_loss: 20.2735\n",
      "Epoch 9/20\n",
      "10/10 [==============================] - 0s 3ms/step - loss: 15.8360 - val_loss: 18.9752\n",
      "Epoch 10/20\n",
      "10/10 [==============================] - 0s 3ms/step - loss: 14.6454 - val_loss: 17.0649\n",
      "Epoch 11/20\n",
      "10/10 [==============================] - 0s 3ms/step - loss: 14.0980 - val_loss: 16.8241\n",
      "Epoch 12/20\n",
      "10/10 [==============================] - 0s 3ms/step - loss: 13.2268 - val_loss: 16.3131\n",
      "Epoch 13/20\n",
      "10/10 [==============================] - 0s 3ms/step - loss: 12.6481 - val_loss: 15.3096\n",
      "Epoch 14/20\n",
      "10/10 [==============================] - 0s 3ms/step - loss: 11.9058 - val_loss: 15.0832\n",
      "Epoch 15/20\n",
      "10/10 [==============================] - 0s 3ms/step - loss: 11.4131 - val_loss: 14.9822\n",
      "Epoch 16/20\n",
      "10/10 [==============================] - 0s 3ms/step - loss: 11.6102 - val_loss: 14.1968\n",
      "Epoch 17/20\n",
      "10/10 [==============================] - 0s 3ms/step - loss: 10.8422 - val_loss: 13.9551\n",
      "Epoch 18/20\n",
      "10/10 [==============================] - 0s 3ms/step - loss: 10.4949 - val_loss: 14.0452\n",
      "Epoch 19/20\n",
      "10/10 [==============================] - 0s 3ms/step - loss: 10.4119 - val_loss: 13.7938\n",
      "Epoch 20/20\n",
      "10/10 [==============================] - 0s 3ms/step - loss: 9.9836 - val_loss: 13.2043\n"
     ]
    }
   ],
   "source": [
    "train = model.fit(x_train, y_train,\n",
    "                  epochs=20,\n",
    "                  validation_data=(x_valid, y_valid))\n",
    "# defalt: batch_size=32"
   ]
  },
  {
   "cell_type": "code",
   "execution_count": 15,
   "metadata": {},
   "outputs": [
    {
     "data": {
      "image/png": "[encoded data removed]",
      "text/plain": [
       "<Figure size 640x480 with 1 Axes>"
      ]
     },
     "metadata": {},
     "output_type": "display_data"
    }
   ],
   "source": [
    "pd.DataFrame(train.history).plot()\n",
    "plt.grid(True)\n",
    "plt.show()"
   ]
  },
  {
   "attachments": {},
   "cell_type": "markdown",
   "metadata": {},
   "source": [
    "## 4. Evaluate"
   ]
  },
  {
   "cell_type": "code",
   "execution_count": 16,
   "metadata": {},
   "outputs": [
    {
     "name": "stdout",
     "output_type": "stream",
     "text": [
      "4/4 [==============================] - 0s 1ms/step - loss: 24.3054\n"
     ]
    },
    {
     "data": {
      "text/plain": [
       "24.30538558959961"
      ]
     },
     "execution_count": 16,
     "metadata": {},
     "output_type": "execute_result"
    }
   ],
   "source": [
    "model.evaluate(x_test, y_test)"
   ]
  },
  {
   "attachments": {},
   "cell_type": "markdown",
   "metadata": {},
   "source": [
    "## 5. Predict"
   ]
  },
  {
   "cell_type": "code",
   "execution_count": 17,
   "metadata": {},
   "outputs": [
    {
     "name": "stdout",
     "output_type": "stream",
     "text": [
      "1/1 [==============================] - 0s 44ms/step\n",
      "y_hat = \n",
      "[[ 7.645019]\n",
      " [17.488892]\n",
      " [20.750195]]\n",
      "y_true = \n",
      "[ 7.2 18.8 19. ]\n"
     ]
    }
   ],
   "source": [
    "print(\"y_hat = \", model.predict(x_test[:3]), sep=\"\\n\")\n",
    "print(\"y_true = \", y_test[:3], sep=\"\\n\")"
   ]
  },
  {
   "attachments": {},
   "cell_type": "markdown",
   "metadata": {},
   "source": [
    "# [2] Classification"
   ]
  },
  {
   "cell_type": "markdown",
   "metadata": {},
   "source": [
    "### Data"
   ]
  },
  {
   "cell_type": "code",
   "execution_count": 18,
   "metadata": {},
   "outputs": [],
   "source": [
    "from tensorflow.keras.datasets import fashion_mnist\n",
    "(x_train_set, y_train_set), (x_test, y_test) = fashion_mnist.load_data()"
   ]
  },
  {
   "cell_type": "markdown",
   "metadata": {},
   "source": [
    "### (check data)"
   ]
  },
  {
   "cell_type": "code",
   "execution_count": 19,
   "metadata": {},
   "outputs": [
    {
     "data": {
      "text/plain": [
       "((60000, 28, 28), (60000,), (10000, 28, 28), (10000,))"
      ]
     },
     "execution_count": 19,
     "metadata": {},
     "output_type": "execute_result"
    }
   ],
   "source": [
    "x_train_set.shape, y_train_set.shape, x_test.shape, y_test.shape"
   ]
  },
  {
   "cell_type": "code",
   "execution_count": 20,
   "metadata": {},
   "outputs": [
    {
     "name": "stdout",
     "output_type": "stream",
     "text": [
      "9\n"
     ]
    },
    {
     "data": {
      "image/png": "[encoded data removed]",
      "text/plain": [
       "<Figure size 640x480 with 1 Axes>"
      ]
     },
     "metadata": {},
     "output_type": "display_data"
    }
   ],
   "source": [
    "i = 0\n",
    "print(y_train_set[i]) # lables:0-9, 9 = Boot\n",
    "plt.imshow(x_train_set[i],cmap=\"binary\")\n",
    "plt.show()"
   ]
  },
  {
   "attachments": {},
   "cell_type": "markdown",
   "metadata": {},
   "source": [
    "### Split data"
   ]
  },
  {
   "cell_type": "code",
   "execution_count": 21,
   "metadata": {},
   "outputs": [],
   "source": [
    "from sklearn.model_selection import train_test_split\n",
    "x_train, x_valid, y_train, y_valid = train_test_split(x_train_set, y_train_set, random_state = 1)"
   ]
  },
  {
   "cell_type": "markdown",
   "metadata": {},
   "source": [
    "### Preprocessing"
   ]
  },
  {
   "cell_type": "code",
   "execution_count": 22,
   "metadata": {},
   "outputs": [],
   "source": [
    "# x value: 0-255 >> 0-1\n",
    "x_train = x_train/255\n",
    "x_valid = x_valid/255\n",
    "x_test = x_test/255"
   ]
  },
  {
   "cell_type": "markdown",
   "metadata": {},
   "source": [
    "## 1. Build Model"
   ]
  },
  {
   "cell_type": "code",
   "execution_count": 23,
   "metadata": {},
   "outputs": [],
   "source": [
    "import tensorflow as tf\n",
    "from tensorflow import keras\n",
    "from tensorflow.keras.models import Sequential\n",
    "from tensorflow.keras.layers import Flatten, Dense\n",
    "\n",
    "keras.backend.clear_session()\n",
    "np.random.seed(1)\n",
    "tf.random.set_seed(1)"
   ]
  },
  {
   "cell_type": "code",
   "execution_count": 24,
   "metadata": {},
   "outputs": [],
   "source": [
    "model = Sequential([\n",
    "    Flatten(input_shape=x_train.shape[1:]), # (28, 28) >> (28*28,)\n",
    "    Dense(units=300, activation='relu'),\n",
    "    Dense(units=200, activation='relu'),\n",
    "    Dense(units=100, activation='relu'),\n",
    "    Dense(units=10, activation='softmax')\n",
    "])"
   ]
  },
  {
   "attachments": {},
   "cell_type": "markdown",
   "metadata": {},
   "source": [
    "### (check model)"
   ]
  },
  {
   "cell_type": "code",
   "execution_count": 25,
   "metadata": {},
   "outputs": [
    {
     "name": "stdout",
     "output_type": "stream",
     "text": [
      "Model: \"sequential\"\n",
      "_________________________________________________________________\n",
      " Layer (type)                Output Shape              Param #   \n",
      "=================================================================\n",
      " flatten (Flatten)           (None, 784)               0         \n",
      "                                                                 \n",
      " dense (Dense)               (None, 300)               235500    \n",
      "                                                                 \n",
      " dense_1 (Dense)             (None, 200)               60200     \n",
      "                                                                 \n",
      " dense_2 (Dense)             (None, 100)               20100     \n",
      "                                                                 \n",
      " dense_3 (Dense)             (None, 10)                1010      \n",
      "                                                                 \n",
      "=================================================================\n",
      "Total params: 316,810\n",
      "Trainable params: 316,810\n",
      "Non-trainable params: 0\n",
      "_________________________________________________________________\n"
     ]
    }
   ],
   "source": [
    "model.summary()"
   ]
  },
  {
   "cell_type": "markdown",
   "metadata": {},
   "source": [
    "## 2. Compile"
   ]
  },
  {
   "cell_type": "code",
   "execution_count": 26,
   "metadata": {},
   "outputs": [],
   "source": [
    "model.compile(loss='sparse_categorical_crossentropy', \n",
    "              optimizer='sgd',\n",
    "              metrics=['accuracy'])"
   ]
  },
  {
   "cell_type": "markdown",
   "metadata": {},
   "source": [
    "## 3. Train "
   ]
  },
  {
   "cell_type": "code",
   "execution_count": 27,
   "metadata": {},
   "outputs": [
    {
     "name": "stdout",
     "output_type": "stream",
     "text": [
      "Epoch 1/20\n",
      "1407/1407 [==============================] - 3s 2ms/step - loss: 0.7732 - accuracy: 0.7454 - val_loss: 0.6782 - val_accuracy: 0.7671\n",
      "Epoch 2/20\n",
      "1407/1407 [==============================] - 2s 2ms/step - loss: 0.4963 - accuracy: 0.8258 - val_loss: 0.4957 - val_accuracy: 0.8223\n",
      "Epoch 3/20\n",
      "1407/1407 [==============================] - 2s 2ms/step - loss: 0.4434 - accuracy: 0.8428 - val_loss: 0.4639 - val_accuracy: 0.8345\n",
      "Epoch 4/20\n",
      "1407/1407 [==============================] - 2s 2ms/step - loss: 0.4125 - accuracy: 0.8540 - val_loss: 0.4169 - val_accuracy: 0.8514\n",
      "Epoch 5/20\n",
      "1407/1407 [==============================] - 2s 2ms/step - loss: 0.3904 - accuracy: 0.8624 - val_loss: 1.0899 - val_accuracy: 0.6508\n",
      "Epoch 6/20\n",
      "1407/1407 [==============================] - 2s 2ms/step - loss: 0.3722 - accuracy: 0.8682 - val_loss: 0.6659 - val_accuracy: 0.7898\n",
      "Epoch 7/20\n",
      "1407/1407 [==============================] - 2s 2ms/step - loss: 0.3554 - accuracy: 0.8727 - val_loss: 0.3922 - val_accuracy: 0.8582\n",
      "Epoch 8/20\n",
      "1407/1407 [==============================] - 2s 2ms/step - loss: 0.3442 - accuracy: 0.8764 - val_loss: 0.4075 - val_accuracy: 0.8479\n",
      "Epoch 9/20\n",
      "1407/1407 [==============================] - 2s 2ms/step - loss: 0.3316 - accuracy: 0.8791 - val_loss: 0.3699 - val_accuracy: 0.8681\n",
      "Epoch 10/20\n",
      "1407/1407 [==============================] - 2s 2ms/step - loss: 0.3209 - accuracy: 0.8843 - val_loss: 0.4575 - val_accuracy: 0.8432\n",
      "Epoch 11/20\n",
      "1407/1407 [==============================] - 2s 2ms/step - loss: 0.3119 - accuracy: 0.8867 - val_loss: 0.3482 - val_accuracy: 0.8764\n",
      "Epoch 12/20\n",
      "1407/1407 [==============================] - 2s 2ms/step - loss: 0.3027 - accuracy: 0.8896 - val_loss: 0.4593 - val_accuracy: 0.8305\n",
      "Epoch 13/20\n",
      "1407/1407 [==============================] - 2s 2ms/step - loss: 0.2948 - accuracy: 0.8918 - val_loss: 0.3516 - val_accuracy: 0.8730\n",
      "Epoch 14/20\n",
      "1407/1407 [==============================] - 2s 2ms/step - loss: 0.2862 - accuracy: 0.8962 - val_loss: 0.3322 - val_accuracy: 0.8801\n",
      "Epoch 15/20\n",
      "1407/1407 [==============================] - 2s 2ms/step - loss: 0.2790 - accuracy: 0.8982 - val_loss: 0.3729 - val_accuracy: 0.8611\n",
      "Epoch 16/20\n",
      "1407/1407 [==============================] - 2s 2ms/step - loss: 0.2724 - accuracy: 0.9002 - val_loss: 0.3506 - val_accuracy: 0.8705\n",
      "Epoch 17/20\n",
      "1407/1407 [==============================] - 2s 2ms/step - loss: 0.2660 - accuracy: 0.9027 - val_loss: 0.3659 - val_accuracy: 0.8683\n",
      "Epoch 18/20\n",
      "1407/1407 [==============================] - 2s 2ms/step - loss: 0.2586 - accuracy: 0.9065 - val_loss: 0.3479 - val_accuracy: 0.8746\n",
      "Epoch 19/20\n",
      "1407/1407 [==============================] - 2s 2ms/step - loss: 0.2531 - accuracy: 0.9085 - val_loss: 0.3250 - val_accuracy: 0.8822\n",
      "Epoch 20/20\n",
      "1407/1407 [==============================] - 2s 2ms/step - loss: 0.2467 - accuracy: 0.9089 - val_loss: 0.3207 - val_accuracy: 0.8846\n"
     ]
    }
   ],
   "source": [
    "train = model.fit(x_train, y_train,\n",
    "                  epochs=20,\n",
    "                  validation_data=(x_valid, y_valid))"
   ]
  },
  {
   "cell_type": "code",
   "execution_count": 28,
   "metadata": {},
   "outputs": [
    {
     "data": {
      "image/png": "[encoded data removed]",
      "text/plain": [
       "<Figure size 640x480 with 1 Axes>"
      ]
     },
     "metadata": {},
     "output_type": "display_data"
    }
   ],
   "source": [
    "pd.DataFrame(train.history).plot()\n",
    "plt.grid(True)\n",
    "plt.show()"
   ]
  },
  {
   "cell_type": "markdown",
   "metadata": {},
   "source": [
    "## 4. Evaluate"
   ]
  },
  {
   "cell_type": "code",
   "execution_count": 29,
   "metadata": {},
   "outputs": [
    {
     "name": "stdout",
     "output_type": "stream",
     "text": [
      "313/313 [==============================] - 0s 941us/step - loss: 0.3526 - accuracy: 0.8773\n"
     ]
    },
    {
     "data": {
      "text/plain": [
       "[0.35264313220977783, 0.8773000240325928]"
      ]
     },
     "execution_count": 29,
     "metadata": {},
     "output_type": "execute_result"
    }
   ],
   "source": [
    "model.evaluate(x_test, y_test)"
   ]
  },
  {
   "cell_type": "markdown",
   "metadata": {},
   "source": [
    "## 5. Predict"
   ]
  },
  {
   "cell_type": "code",
   "execution_count": 30,
   "metadata": {},
   "outputs": [
    {
     "name": "stdout",
     "output_type": "stream",
     "text": [
      "313/313 [==============================] - 0s 812us/step\n",
      "y_prob = \n",
      "[[0.   0.   0.   0.   0.   0.   0.   0.06 0.   0.94]\n",
      " [0.   0.   1.   0.   0.   0.   0.   0.   0.   0.  ]\n",
      " [0.   1.   0.   0.   0.   0.   0.   0.   0.   0.  ]]\n",
      "y_pred =  [9 2 1]\n",
      "y_true =  [9 2 1]\n"
     ]
    }
   ],
   "source": [
    "y_prob = model.predict(x_test)\n",
    "y_pred = np.argmax(y_prob,axis=1)\n",
    "print(\"y_prob = \", y_prob[:3].round(2), sep=\"\\n\")\n",
    "print(\"y_pred = \", y_pred[:3])\n",
    "print(\"y_true = \", y_test[:3])"
   ]
  },
  {
   "attachments": {},
   "cell_type": "markdown",
   "metadata": {},
   "source": [
    "### (Confussion Matrix)"
   ]
  },
  {
   "cell_type": "code",
   "execution_count": 31,
   "metadata": {},
   "outputs": [
    {
     "data": {
      "text/plain": [
       "array([[824,   0,  17,  36,   4,   1, 105,   1,  12,   0],\n",
       "       [  3, 964,   2,  25,   3,   0,   1,   0,   2,   0],\n",
       "       [ 12,   0, 801,  19,  58,   0,  98,   0,  11,   1],\n",
       "       [ 18,   6,  11, 923,  12,   0,  24,   0,   6,   0],\n",
       "       [  0,   1, 127,  54, 716,   0,  97,   0,   5,   0],\n",
       "       [  0,   0,   0,   0,   0, 945,   0,  40,   3,  12],\n",
       "       [111,   2,  70,  38,  41,   0, 718,   0,  20,   0],\n",
       "       [  0,   0,   0,   0,   0,  10,   0, 978,   0,  12],\n",
       "       [  2,   0,   1,  10,   3,   1,   4,   5, 974,   0],\n",
       "       [  0,   0,   0,   0,   0,  10,   1,  59,   0, 930]])"
      ]
     },
     "execution_count": 31,
     "metadata": {},
     "output_type": "execute_result"
    }
   ],
   "source": [
    "from sklearn.metrics import confusion_matrix\n",
    "confusion_matrix(y_test, y_pred)"
   ]
  }
 ],
 "metadata": {
  "kernelspec": {
   "display_name": "tfenv",
   "language": "python",
   "name": "python3"
  },
  "language_info": {
   "codemirror_mode": {
    "name": "ipython",
    "version": 3
   },
   "file_extension": ".py",
   "mimetype": "text/x-python",
   "name": "python",
   "nbconvert_exporter": "python",
   "pygments_lexer": "ipython3",
   "version": "3.10.6"
  },
  "orig_nbformat": 4,
  "vscode": {
   "interpreter": {
    "hash": "6fa4d6c4cdc733e174eb5e60a9dfb6a52b29e1ede213d05e1579530ccfe5f44f"
   }
  }
 },
 "nbformat": 4,
 "nbformat_minor": 2
}
