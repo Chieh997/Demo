{
 "cells": [
  {
   "attachments": {},
   "cell_type": "markdown",
   "metadata": {},
   "source": [
    "# DL(w10) AE\n",
    "student ID: 7110018036\\\n",
    "name: Chieh-An, Chou"
   ]
  },
  {
   "cell_type": "code",
   "execution_count": 1,
   "metadata": {},
   "outputs": [
    {
     "name": "stderr",
     "output_type": "stream",
     "text": [
      "2023-05-10 14:14:08.784349: I tensorflow/core/platform/cpu_feature_guard.cc:193] This TensorFlow binary is optimized with oneAPI Deep Neural Network Library (oneDNN) to use the following CPU instructions in performance-critical operations:  AVX2 FMA\n",
      "To enable them in other operations, rebuild TensorFlow with the appropriate compiler flags.\n"
     ]
    }
   ],
   "source": [
    "import numpy as np\n",
    "import pandas as pd\n",
    "import tensorflow as tf\n",
    "from tensorflow import keras\n",
    "import matplotlib.pyplot as plt\n",
    "import matplotlib as mpl"
   ]
  },
  {
   "attachments": {},
   "cell_type": "markdown",
   "metadata": {},
   "source": [
    "# Stacked Autoencoders"
   ]
  },
  {
   "attachments": {},
   "cell_type": "markdown",
   "metadata": {},
   "source": [
    "## Data"
   ]
  },
  {
   "cell_type": "code",
   "execution_count": 2,
   "metadata": {},
   "outputs": [],
   "source": [
    "from tensorflow.keras.datasets import fashion_mnist\n",
    "(x_train_set, y_train_set), (x_test, y_test) = fashion_mnist.load_data()\n",
    "\n",
    "x_train_set = x_train_set/255.0\n",
    "x_test = x_test/255.0"
   ]
  },
  {
   "cell_type": "code",
   "execution_count": 3,
   "metadata": {},
   "outputs": [
    {
     "data": {
      "text/plain": [
       "((60000, 28, 28), (60000,), (10000, 28, 28), (10000,))"
      ]
     },
     "execution_count": 3,
     "metadata": {},
     "output_type": "execute_result"
    }
   ],
   "source": [
    "# (check data)\n",
    "x_train_set.shape, y_train_set.shape, x_test.shape, y_test.shape"
   ]
  },
  {
   "cell_type": "code",
   "execution_count": 4,
   "metadata": {},
   "outputs": [
    {
     "name": "stdout",
     "output_type": "stream",
     "text": [
      "0\n"
     ]
    },
    {
     "data": {
      "image/png": "[encoded data removed]",
      "text/plain": [
       "<Figure size 640x480 with 1 Axes>"
      ]
     },
     "metadata": {},
     "output_type": "display_data"
    }
   ],
   "source": [
    "i = 2\n",
    "print(y_train_set[i])\n",
    "plt.imshow(x_train_set[i], cmap='binary')\n",
    "plt.show()"
   ]
  },
  {
   "cell_type": "code",
   "execution_count": 5,
   "metadata": {},
   "outputs": [],
   "source": [
    "# Split data\n",
    "from sklearn.model_selection import train_test_split\n",
    "x_train, x_valid, y_train, y_valid = train_test_split(x_train_set, y_train_set, random_state = 1)"
   ]
  },
  {
   "attachments": {},
   "cell_type": "markdown",
   "metadata": {},
   "source": [
    "## Convolutional Autoencoder"
   ]
  },
  {
   "attachments": {},
   "cell_type": "markdown",
   "metadata": {},
   "source": [
    "### 1. Build Model"
   ]
  },
  {
   "cell_type": "code",
   "execution_count": 6,
   "metadata": {},
   "outputs": [],
   "source": [
    "np.random.seed(1)\n",
    "tf.random.set_seed(1)"
   ]
  },
  {
   "cell_type": "code",
   "execution_count": 7,
   "metadata": {},
   "outputs": [
    {
     "name": "stderr",
     "output_type": "stream",
     "text": [
      "2023-05-10 11:21:43.016593: I tensorflow/compiler/xla/stream_executor/cuda/cuda_gpu_executor.cc:981] successful NUMA node read from SysFS had negative value (-1), but there must be at least one NUMA node, so returning NUMA node zero\n",
      "2023-05-10 11:21:43.038686: I tensorflow/compiler/xla/stream_executor/cuda/cuda_gpu_executor.cc:981] successful NUMA node read from SysFS had negative value (-1), but there must be at least one NUMA node, so returning NUMA node zero\n",
      "2023-05-10 11:21:43.038778: I tensorflow/compiler/xla/stream_executor/cuda/cuda_gpu_executor.cc:981] successful NUMA node read from SysFS had negative value (-1), but there must be at least one NUMA node, so returning NUMA node zero\n",
      "2023-05-10 11:21:43.039095: I tensorflow/core/platform/cpu_feature_guard.cc:193] This TensorFlow binary is optimized with oneAPI Deep Neural Network Library (oneDNN) to use the following CPU instructions in performance-critical operations:  AVX2 FMA\n",
      "To enable them in other operations, rebuild TensorFlow with the appropriate compiler flags.\n",
      "2023-05-10 11:21:43.039695: I tensorflow/compiler/xla/stream_executor/cuda/cuda_gpu_executor.cc:981] successful NUMA node read from SysFS had negative value (-1), but there must be at least one NUMA node, so returning NUMA node zero\n",
      "2023-05-10 11:21:43.039788: I tensorflow/compiler/xla/stream_executor/cuda/cuda_gpu_executor.cc:981] successful NUMA node read from SysFS had negative value (-1), but there must be at least one NUMA node, so returning NUMA node zero\n",
      "2023-05-10 11:21:43.039857: I tensorflow/compiler/xla/stream_executor/cuda/cuda_gpu_executor.cc:981] successful NUMA node read from SysFS had negative value (-1), but there must be at least one NUMA node, so returning NUMA node zero\n",
      "2023-05-10 11:21:43.372295: I tensorflow/compiler/xla/stream_executor/cuda/cuda_gpu_executor.cc:981] successful NUMA node read from SysFS had negative value (-1), but there must be at least one NUMA node, so returning NUMA node zero\n",
      "2023-05-10 11:21:43.372399: I tensorflow/compiler/xla/stream_executor/cuda/cuda_gpu_executor.cc:981] successful NUMA node read from SysFS had negative value (-1), but there must be at least one NUMA node, so returning NUMA node zero\n",
      "2023-05-10 11:21:43.372470: I tensorflow/compiler/xla/stream_executor/cuda/cuda_gpu_executor.cc:981] successful NUMA node read from SysFS had negative value (-1), but there must be at least one NUMA node, so returning NUMA node zero\n",
      "2023-05-10 11:21:43.372534: I tensorflow/core/common_runtime/gpu/gpu_device.cc:1613] Created device /job:localhost/replica:0/task:0/device:GPU:0 with 7941 MB memory:  -> device: 0, name: NVIDIA GeForce RTX 3080, pci bus id: 0000:01:00.0, compute capability: 8.6\n"
     ]
    }
   ],
   "source": [
    "conv_encoder = keras.models.Sequential([\n",
    "    keras.layers.Reshape([28,28,1],input_shape=[28, 28]), # add dimension of channel \n",
    "    keras.layers.Conv2D(16, kernel_size=3, padding='same', activation='selu'), \n",
    "    keras.layers.MaxPooling2D(pool_size=2),\n",
    "    keras.layers.Conv2D(32, kernel_size=3, padding='same', activation='selu'),\n",
    "    keras.layers.MaxPooling2D(pool_size=2),\n",
    "    keras.layers.Conv2D(64, kernel_size=3, padding='same', activation='selu'),\n",
    "    keras.layers.MaxPooling2D(pool_size=2),\n",
    "])\n",
    "conv_decoder = keras.models.Sequential([\n",
    "    keras.layers.Conv2DTranspose(32, kernel_size=3, strides=2, padding='valid', \n",
    "                                 activation='selu', input_shape = [3,3,64]),\n",
    "    keras.layers.Conv2DTranspose(16, kernel_size=3, strides=2, padding='same', activation='selu'),\n",
    "    keras.layers.Conv2DTranspose(1, kernel_size=3, strides=2, padding='same', activation='sigmoid'),\n",
    "    keras.layers.Reshape([28,28])\n",
    "])\n",
    "conv_ae = keras.models.Sequential([conv_encoder, conv_decoder])"
   ]
  },
  {
   "attachments": {},
   "cell_type": "markdown",
   "metadata": {},
   "source": [
    "+ Convolution: $\\text{Output}_c = floor(\\dfrac{\\text{Input}-k+2p}{s}+1)$\n",
    "\n",
    "+ Pooling: $\\text{Output}_p = \\begin{cases}floor(\\dfrac{\\text{Input}-k}{s}+1)& \\text{, if padding = 'valid'} \\\\ floor(\\dfrac{\\text{Input}-1}{s}+1)& \\text{, if padding = 'same'} \\end{cases}$\n"
   ]
  },
  {
   "cell_type": "code",
   "execution_count": 8,
   "metadata": {},
   "outputs": [
    {
     "name": "stdout",
     "output_type": "stream",
     "text": [
      "Model: \"sequential\"\n",
      "_________________________________________________________________\n",
      " Layer (type)                Output Shape              Param #   \n",
      "=================================================================\n",
      " reshape (Reshape)           (None, 28, 28, 1)         0         \n",
      "                                                                 \n",
      " conv2d (Conv2D)             (None, 28, 28, 16)        160       \n",
      "                                                                 \n",
      " max_pooling2d (MaxPooling2D  (None, 14, 14, 16)       0         \n",
      " )                                                               \n",
      "                                                                 \n",
      " conv2d_1 (Conv2D)           (None, 14, 14, 32)        4640      \n",
      "                                                                 \n",
      " max_pooling2d_1 (MaxPooling  (None, 7, 7, 32)         0         \n",
      " 2D)                                                             \n",
      "                                                                 \n",
      " conv2d_2 (Conv2D)           (None, 7, 7, 64)          18496     \n",
      "                                                                 \n",
      " max_pooling2d_2 (MaxPooling  (None, 3, 3, 64)         0         \n",
      " 2D)                                                             \n",
      "                                                                 \n",
      "=================================================================\n",
      "Total params: 23,296\n",
      "Trainable params: 23,296\n",
      "Non-trainable params: 0\n",
      "_________________________________________________________________\n"
     ]
    }
   ],
   "source": [
    "conv_encoder.summary()"
   ]
  },
  {
   "attachments": {},
   "cell_type": "markdown",
   "metadata": {},
   "source": [
    "+ Transposed Convolution: (default - `output_padding = 'None'`) \\\n",
    "$\\text{Output}_tc = \\begin{cases}s\\times\\text{Input}+\\max(k-s,0)& \\text{, if padding = 'valid'} \\\\ s\\times\\text{Input}& \\text{, if padding = 'same'} \\end{cases}$"
   ]
  },
  {
   "cell_type": "code",
   "execution_count": 9,
   "metadata": {},
   "outputs": [
    {
     "name": "stdout",
     "output_type": "stream",
     "text": [
      "Model: \"sequential_1\"\n",
      "_________________________________________________________________\n",
      " Layer (type)                Output Shape              Param #   \n",
      "=================================================================\n",
      " conv2d_transpose (Conv2DTra  (None, 7, 7, 32)         18464     \n",
      " nspose)                                                         \n",
      "                                                                 \n",
      " conv2d_transpose_1 (Conv2DT  (None, 14, 14, 16)       4624      \n",
      " ranspose)                                                       \n",
      "                                                                 \n",
      " conv2d_transpose_2 (Conv2DT  (None, 28, 28, 1)        145       \n",
      " ranspose)                                                       \n",
      "                                                                 \n",
      " reshape_1 (Reshape)         (None, 28, 28)            0         \n",
      "                                                                 \n",
      "=================================================================\n",
      "Total params: 23,233\n",
      "Trainable params: 23,233\n",
      "Non-trainable params: 0\n",
      "_________________________________________________________________\n"
     ]
    }
   ],
   "source": [
    "conv_decoder.summary()"
   ]
  },
  {
   "cell_type": "code",
   "execution_count": 10,
   "metadata": {},
   "outputs": [
    {
     "name": "stdout",
     "output_type": "stream",
     "text": [
      "Model: \"sequential_2\"\n",
      "_________________________________________________________________\n",
      " Layer (type)                Output Shape              Param #   \n",
      "=================================================================\n",
      " sequential (Sequential)     (None, 3, 3, 64)          23296     \n",
      "                                                                 \n",
      " sequential_1 (Sequential)   (None, 28, 28)            23233     \n",
      "                                                                 \n",
      "=================================================================\n",
      "Total params: 46,529\n",
      "Trainable params: 46,529\n",
      "Non-trainable params: 0\n",
      "_________________________________________________________________\n"
     ]
    }
   ],
   "source": [
    "conv_ae.summary()"
   ]
  },
  {
   "attachments": {},
   "cell_type": "markdown",
   "metadata": {},
   "source": [
    "### 2. Compile"
   ]
  },
  {
   "cell_type": "code",
   "execution_count": 11,
   "metadata": {},
   "outputs": [],
   "source": [
    "def rounded_accuracy(y_true, y_pred):\n",
    "    return keras.metrics.binary_accuracy(tf.round(y_true), tf.round(y_pred)) # 0~1 -> 0,1\n",
    "conv_ae.compile(loss='binary_crossentropy',   # pixel-by-pixel compare original and reconstructed images\n",
    "                optimizer=keras.optimizers.SGD(learning_rate=1.0),\n",
    "                metrics=[rounded_accuracy])"
   ]
  },
  {
   "attachments": {},
   "cell_type": "markdown",
   "metadata": {},
   "source": [
    "### 3. Train "
   ]
  },
  {
   "cell_type": "code",
   "execution_count": 12,
   "metadata": {},
   "outputs": [
    {
     "name": "stdout",
     "output_type": "stream",
     "text": [
      "Epoch 1/20\n"
     ]
    },
    {
     "name": "stderr",
     "output_type": "stream",
     "text": [
      "2023-05-10 11:21:45.541503: I tensorflow/compiler/xla/stream_executor/cuda/cuda_dnn.cc:428] Loaded cuDNN version 8400\n",
      "2023-05-10 11:21:48.125980: I tensorflow/compiler/xla/service/service.cc:173] XLA service 0x7f57940a1fc0 initialized for platform CUDA (this does not guarantee that XLA will be used). Devices:\n",
      "2023-05-10 11:21:48.125997: I tensorflow/compiler/xla/service/service.cc:181]   StreamExecutor device (0): NVIDIA GeForce RTX 3080, Compute Capability 8.6\n",
      "2023-05-10 11:21:48.155969: I tensorflow/compiler/jit/xla_compilation_cache.cc:477] Compiled cluster using XLA!  This line is logged at most once for the lifetime of the process.\n"
     ]
    },
    {
     "name": "stdout",
     "output_type": "stream",
     "text": [
      "1407/1407 [==============================] - 17s 9ms/step - loss: 0.3061 - rounded_accuracy: 0.9158 - val_loss: 0.2814 - val_rounded_accuracy: 0.9347\n",
      "Epoch 2/20\n",
      "1407/1407 [==============================] - 9s 7ms/step - loss: 0.2778 - rounded_accuracy: 0.9398 - val_loss: 0.2734 - val_rounded_accuracy: 0.9450\n",
      "Epoch 3/20\n",
      "1407/1407 [==============================] - 15s 11ms/step - loss: 0.2730 - rounded_accuracy: 0.9446 - val_loss: 0.2700 - val_rounded_accuracy: 0.9472\n",
      "Epoch 4/20\n",
      "1407/1407 [==============================] - 15s 10ms/step - loss: 0.2704 - rounded_accuracy: 0.9472 - val_loss: 0.2684 - val_rounded_accuracy: 0.9477\n",
      "Epoch 5/20\n",
      "1407/1407 [==============================] - 14s 10ms/step - loss: 0.2686 - rounded_accuracy: 0.9490 - val_loss: 0.2734 - val_rounded_accuracy: 0.9444\n",
      "Epoch 6/20\n",
      "1407/1407 [==============================] - 9s 7ms/step - loss: 0.2674 - rounded_accuracy: 0.9504 - val_loss: 0.2651 - val_rounded_accuracy: 0.9516\n",
      "Epoch 7/20\n",
      "1407/1407 [==============================] - 12s 8ms/step - loss: 0.2663 - rounded_accuracy: 0.9515 - val_loss: 0.2654 - val_rounded_accuracy: 0.9525\n",
      "Epoch 8/20\n",
      "1407/1407 [==============================] - 10s 7ms/step - loss: 0.2653 - rounded_accuracy: 0.9526 - val_loss: 0.2641 - val_rounded_accuracy: 0.9528\n",
      "Epoch 9/20\n",
      "1407/1407 [==============================] - 12s 9ms/step - loss: 0.2646 - rounded_accuracy: 0.9534 - val_loss: 0.2664 - val_rounded_accuracy: 0.9513\n",
      "Epoch 10/20\n",
      "1407/1407 [==============================] - 10s 7ms/step - loss: 0.2639 - rounded_accuracy: 0.9542 - val_loss: 0.2625 - val_rounded_accuracy: 0.9544\n",
      "Epoch 11/20\n",
      "1407/1407 [==============================] - 14s 10ms/step - loss: 0.2633 - rounded_accuracy: 0.9550 - val_loss: 0.2616 - val_rounded_accuracy: 0.9559\n",
      "Epoch 12/20\n",
      "1407/1407 [==============================] - 15s 10ms/step - loss: 0.2628 - rounded_accuracy: 0.9555 - val_loss: 0.2625 - val_rounded_accuracy: 0.9547\n",
      "Epoch 13/20\n",
      "1407/1407 [==============================] - 12s 9ms/step - loss: 0.2624 - rounded_accuracy: 0.9561 - val_loss: 0.2612 - val_rounded_accuracy: 0.9568\n",
      "Epoch 14/20\n",
      "1407/1407 [==============================] - 15s 11ms/step - loss: 0.2620 - rounded_accuracy: 0.9566 - val_loss: 0.2609 - val_rounded_accuracy: 0.9562\n",
      "Epoch 15/20\n",
      "1407/1407 [==============================] - 17s 12ms/step - loss: 0.2615 - rounded_accuracy: 0.9571 - val_loss: 0.2596 - val_rounded_accuracy: 0.9586\n",
      "Epoch 16/20\n",
      "1407/1407 [==============================] - 16s 12ms/step - loss: 0.2612 - rounded_accuracy: 0.9575 - val_loss: 0.2591 - val_rounded_accuracy: 0.9593\n",
      "Epoch 17/20\n",
      "1407/1407 [==============================] - 15s 11ms/step - loss: 0.2609 - rounded_accuracy: 0.9579 - val_loss: 0.2597 - val_rounded_accuracy: 0.9573\n",
      "Epoch 18/20\n",
      "1407/1407 [==============================] - 10s 7ms/step - loss: 0.2606 - rounded_accuracy: 0.9582 - val_loss: 0.2588 - val_rounded_accuracy: 0.9593\n",
      "Epoch 19/20\n",
      "1407/1407 [==============================] - 12s 9ms/step - loss: 0.2603 - rounded_accuracy: 0.9586 - val_loss: 0.2605 - val_rounded_accuracy: 0.9556\n",
      "Epoch 20/20\n",
      "1407/1407 [==============================] - 12s 9ms/step - loss: 0.2601 - rounded_accuracy: 0.9590 - val_loss: 0.2590 - val_rounded_accuracy: 0.9581\n"
     ]
    }
   ],
   "source": [
    "train = conv_ae.fit(x_train, x_train, epochs=20, validation_data=(x_valid, x_valid))"
   ]
  },
  {
   "cell_type": "code",
   "execution_count": 13,
   "metadata": {},
   "outputs": [
    {
     "data": {
      "image/png": "[encoded data removed]",
      "text/plain": [
       "<Figure size 640x480 with 1 Axes>"
      ]
     },
     "metadata": {},
     "output_type": "display_data"
    }
   ],
   "source": [
    "pd.DataFrame(train.history).plot()\n",
    "plt.grid(True)\n",
    "plt.show()"
   ]
  },
  {
   "attachments": {},
   "cell_type": "markdown",
   "metadata": {},
   "source": [
    "### 4. Evaluate"
   ]
  },
  {
   "cell_type": "code",
   "execution_count": 14,
   "metadata": {},
   "outputs": [
    {
     "name": "stdout",
     "output_type": "stream",
     "text": [
      "313/313 [==============================] - 1s 2ms/step - loss: 0.2623 - rounded_accuracy: 0.9567\n"
     ]
    },
    {
     "data": {
      "text/plain": [
       "[0.26226291060447693, 0.956696629524231]"
      ]
     },
     "execution_count": 14,
     "metadata": {},
     "output_type": "execute_result"
    }
   ],
   "source": [
    "conv_ae.evaluate(x_test, x_test)"
   ]
  },
  {
   "attachments": {},
   "cell_type": "markdown",
   "metadata": {},
   "source": [
    "### 5. Predict (Reconstruct)"
   ]
  },
  {
   "cell_type": "code",
   "execution_count": 15,
   "metadata": {},
   "outputs": [
    {
     "name": "stdout",
     "output_type": "stream",
     "text": [
      "313/313 [==============================] - 0s 1ms/step\n"
     ]
    }
   ],
   "source": [
    "x_test_decoded = conv_ae.predict(x_test)"
   ]
  },
  {
   "cell_type": "code",
   "execution_count": 16,
   "metadata": {},
   "outputs": [
    {
     "data": {
      "image/png": "[encoded data removed]",
      "text/plain": [
       "<Figure size 1000x400 with 10 Axes>"
      ]
     },
     "metadata": {},
     "output_type": "display_data"
    }
   ],
   "source": [
    "plt.figure(figsize=(10, 4))\n",
    "\n",
    "for i in range(5):\n",
    "    plt.subplot(2, 5, 1 + i)\n",
    "    plt.imshow(x_test[i], cmap='binary')\n",
    "    plt.title('Original')\n",
    "    plt.axis('off')\n",
    "\n",
    "    plt.subplot(2, 5, 1+ 5 + i)\n",
    "    plt.imshow(x_test_decoded[i], cmap='binary')\n",
    "    plt.title('Reconstructed')\n",
    "    plt.axis('off')\n",
    "plt.show()"
   ]
  },
  {
   "attachments": {},
   "cell_type": "markdown",
   "metadata": {},
   "source": [
    "### (Checking codings)"
   ]
  },
  {
   "cell_type": "code",
   "execution_count": 17,
   "metadata": {},
   "outputs": [
    {
     "name": "stdout",
     "output_type": "stream",
     "text": [
      "313/313 [==============================] - 0s 932us/step\n"
     ]
    },
    {
     "data": {
      "text/plain": [
       "(10000, 3, 3, 64)"
      ]
     },
     "execution_count": 17,
     "metadata": {},
     "output_type": "execute_result"
    }
   ],
   "source": [
    "x_test_codings = conv_encoder.predict(x_test)\n",
    "x_test_codings.shape"
   ]
  },
  {
   "cell_type": "code",
   "execution_count": 18,
   "metadata": {},
   "outputs": [
    {
     "data": {
      "image/png": "[encoded data removed]",
      "text/plain": [
       "<Figure size 640x480 with 64 Axes>"
      ]
     },
     "metadata": {},
     "output_type": "display_data"
    }
   ],
   "source": [
    "i = 0\n",
    "for j in range(64):\n",
    "    plt.subplot(8,8,1+j)\n",
    "    plt.imshow(x_test_codings[i, :,:,j], cmap='binary')\n",
    "    plt.axis('off')\n",
    "plt.show()"
   ]
  },
  {
   "cell_type": "code",
   "execution_count": null,
   "metadata": {},
   "outputs": [],
   "source": []
  },
  {
   "attachments": {},
   "cell_type": "markdown",
   "metadata": {},
   "source": [
    "## Application: Unsupervised Pretraining"
   ]
  },
  {
   "attachments": {},
   "cell_type": "markdown",
   "metadata": {},
   "source": [
    "### Data"
   ]
  },
  {
   "cell_type": "code",
   "execution_count": 19,
   "metadata": {},
   "outputs": [],
   "source": [
    "x_train_lab = x_train[:500]\n",
    "y_train_lab = y_train[:500]"
   ]
  },
  {
   "attachments": {},
   "cell_type": "markdown",
   "metadata": {},
   "source": [
    "### Model 1: Classifier without Pretraining\n",
    "#### 1.1 Build Model"
   ]
  },
  {
   "cell_type": "code",
   "execution_count": 20,
   "metadata": {},
   "outputs": [],
   "source": [
    "np.random.seed(1)\n",
    "tf.random.set_seed(1)"
   ]
  },
  {
   "cell_type": "code",
   "execution_count": 21,
   "metadata": {},
   "outputs": [],
   "source": [
    "clf = keras.models.Sequential([\n",
    "    keras.layers.Reshape([28,28,1],input_shape=[28, 28]), # add dimension of channel \n",
    "    keras.layers.Conv2D(16, kernel_size=3, padding='same', activation='selu'), \n",
    "    keras.layers.MaxPooling2D(pool_size=2),\n",
    "    keras.layers.Conv2D(32, kernel_size=3, padding='same', activation='selu'),\n",
    "    keras.layers.MaxPooling2D(pool_size=2),\n",
    "    keras.layers.Conv2D(64, kernel_size=3, padding='same', activation='selu'),\n",
    "    keras.layers.MaxPooling2D(pool_size=2),\n",
    "    # Fully Connected Layers\n",
    "    keras.layers.Flatten(),\n",
    "    keras.layers.Dense(20, activation='selu'),\n",
    "    keras.layers.Dense(10, activation='softmax')\n",
    "])"
   ]
  },
  {
   "cell_type": "code",
   "execution_count": 22,
   "metadata": {},
   "outputs": [
    {
     "name": "stdout",
     "output_type": "stream",
     "text": [
      "Model: \"sequential_3\"\n",
      "_________________________________________________________________\n",
      " Layer (type)                Output Shape              Param #   \n",
      "=================================================================\n",
      " reshape_2 (Reshape)         (None, 28, 28, 1)         0         \n",
      "                                                                 \n",
      " conv2d_3 (Conv2D)           (None, 28, 28, 16)        160       \n",
      "                                                                 \n",
      " max_pooling2d_3 (MaxPooling  (None, 14, 14, 16)       0         \n",
      " 2D)                                                             \n",
      "                                                                 \n",
      " conv2d_4 (Conv2D)           (None, 14, 14, 32)        4640      \n",
      "                                                                 \n",
      " max_pooling2d_4 (MaxPooling  (None, 7, 7, 32)         0         \n",
      " 2D)                                                             \n",
      "                                                                 \n",
      " conv2d_5 (Conv2D)           (None, 7, 7, 64)          18496     \n",
      "                                                                 \n",
      " max_pooling2d_5 (MaxPooling  (None, 3, 3, 64)         0         \n",
      " 2D)                                                             \n",
      "                                                                 \n",
      " flatten (Flatten)           (None, 576)               0         \n",
      "                                                                 \n",
      " dense (Dense)               (None, 20)                11540     \n",
      "                                                                 \n",
      " dense_1 (Dense)             (None, 10)                210       \n",
      "                                                                 \n",
      "=================================================================\n",
      "Total params: 35,046\n",
      "Trainable params: 35,046\n",
      "Non-trainable params: 0\n",
      "_________________________________________________________________\n"
     ]
    }
   ],
   "source": [
    "clf.summary()"
   ]
  },
  {
   "attachments": {},
   "cell_type": "markdown",
   "metadata": {},
   "source": [
    "#### 1.2 Compile"
   ]
  },
  {
   "cell_type": "code",
   "execution_count": 23,
   "metadata": {},
   "outputs": [],
   "source": [
    "clf.compile(loss='sparse_categorical_crossentropy',   \n",
    "            optimizer=keras.optimizers.SGD(learning_rate=.02),\n",
    "            metrics=['accuracy'])"
   ]
  },
  {
   "attachments": {},
   "cell_type": "markdown",
   "metadata": {},
   "source": [
    "#### 1.3 Train "
   ]
  },
  {
   "cell_type": "code",
   "execution_count": 24,
   "metadata": {},
   "outputs": [
    {
     "name": "stdout",
     "output_type": "stream",
     "text": [
      "Epoch 1/30\n",
      " 1/16 [>.............................] - ETA: 7s - loss: 2.3311 - accuracy: 0.0625"
     ]
    },
    {
     "name": "stderr",
     "output_type": "stream",
     "text": [
      "2023-05-10 11:32:38.844796: I tensorflow/compiler/xla/stream_executor/cuda/cuda_blas.cc:630] TensorFloat-32 will be used for the matrix multiplication. This will only be logged once.\n"
     ]
    },
    {
     "name": "stdout",
     "output_type": "stream",
     "text": [
      "16/16 [==============================] - 1s 50ms/step - loss: 2.0933 - accuracy: 0.2940 - val_loss: 1.8657 - val_accuracy: 0.4161\n",
      "Epoch 2/30\n",
      "16/16 [==============================] - 1s 41ms/step - loss: 1.6138 - accuracy: 0.5620 - val_loss: 1.3938 - val_accuracy: 0.5621\n",
      "Epoch 3/30\n",
      "16/16 [==============================] - 1s 41ms/step - loss: 1.2520 - accuracy: 0.6120 - val_loss: 1.1369 - val_accuracy: 0.6492\n",
      "Epoch 4/30\n",
      "16/16 [==============================] - 1s 42ms/step - loss: 1.0362 - accuracy: 0.6460 - val_loss: 1.1664 - val_accuracy: 0.5669\n",
      "Epoch 5/30\n",
      "16/16 [==============================] - 1s 40ms/step - loss: 0.9206 - accuracy: 0.6900 - val_loss: 0.9118 - val_accuracy: 0.6849\n",
      "Epoch 6/30\n",
      "16/16 [==============================] - 1s 41ms/step - loss: 0.8714 - accuracy: 0.7120 - val_loss: 0.8826 - val_accuracy: 0.6843\n",
      "Epoch 7/30\n",
      "16/16 [==============================] - 1s 47ms/step - loss: 0.7731 - accuracy: 0.7400 - val_loss: 0.8366 - val_accuracy: 0.6989\n",
      "Epoch 8/30\n",
      "16/16 [==============================] - 1s 53ms/step - loss: 0.7173 - accuracy: 0.7680 - val_loss: 0.9047 - val_accuracy: 0.6668\n",
      "Epoch 9/30\n",
      "16/16 [==============================] - 1s 80ms/step - loss: 0.6862 - accuracy: 0.7460 - val_loss: 0.7833 - val_accuracy: 0.7055\n",
      "Epoch 10/30\n",
      "16/16 [==============================] - 1s 54ms/step - loss: 0.6686 - accuracy: 0.7480 - val_loss: 0.7460 - val_accuracy: 0.7259\n",
      "Epoch 11/30\n",
      "16/16 [==============================] - 1s 41ms/step - loss: 0.6126 - accuracy: 0.7820 - val_loss: 0.8560 - val_accuracy: 0.6714\n",
      "Epoch 12/30\n",
      "16/16 [==============================] - 1s 38ms/step - loss: 0.6366 - accuracy: 0.7820 - val_loss: 0.7461 - val_accuracy: 0.7131\n",
      "Epoch 13/30\n",
      "16/16 [==============================] - 1s 38ms/step - loss: 0.6087 - accuracy: 0.7780 - val_loss: 0.7620 - val_accuracy: 0.7025\n",
      "Epoch 14/30\n",
      "16/16 [==============================] - 1s 37ms/step - loss: 0.5708 - accuracy: 0.7840 - val_loss: 0.7015 - val_accuracy: 0.7334\n",
      "Epoch 15/30\n",
      "16/16 [==============================] - 1s 39ms/step - loss: 0.5852 - accuracy: 0.7780 - val_loss: 0.7158 - val_accuracy: 0.7315\n",
      "Epoch 16/30\n",
      "16/16 [==============================] - 1s 41ms/step - loss: 0.5555 - accuracy: 0.7980 - val_loss: 0.6798 - val_accuracy: 0.7465\n",
      "Epoch 17/30\n",
      "16/16 [==============================] - 1s 39ms/step - loss: 0.5112 - accuracy: 0.8120 - val_loss: 0.7584 - val_accuracy: 0.7108\n",
      "Epoch 18/30\n",
      "16/16 [==============================] - 1s 52ms/step - loss: 0.5124 - accuracy: 0.8080 - val_loss: 0.7388 - val_accuracy: 0.7097\n",
      "Epoch 19/30\n",
      "16/16 [==============================] - 1s 53ms/step - loss: 0.5068 - accuracy: 0.8180 - val_loss: 0.6651 - val_accuracy: 0.7435\n",
      "Epoch 20/30\n",
      "16/16 [==============================] - 1s 45ms/step - loss: 0.5011 - accuracy: 0.8360 - val_loss: 0.7824 - val_accuracy: 0.7182\n",
      "Epoch 21/30\n",
      "16/16 [==============================] - 1s 43ms/step - loss: 0.4659 - accuracy: 0.8380 - val_loss: 0.6760 - val_accuracy: 0.7385\n",
      "Epoch 22/30\n",
      "16/16 [==============================] - 1s 40ms/step - loss: 0.4666 - accuracy: 0.8340 - val_loss: 0.6674 - val_accuracy: 0.7478\n",
      "Epoch 23/30\n",
      "16/16 [==============================] - 1s 38ms/step - loss: 0.4420 - accuracy: 0.8440 - val_loss: 0.6468 - val_accuracy: 0.7498\n",
      "Epoch 24/30\n",
      "16/16 [==============================] - 1s 39ms/step - loss: 0.4261 - accuracy: 0.8480 - val_loss: 0.6918 - val_accuracy: 0.7240\n",
      "Epoch 25/30\n",
      "16/16 [==============================] - 1s 39ms/step - loss: 0.4318 - accuracy: 0.8360 - val_loss: 0.6297 - val_accuracy: 0.7703\n",
      "Epoch 26/30\n",
      "16/16 [==============================] - 1s 52ms/step - loss: 0.4036 - accuracy: 0.8640 - val_loss: 0.7362 - val_accuracy: 0.7153\n",
      "Epoch 27/30\n",
      "16/16 [==============================] - 1s 49ms/step - loss: 0.4369 - accuracy: 0.8380 - val_loss: 0.6553 - val_accuracy: 0.7581\n",
      "Epoch 28/30\n",
      "16/16 [==============================] - 1s 37ms/step - loss: 0.3820 - accuracy: 0.8640 - val_loss: 0.6585 - val_accuracy: 0.7443\n",
      "Epoch 29/30\n",
      "16/16 [==============================] - 1s 36ms/step - loss: 0.3630 - accuracy: 0.8720 - val_loss: 0.6606 - val_accuracy: 0.7552\n",
      "Epoch 30/30\n",
      "16/16 [==============================] - 1s 38ms/step - loss: 0.3649 - accuracy: 0.8680 - val_loss: 0.7252 - val_accuracy: 0.7340\n"
     ]
    }
   ],
   "source": [
    "train = clf.fit(x_train_lab, y_train_lab, epochs=30, validation_data=(x_valid, y_valid))"
   ]
  },
  {
   "cell_type": "code",
   "execution_count": 25,
   "metadata": {},
   "outputs": [
    {
     "data": {
      "image/png": "[encoded data removed]",
      "text/plain": [
       "<Figure size 640x480 with 1 Axes>"
      ]
     },
     "metadata": {},
     "output_type": "display_data"
    }
   ],
   "source": [
    "pd.DataFrame(train.history).plot()\n",
    "plt.grid(True)\n",
    "plt.show()"
   ]
  },
  {
   "attachments": {},
   "cell_type": "markdown",
   "metadata": {},
   "source": [
    "#### 1.4 Evaluate"
   ]
  },
  {
   "cell_type": "code",
   "execution_count": 27,
   "metadata": {},
   "outputs": [
    {
     "name": "stdout",
     "output_type": "stream",
     "text": [
      "313/313 [==============================] - 0s 1ms/step - loss: 0.7414 - accuracy: 0.7329\n"
     ]
    },
    {
     "data": {
      "text/plain": [
       "[0.7413964867591858, 0.7329000234603882]"
      ]
     },
     "execution_count": 27,
     "metadata": {},
     "output_type": "execute_result"
    }
   ],
   "source": [
    "clf.evaluate(x_test, y_test)"
   ]
  },
  {
   "attachments": {},
   "cell_type": "markdown",
   "metadata": {},
   "source": [
    "#### 1.5 Predict"
   ]
  },
  {
   "cell_type": "code",
   "execution_count": 28,
   "metadata": {},
   "outputs": [
    {
     "name": "stdout",
     "output_type": "stream",
     "text": [
      "313/313 [==============================] - 0s 1ms/step\n",
      "y_prob = \n",
      "[[0.   0.   0.   0.   0.   0.16 0.   0.7  0.   0.14]\n",
      " [0.   0.02 0.58 0.   0.32 0.   0.07 0.   0.   0.  ]\n",
      " [0.   1.   0.   0.   0.   0.   0.   0.   0.   0.  ]]\n",
      "y_pred =  [7 2 1]\n",
      "y_true =  [9 2 1]\n"
     ]
    }
   ],
   "source": [
    "y_prob = clf.predict(x_test)\n",
    "print(\"y_prob = \", y_prob[:3].round(2), sep=\"\\n\")\n",
    "y_pred = np.argmax(y_prob,axis=1)\n",
    "print(\"y_pred = \", y_pred[:3])\n",
    "print(\"y_true = \", y_test[:3].T)"
   ]
  },
  {
   "attachments": {},
   "cell_type": "markdown",
   "metadata": {},
   "source": [
    "### Model 2: Classifier with Unsupervised Pretraining\n",
    "#### 2.1 Build Model"
   ]
  },
  {
   "cell_type": "code",
   "execution_count": 29,
   "metadata": {},
   "outputs": [],
   "source": [
    "np.random.seed(1)\n",
    "tf.random.set_seed(1)"
   ]
  },
  {
   "cell_type": "code",
   "execution_count": 30,
   "metadata": {},
   "outputs": [],
   "source": [
    "conv_encoder_clone = keras.models.clone_model(conv_encoder)\n",
    "conv_encoder_clone.set_weights(conv_encoder.get_weights())"
   ]
  },
  {
   "cell_type": "code",
   "execution_count": 31,
   "metadata": {},
   "outputs": [],
   "source": [
    "pre_clf = keras.models.Sequential([\n",
    "    conv_encoder_clone,\n",
    "    keras.layers.Flatten(),\n",
    "    keras.layers.Dense(20, activation='selu'),\n",
    "    keras.layers.Dense(10, activation='softmax')\n",
    "])"
   ]
  },
  {
   "cell_type": "code",
   "execution_count": 32,
   "metadata": {},
   "outputs": [
    {
     "name": "stdout",
     "output_type": "stream",
     "text": [
      "Model: \"sequential_4\"\n",
      "____________________________________________________________________________\n",
      " Layer (type)                Output Shape              Param #   Trainable  \n",
      "============================================================================\n",
      " sequential (Sequential)     (None, 3, 3, 64)          23296     Y          \n",
      "                                                                            \n",
      " flatten_1 (Flatten)         (None, 576)               0         Y          \n",
      "                                                                            \n",
      " dense_2 (Dense)             (None, 20)                11540     Y          \n",
      "                                                                            \n",
      " dense_3 (Dense)             (None, 10)                210       Y          \n",
      "                                                                            \n",
      "============================================================================\n",
      "Total params: 35,046\n",
      "Trainable params: 35,046\n",
      "Non-trainable params: 0\n",
      "____________________________________________________________________________\n"
     ]
    }
   ],
   "source": [
    "pre_clf.summary(show_trainable=True)"
   ]
  },
  {
   "attachments": {},
   "cell_type": "markdown",
   "metadata": {},
   "source": [
    "#### 2.2 Compile"
   ]
  },
  {
   "cell_type": "code",
   "execution_count": 33,
   "metadata": {},
   "outputs": [],
   "source": [
    "pre_clf.compile(loss='sparse_categorical_crossentropy',  \n",
    "            optimizer=keras.optimizers.SGD(learning_rate=.02),\n",
    "            metrics=['accuracy'])"
   ]
  },
  {
   "attachments": {},
   "cell_type": "markdown",
   "metadata": {},
   "source": [
    "#### 2.3 Train \n",
    "##### 2.3.1 Train (Phase I): Clone Encoder -> not trainable "
   ]
  },
  {
   "cell_type": "code",
   "execution_count": 34,
   "metadata": {},
   "outputs": [
    {
     "name": "stdout",
     "output_type": "stream",
     "text": [
      "Model: \"sequential_4\"\n",
      "____________________________________________________________________________\n",
      " Layer (type)                Output Shape              Param #   Trainable  \n",
      "============================================================================\n",
      " sequential (Sequential)     (None, 3, 3, 64)          23296     N          \n",
      "                                                                            \n",
      " flatten_1 (Flatten)         (None, 576)               0         Y          \n",
      "                                                                            \n",
      " dense_2 (Dense)             (None, 20)                11540     Y          \n",
      "                                                                            \n",
      " dense_3 (Dense)             (None, 10)                210       Y          \n",
      "                                                                            \n",
      "============================================================================\n",
      "Total params: 35,046\n",
      "Trainable params: 11,750\n",
      "Non-trainable params: 23,296\n",
      "____________________________________________________________________________\n"
     ]
    }
   ],
   "source": [
    "conv_encoder_clone.trainable = False\n",
    "pre_clf.summary(show_trainable=True)"
   ]
  },
  {
   "cell_type": "code",
   "execution_count": 35,
   "metadata": {},
   "outputs": [
    {
     "name": "stdout",
     "output_type": "stream",
     "text": [
      "Epoch 1/15\n",
      "16/16 [==============================] - 1s 56ms/step - loss: 2.7992 - accuracy: 0.2880 - val_loss: 1.6338 - val_accuracy: 0.4513\n",
      "Epoch 2/15\n",
      "16/16 [==============================] - 1s 38ms/step - loss: 1.0855 - accuracy: 0.6260 - val_loss: 0.9407 - val_accuracy: 0.6643\n",
      "Epoch 3/15\n",
      "16/16 [==============================] - 1s 42ms/step - loss: 0.9310 - accuracy: 0.6640 - val_loss: 0.8589 - val_accuracy: 0.7002\n",
      "Epoch 4/15\n",
      "16/16 [==============================] - 1s 70ms/step - loss: 0.6821 - accuracy: 0.7540 - val_loss: 0.7738 - val_accuracy: 0.7247\n",
      "Epoch 5/15\n",
      "16/16 [==============================] - 1s 63ms/step - loss: 0.6105 - accuracy: 0.7700 - val_loss: 0.9246 - val_accuracy: 0.6815\n",
      "Epoch 6/15\n",
      "16/16 [==============================] - 1s 57ms/step - loss: 0.5858 - accuracy: 0.7900 - val_loss: 0.7388 - val_accuracy: 0.7245\n",
      "Epoch 7/15\n",
      "16/16 [==============================] - 1s 52ms/step - loss: 0.5160 - accuracy: 0.8080 - val_loss: 0.7045 - val_accuracy: 0.7448\n",
      "Epoch 8/15\n",
      "16/16 [==============================] - 1s 40ms/step - loss: 0.4935 - accuracy: 0.8000 - val_loss: 0.7829 - val_accuracy: 0.7148\n",
      "Epoch 9/15\n",
      "16/16 [==============================] - 1s 39ms/step - loss: 0.4382 - accuracy: 0.8340 - val_loss: 0.6585 - val_accuracy: 0.7569\n",
      "Epoch 10/15\n",
      "16/16 [==============================] - 1s 57ms/step - loss: 0.4309 - accuracy: 0.8300 - val_loss: 0.6560 - val_accuracy: 0.7636\n",
      "Epoch 11/15\n",
      "16/16 [==============================] - 1s 41ms/step - loss: 0.3715 - accuracy: 0.8640 - val_loss: 0.7601 - val_accuracy: 0.7249\n",
      "Epoch 12/15\n",
      "16/16 [==============================] - 1s 39ms/step - loss: 0.4017 - accuracy: 0.8440 - val_loss: 0.7543 - val_accuracy: 0.7495\n",
      "Epoch 13/15\n",
      "16/16 [==============================] - 1s 36ms/step - loss: 0.3852 - accuracy: 0.8460 - val_loss: 0.6686 - val_accuracy: 0.7563\n",
      "Epoch 14/15\n",
      "16/16 [==============================] - 1s 40ms/step - loss: 0.3326 - accuracy: 0.8700 - val_loss: 0.6954 - val_accuracy: 0.7447\n",
      "Epoch 15/15\n",
      "16/16 [==============================] - 1s 46ms/step - loss: 0.3435 - accuracy: 0.8640 - val_loss: 0.6525 - val_accuracy: 0.7722\n"
     ]
    }
   ],
   "source": [
    "train1 = pre_clf.fit(x_train_lab, y_train_lab, epochs=15, validation_data=(x_valid, y_valid))"
   ]
  },
  {
   "attachments": {},
   "cell_type": "markdown",
   "metadata": {},
   "source": [
    "##### 2.3.2 Train (Phase I): Clone Encoder -> trainable "
   ]
  },
  {
   "cell_type": "code",
   "execution_count": 36,
   "metadata": {},
   "outputs": [
    {
     "name": "stdout",
     "output_type": "stream",
     "text": [
      "Model: \"sequential_4\"\n",
      "____________________________________________________________________________\n",
      " Layer (type)                Output Shape              Param #   Trainable  \n",
      "============================================================================\n",
      " sequential (Sequential)     (None, 3, 3, 64)          23296     Y          \n",
      "                                                                            \n",
      " flatten_1 (Flatten)         (None, 576)               0         Y          \n",
      "                                                                            \n",
      " dense_2 (Dense)             (None, 20)                11540     Y          \n",
      "                                                                            \n",
      " dense_3 (Dense)             (None, 10)                210       Y          \n",
      "                                                                            \n",
      "============================================================================\n",
      "Total params: 35,046\n",
      "Trainable params: 35,046\n",
      "Non-trainable params: 0\n",
      "____________________________________________________________________________\n"
     ]
    }
   ],
   "source": [
    "conv_encoder_clone.trainable = True\n",
    "pre_clf.summary(show_trainable=True)"
   ]
  },
  {
   "cell_type": "code",
   "execution_count": 37,
   "metadata": {},
   "outputs": [
    {
     "name": "stdout",
     "output_type": "stream",
     "text": [
      "Epoch 1/15\n",
      "16/16 [==============================] - 1s 43ms/step - loss: 0.3251 - accuracy: 0.8760 - val_loss: 0.7291 - val_accuracy: 0.7341\n",
      "Epoch 2/15\n",
      "16/16 [==============================] - 1s 43ms/step - loss: 0.2837 - accuracy: 0.9040 - val_loss: 0.6530 - val_accuracy: 0.7610\n",
      "Epoch 3/15\n",
      "16/16 [==============================] - 1s 54ms/step - loss: 0.2955 - accuracy: 0.8940 - val_loss: 0.6813 - val_accuracy: 0.7575\n",
      "Epoch 4/15\n",
      "16/16 [==============================] - 1s 40ms/step - loss: 0.2686 - accuracy: 0.9040 - val_loss: 0.6540 - val_accuracy: 0.7742\n",
      "Epoch 5/15\n",
      "16/16 [==============================] - 1s 49ms/step - loss: 0.2615 - accuracy: 0.9060 - val_loss: 0.6730 - val_accuracy: 0.7738\n",
      "Epoch 6/15\n",
      "16/16 [==============================] - 1s 40ms/step - loss: 0.2561 - accuracy: 0.9100 - val_loss: 0.7125 - val_accuracy: 0.7539\n",
      "Epoch 7/15\n",
      "16/16 [==============================] - 1s 37ms/step - loss: 0.2308 - accuracy: 0.9240 - val_loss: 0.6366 - val_accuracy: 0.7795\n",
      "Epoch 8/15\n",
      "16/16 [==============================] - 1s 66ms/step - loss: 0.2545 - accuracy: 0.9080 - val_loss: 0.6800 - val_accuracy: 0.7701\n",
      "Epoch 9/15\n",
      "16/16 [==============================] - 1s 54ms/step - loss: 0.1978 - accuracy: 0.9320 - val_loss: 0.7103 - val_accuracy: 0.7536\n",
      "Epoch 10/15\n",
      "16/16 [==============================] - 1s 50ms/step - loss: 0.2048 - accuracy: 0.9320 - val_loss: 0.6612 - val_accuracy: 0.7873\n",
      "Epoch 11/15\n",
      "16/16 [==============================] - 1s 42ms/step - loss: 0.1784 - accuracy: 0.9360 - val_loss: 0.6785 - val_accuracy: 0.7821\n",
      "Epoch 12/15\n",
      "16/16 [==============================] - 1s 39ms/step - loss: 0.1868 - accuracy: 0.9340 - val_loss: 0.7504 - val_accuracy: 0.7698\n",
      "Epoch 13/15\n",
      "16/16 [==============================] - 1s 43ms/step - loss: 0.1929 - accuracy: 0.9260 - val_loss: 0.6731 - val_accuracy: 0.7830\n",
      "Epoch 14/15\n",
      "16/16 [==============================] - 1s 60ms/step - loss: 0.1693 - accuracy: 0.9460 - val_loss: 0.7308 - val_accuracy: 0.7548\n",
      "Epoch 15/15\n",
      "16/16 [==============================] - 1s 45ms/step - loss: 0.1682 - accuracy: 0.9340 - val_loss: 0.6812 - val_accuracy: 0.7879\n"
     ]
    }
   ],
   "source": [
    "train2 = pre_clf.fit(x_train_lab, y_train_lab, epochs=15, validation_data=(x_valid, y_valid))"
   ]
  },
  {
   "attachments": {},
   "cell_type": "markdown",
   "metadata": {},
   "source": [
    "#### 2.4 Evaluate"
   ]
  },
  {
   "cell_type": "code",
   "execution_count": 38,
   "metadata": {},
   "outputs": [
    {
     "name": "stdout",
     "output_type": "stream",
     "text": [
      "313/313 [==============================] - 0s 1ms/step - loss: 0.7071 - accuracy: 0.7778\n"
     ]
    },
    {
     "data": {
      "text/plain": [
       "[0.7070891857147217, 0.7778000235557556]"
      ]
     },
     "execution_count": 38,
     "metadata": {},
     "output_type": "execute_result"
    }
   ],
   "source": [
    "pre_clf.evaluate(x_test, y_test)"
   ]
  },
  {
   "attachments": {},
   "cell_type": "markdown",
   "metadata": {},
   "source": [
    "#### 2.5 Predict"
   ]
  },
  {
   "cell_type": "code",
   "execution_count": 39,
   "metadata": {},
   "outputs": [
    {
     "name": "stdout",
     "output_type": "stream",
     "text": [
      "313/313 [==============================] - 0s 1ms/step\n",
      "y_prob = \n",
      "[[0.   0.   0.   0.   0.   0.04 0.   0.52 0.04 0.41]\n",
      " [0.01 0.   0.93 0.   0.04 0.   0.02 0.   0.   0.  ]\n",
      " [0.   1.   0.   0.   0.   0.   0.   0.   0.   0.  ]]\n",
      "y_pred =  [7 2 1]\n",
      "y_true =  [9 2 1]\n"
     ]
    }
   ],
   "source": [
    "y_prob = pre_clf.predict(x_test)\n",
    "print(\"y_prob = \", y_prob[:3].round(2), sep=\"\\n\")\n",
    "y_pred = np.argmax(y_prob,axis=1)\n",
    "print(\"y_pred = \", y_pred[:3])\n",
    "print(\"y_true = \", y_test[:3].T)"
   ]
  },
  {
   "attachments": {},
   "cell_type": "markdown",
   "metadata": {},
   "source": [
    "## Data"
   ]
  },
  {
   "cell_type": "code",
   "execution_count": 2,
   "metadata": {},
   "outputs": [],
   "source": [
    "from tensorflow.keras.datasets import fashion_mnist\n",
    "(x_train_set, y_train_set), (x_test, y_test) = fashion_mnist.load_data()\n",
    "\n",
    "x_train_set = x_train_set/255.0\n",
    "x_test = x_test/255.0"
   ]
  },
  {
   "cell_type": "code",
   "execution_count": 3,
   "metadata": {},
   "outputs": [
    {
     "data": {
      "text/plain": [
       "((60000, 28, 28), (60000,), (10000, 28, 28), (10000,))"
      ]
     },
     "execution_count": 3,
     "metadata": {},
     "output_type": "execute_result"
    }
   ],
   "source": [
    "# (check data)\n",
    "x_train_set.shape, y_train_set.shape, x_test.shape, y_test.shape"
   ]
  },
  {
   "cell_type": "code",
   "execution_count": 4,
   "metadata": {},
   "outputs": [
    {
     "name": "stdout",
     "output_type": "stream",
     "text": [
      "3\n"
     ]
    },
    {
     "data": {
      "image/png": "[encoded data removed]",
      "text/plain": [
       "<Figure size 640x480 with 1 Axes>"
      ]
     },
     "metadata": {},
     "output_type": "display_data"
    }
   ],
   "source": [
    "i = 3\n",
    "print(y_train_set[i])\n",
    "plt.imshow(x_train_set[i], cmap='binary')\n",
    "plt.show()"
   ]
  },
  {
   "cell_type": "code",
   "execution_count": 5,
   "metadata": {},
   "outputs": [],
   "source": [
    "# Split data\n",
    "from sklearn.model_selection import train_test_split\n",
    "x_train, x_valid, y_train, y_valid = train_test_split(x_train_set, y_train_set, random_state = 1)"
   ]
  },
  {
   "attachments": {},
   "cell_type": "markdown",
   "metadata": {},
   "source": [
    "## Recurrent Autoencoder"
   ]
  },
  {
   "attachments": {},
   "cell_type": "markdown",
   "metadata": {},
   "source": [
    "### 1. Build Model"
   ]
  },
  {
   "cell_type": "code",
   "execution_count": 6,
   "metadata": {},
   "outputs": [],
   "source": [
    "np.random.seed(1)\n",
    "tf.random.set_seed(1)"
   ]
  },
  {
   "cell_type": "code",
   "execution_count": 7,
   "metadata": {},
   "outputs": [
    {
     "name": "stderr",
     "output_type": "stream",
     "text": [
      "2023-05-10 13:44:10.052394: I tensorflow/compiler/xla/stream_executor/cuda/cuda_gpu_executor.cc:981] successful NUMA node read from SysFS had negative value (-1), but there must be at least one NUMA node, so returning NUMA node zero\n",
      "2023-05-10 13:44:10.071721: I tensorflow/compiler/xla/stream_executor/cuda/cuda_gpu_executor.cc:981] successful NUMA node read from SysFS had negative value (-1), but there must be at least one NUMA node, so returning NUMA node zero\n",
      "2023-05-10 13:44:10.071822: I tensorflow/compiler/xla/stream_executor/cuda/cuda_gpu_executor.cc:981] successful NUMA node read from SysFS had negative value (-1), but there must be at least one NUMA node, so returning NUMA node zero\n",
      "2023-05-10 13:44:10.072240: I tensorflow/core/platform/cpu_feature_guard.cc:193] This TensorFlow binary is optimized with oneAPI Deep Neural Network Library (oneDNN) to use the following CPU instructions in performance-critical operations:  AVX2 FMA\n",
      "To enable them in other operations, rebuild TensorFlow with the appropriate compiler flags.\n",
      "2023-05-10 13:44:10.073093: I tensorflow/compiler/xla/stream_executor/cuda/cuda_gpu_executor.cc:981] successful NUMA node read from SysFS had negative value (-1), but there must be at least one NUMA node, so returning NUMA node zero\n",
      "2023-05-10 13:44:10.073204: I tensorflow/compiler/xla/stream_executor/cuda/cuda_gpu_executor.cc:981] successful NUMA node read from SysFS had negative value (-1), but there must be at least one NUMA node, so returning NUMA node zero\n",
      "2023-05-10 13:44:10.073272: I tensorflow/compiler/xla/stream_executor/cuda/cuda_gpu_executor.cc:981] successful NUMA node read from SysFS had negative value (-1), but there must be at least one NUMA node, so returning NUMA node zero\n",
      "2023-05-10 13:44:10.416282: I tensorflow/compiler/xla/stream_executor/cuda/cuda_gpu_executor.cc:981] successful NUMA node read from SysFS had negative value (-1), but there must be at least one NUMA node, so returning NUMA node zero\n",
      "2023-05-10 13:44:10.416394: I tensorflow/compiler/xla/stream_executor/cuda/cuda_gpu_executor.cc:981] successful NUMA node read from SysFS had negative value (-1), but there must be at least one NUMA node, so returning NUMA node zero\n",
      "2023-05-10 13:44:10.416469: I tensorflow/compiler/xla/stream_executor/cuda/cuda_gpu_executor.cc:981] successful NUMA node read from SysFS had negative value (-1), but there must be at least one NUMA node, so returning NUMA node zero\n",
      "2023-05-10 13:44:10.416534: I tensorflow/core/common_runtime/gpu/gpu_device.cc:1613] Created device /job:localhost/replica:0/task:0/device:GPU:0 with 7941 MB memory:  -> device: 0, name: NVIDIA GeForce RTX 3080, pci bus id: 0000:01:00.0, compute capability: 8.6\n"
     ]
    }
   ],
   "source": [
    "re_encoder = keras.models.Sequential([                                      # (28,28): (time_steps, dim)\n",
    "    keras.layers.LSTM(100, return_sequences=True, input_shape=[28,28]),     # (28, 100)\n",
    "    keras.layers.LSTM(30),                                                  # (30)\n",
    "])\n",
    "re_decoder = keras.models.Sequential([\n",
    "    keras.layers.RepeatVector(28, input_shape=[30]),                            # (28, 30)\n",
    "    keras.layers.LSTM(100, return_sequences=True),                              # (28, 100)\n",
    "    keras.layers.TimeDistributed(keras.layers.Dense(28, activation='sigmoid'))  # (28,28)\n",
    "])\n",
    "re_ae = keras.models.Sequential([re_encoder, re_decoder])"
   ]
  },
  {
   "cell_type": "code",
   "execution_count": 8,
   "metadata": {},
   "outputs": [
    {
     "name": "stdout",
     "output_type": "stream",
     "text": [
      "Model: \"sequential\"\n",
      "_________________________________________________________________\n",
      " Layer (type)                Output Shape              Param #   \n",
      "=================================================================\n",
      " lstm (LSTM)                 (None, 28, 100)           51600     \n",
      "                                                                 \n",
      " lstm_1 (LSTM)               (None, 30)                15720     \n",
      "                                                                 \n",
      "=================================================================\n",
      "Total params: 67,320\n",
      "Trainable params: 67,320\n",
      "Non-trainable params: 0\n",
      "_________________________________________________________________\n"
     ]
    }
   ],
   "source": [
    "re_encoder.summary()"
   ]
  },
  {
   "cell_type": "code",
   "execution_count": 9,
   "metadata": {},
   "outputs": [
    {
     "name": "stdout",
     "output_type": "stream",
     "text": [
      "Model: \"sequential_1\"\n",
      "_________________________________________________________________\n",
      " Layer (type)                Output Shape              Param #   \n",
      "=================================================================\n",
      " repeat_vector (RepeatVector  (None, 28, 30)           0         \n",
      " )                                                               \n",
      "                                                                 \n",
      " lstm_2 (LSTM)               (None, 28, 100)           52400     \n",
      "                                                                 \n",
      " time_distributed (TimeDistr  (None, 28, 28)           2828      \n",
      " ibuted)                                                         \n",
      "                                                                 \n",
      "=================================================================\n",
      "Total params: 55,228\n",
      "Trainable params: 55,228\n",
      "Non-trainable params: 0\n",
      "_________________________________________________________________\n"
     ]
    }
   ],
   "source": [
    "re_decoder.summary()"
   ]
  },
  {
   "cell_type": "code",
   "execution_count": 10,
   "metadata": {},
   "outputs": [
    {
     "name": "stdout",
     "output_type": "stream",
     "text": [
      "Model: \"sequential_2\"\n",
      "_________________________________________________________________\n",
      " Layer (type)                Output Shape              Param #   \n",
      "=================================================================\n",
      " sequential (Sequential)     (None, 30)                67320     \n",
      "                                                                 \n",
      " sequential_1 (Sequential)   (None, 28, 28)            55228     \n",
      "                                                                 \n",
      "=================================================================\n",
      "Total params: 122,548\n",
      "Trainable params: 122,548\n",
      "Non-trainable params: 0\n",
      "_________________________________________________________________\n"
     ]
    }
   ],
   "source": [
    "re_ae.summary()"
   ]
  },
  {
   "attachments": {},
   "cell_type": "markdown",
   "metadata": {},
   "source": [
    "### 2. Compile"
   ]
  },
  {
   "cell_type": "code",
   "execution_count": 11,
   "metadata": {},
   "outputs": [],
   "source": [
    "def rounded_accuracy(y_true, y_pred):\n",
    "    return keras.metrics.binary_accuracy(tf.round(y_true), tf.round(y_pred)) # 0~1 -> 0,1\n",
    "re_ae.compile(loss='binary_crossentropy',   # pixel-by-pixel compare original and reconstructed images\n",
    "                optimizer=keras.optimizers.SGD(learning_rate=.15),\n",
    "                metrics=[rounded_accuracy])"
   ]
  },
  {
   "attachments": {},
   "cell_type": "markdown",
   "metadata": {},
   "source": [
    "### 3. Train "
   ]
  },
  {
   "cell_type": "code",
   "execution_count": 12,
   "metadata": {},
   "outputs": [
    {
     "name": "stdout",
     "output_type": "stream",
     "text": [
      "Epoch 1/20\n"
     ]
    },
    {
     "name": "stderr",
     "output_type": "stream",
     "text": [
      "2023-05-10 13:44:22.980544: I tensorflow/compiler/xla/stream_executor/cuda/cuda_dnn.cc:428] Loaded cuDNN version 8400\n",
      "2023-05-10 13:44:23.094996: I tensorflow/compiler/xla/stream_executor/cuda/cuda_blas.cc:630] TensorFloat-32 will be used for the matrix multiplication. This will only be logged once.\n",
      "2023-05-10 13:44:23.097134: I tensorflow/compiler/xla/service/service.cc:173] XLA service 0x7f2afc12da50 initialized for platform CUDA (this does not guarantee that XLA will be used). Devices:\n",
      "2023-05-10 13:44:23.097145: I tensorflow/compiler/xla/service/service.cc:181]   StreamExecutor device (0): NVIDIA GeForce RTX 3080, Compute Capability 8.6\n",
      "2023-05-10 13:44:23.130478: I tensorflow/compiler/jit/xla_compilation_cache.cc:477] Compiled cluster using XLA!  This line is logged at most once for the lifetime of the process.\n"
     ]
    },
    {
     "name": "stdout",
     "output_type": "stream",
     "text": [
      "1407/1407 [==============================] - 23s 14ms/step - loss: 0.4897 - rounded_accuracy: 0.7881 - val_loss: 0.4262 - val_rounded_accuracy: 0.8165\n",
      "Epoch 2/20\n",
      "1407/1407 [==============================] - 25s 18ms/step - loss: 0.3842 - rounded_accuracy: 0.8547 - val_loss: 0.3622 - val_rounded_accuracy: 0.8749\n",
      "Epoch 3/20\n",
      "1407/1407 [==============================] - 23s 16ms/step - loss: 0.3563 - rounded_accuracy: 0.8770 - val_loss: 0.3524 - val_rounded_accuracy: 0.8752\n",
      "Epoch 4/20\n",
      "1407/1407 [==============================] - 24s 17ms/step - loss: 0.3427 - rounded_accuracy: 0.8865 - val_loss: 0.3340 - val_rounded_accuracy: 0.8951\n",
      "Epoch 5/20\n",
      "1407/1407 [==============================] - 24s 17ms/step - loss: 0.3342 - rounded_accuracy: 0.8921 - val_loss: 0.3316 - val_rounded_accuracy: 0.8958\n",
      "Epoch 6/20\n",
      "1407/1407 [==============================] - 18s 13ms/step - loss: 0.3284 - rounded_accuracy: 0.8961 - val_loss: 0.3281 - val_rounded_accuracy: 0.8959\n",
      "Epoch 7/20\n",
      "1407/1407 [==============================] - 24s 17ms/step - loss: 0.3242 - rounded_accuracy: 0.8991 - val_loss: 0.3473 - val_rounded_accuracy: 0.8873\n",
      "Epoch 8/20\n",
      "1407/1407 [==============================] - 25s 18ms/step - loss: 0.3211 - rounded_accuracy: 0.9014 - val_loss: 0.3166 - val_rounded_accuracy: 0.9029\n",
      "Epoch 9/20\n",
      "1407/1407 [==============================] - 23s 16ms/step - loss: 0.3186 - rounded_accuracy: 0.9031 - val_loss: 0.3170 - val_rounded_accuracy: 0.9058\n",
      "Epoch 10/20\n",
      "1407/1407 [==============================] - 26s 19ms/step - loss: 0.3163 - rounded_accuracy: 0.9048 - val_loss: 0.3145 - val_rounded_accuracy: 0.9047\n",
      "Epoch 11/20\n",
      "1407/1407 [==============================] - 23s 17ms/step - loss: 0.3145 - rounded_accuracy: 0.9061 - val_loss: 0.3139 - val_rounded_accuracy: 0.9072\n",
      "Epoch 12/20\n",
      "1407/1407 [==============================] - 23s 17ms/step - loss: 0.3129 - rounded_accuracy: 0.9073 - val_loss: 0.3183 - val_rounded_accuracy: 0.9039\n",
      "Epoch 13/20\n",
      "1407/1407 [==============================] - 26s 19ms/step - loss: 0.3115 - rounded_accuracy: 0.9083 - val_loss: 0.3154 - val_rounded_accuracy: 0.9048\n",
      "Epoch 14/20\n",
      "1407/1407 [==============================] - 28s 20ms/step - loss: 0.3102 - rounded_accuracy: 0.9094 - val_loss: 0.3087 - val_rounded_accuracy: 0.9094\n",
      "Epoch 15/20\n",
      "1407/1407 [==============================] - 23s 16ms/step - loss: 0.3090 - rounded_accuracy: 0.9104 - val_loss: 0.3060 - val_rounded_accuracy: 0.9121\n",
      "Epoch 16/20\n",
      "1407/1407 [==============================] - 21s 15ms/step - loss: 0.3077 - rounded_accuracy: 0.9115 - val_loss: 0.3053 - val_rounded_accuracy: 0.9133\n",
      "Epoch 17/20\n",
      "1407/1407 [==============================] - 26s 18ms/step - loss: 0.3069 - rounded_accuracy: 0.9121 - val_loss: 0.3054 - val_rounded_accuracy: 0.9143\n",
      "Epoch 18/20\n",
      "1407/1407 [==============================] - 23s 17ms/step - loss: 0.3058 - rounded_accuracy: 0.9131 - val_loss: 0.3042 - val_rounded_accuracy: 0.9139\n",
      "Epoch 19/20\n",
      "1407/1407 [==============================] - 24s 17ms/step - loss: 0.3049 - rounded_accuracy: 0.9138 - val_loss: 0.3034 - val_rounded_accuracy: 0.9152\n",
      "Epoch 20/20\n",
      "1407/1407 [==============================] - 21s 15ms/step - loss: 0.3040 - rounded_accuracy: 0.9146 - val_loss: 0.3056 - val_rounded_accuracy: 0.9113\n"
     ]
    }
   ],
   "source": [
    "train = re_ae.fit(x_train, x_train, epochs=20, validation_data=(x_valid, x_valid))"
   ]
  },
  {
   "cell_type": "code",
   "execution_count": 13,
   "metadata": {},
   "outputs": [
    {
     "data": {
      "image/png": "[encoded data removed]",
      "text/plain": [
       "<Figure size 640x480 with 1 Axes>"
      ]
     },
     "metadata": {},
     "output_type": "display_data"
    }
   ],
   "source": [
    "pd.DataFrame(train.history).plot()\n",
    "plt.grid(True)\n",
    "plt.show()"
   ]
  },
  {
   "attachments": {},
   "cell_type": "markdown",
   "metadata": {},
   "source": [
    "### 4. Evaluate"
   ]
  },
  {
   "cell_type": "code",
   "execution_count": 14,
   "metadata": {},
   "outputs": [
    {
     "name": "stdout",
     "output_type": "stream",
     "text": [
      "313/313 [==============================] - 1s 3ms/step - loss: 0.3086 - rounded_accuracy: 0.9097\n"
     ]
    },
    {
     "data": {
      "text/plain": [
       "[0.30862945318222046, 0.9097490906715393]"
      ]
     },
     "execution_count": 14,
     "metadata": {},
     "output_type": "execute_result"
    }
   ],
   "source": [
    "re_ae.evaluate(x_test, x_test)"
   ]
  },
  {
   "attachments": {},
   "cell_type": "markdown",
   "metadata": {},
   "source": [
    "### 5. Predict (Reconstruct)"
   ]
  },
  {
   "cell_type": "code",
   "execution_count": 15,
   "metadata": {},
   "outputs": [
    {
     "name": "stdout",
     "output_type": "stream",
     "text": [
      "313/313 [==============================] - 1s 2ms/step\n"
     ]
    }
   ],
   "source": [
    "x_test_decoded = re_ae.predict(x_test)"
   ]
  },
  {
   "cell_type": "code",
   "execution_count": 16,
   "metadata": {},
   "outputs": [
    {
     "data": {
      "image/png": "[encoded data removed]",
      "text/plain": [
       "<Figure size 1000x400 with 10 Axes>"
      ]
     },
     "metadata": {},
     "output_type": "display_data"
    }
   ],
   "source": [
    "plt.figure(figsize=(10, 4))\n",
    "\n",
    "for i in range(5):\n",
    "    plt.subplot(2, 5, 1 + i)\n",
    "    plt.imshow(x_test[i], cmap='binary')\n",
    "    plt.title('Original')\n",
    "    plt.axis('off')\n",
    "\n",
    "    plt.subplot(2, 5, 1+ 5 + i)\n",
    "    plt.imshow(x_test_decoded[i], cmap='binary')\n",
    "    plt.title('Reconstructed')\n",
    "    plt.axis('off')\n",
    "plt.show()"
   ]
  },
  {
   "attachments": {},
   "cell_type": "markdown",
   "metadata": {},
   "source": [
    "### (Checking codings)"
   ]
  },
  {
   "cell_type": "code",
   "execution_count": 17,
   "metadata": {},
   "outputs": [
    {
     "name": "stdout",
     "output_type": "stream",
     "text": [
      "313/313 [==============================] - 1s 1ms/step\n"
     ]
    },
    {
     "data": {
      "text/plain": [
       "(10000, 30)"
      ]
     },
     "execution_count": 17,
     "metadata": {},
     "output_type": "execute_result"
    }
   ],
   "source": [
    "x_test_codings = re_encoder.predict(x_test)\n",
    "x_test_codings.shape"
   ]
  },
  {
   "cell_type": "code",
   "execution_count": 18,
   "metadata": {},
   "outputs": [
    {
     "data": {
      "image/png": "[encoded data removed]",
      "text/plain": [
       "<Figure size 640x480 with 1 Axes>"
      ]
     },
     "metadata": {},
     "output_type": "display_data"
    }
   ],
   "source": [
    "i=range(5)\n",
    "plt.imshow(x_test_codings[i], cmap='binary')\n",
    "plt.axis('off')\n",
    "plt.show()"
   ]
  },
  {
   "attachments": {},
   "cell_type": "markdown",
   "metadata": {},
   "source": [
    "# Stacked Denoising Autoencoders"
   ]
  },
  {
   "attachments": {},
   "cell_type": "markdown",
   "metadata": {},
   "source": [
    "## Data"
   ]
  },
  {
   "cell_type": "code",
   "execution_count": 2,
   "metadata": {},
   "outputs": [],
   "source": [
    "from tensorflow.keras.datasets import fashion_mnist\n",
    "(x_train_set, y_train_set), (x_test, y_test) = fashion_mnist.load_data()\n",
    "\n",
    "x_train_set = x_train_set/255.0\n",
    "x_test = x_test/255.0"
   ]
  },
  {
   "cell_type": "code",
   "execution_count": 3,
   "metadata": {},
   "outputs": [
    {
     "data": {
      "text/plain": [
       "((60000, 28, 28), (60000,), (10000, 28, 28), (10000,))"
      ]
     },
     "execution_count": 3,
     "metadata": {},
     "output_type": "execute_result"
    }
   ],
   "source": [
    "# (check data)\n",
    "x_train_set.shape, y_train_set.shape, x_test.shape, y_test.shape"
   ]
  },
  {
   "cell_type": "code",
   "execution_count": 4,
   "metadata": {},
   "outputs": [
    {
     "name": "stdout",
     "output_type": "stream",
     "text": [
      "0\n"
     ]
    },
    {
     "data": {
      "image/png": "[encoded data removed]",
      "text/plain": [
       "<Figure size 640x480 with 1 Axes>"
      ]
     },
     "metadata": {},
     "output_type": "display_data"
    }
   ],
   "source": [
    "i = 4\n",
    "print(y_train_set[i])\n",
    "plt.imshow(x_train_set[i], cmap='binary')\n",
    "plt.show()"
   ]
  },
  {
   "cell_type": "code",
   "execution_count": 5,
   "metadata": {},
   "outputs": [],
   "source": [
    "# Split data\n",
    "from sklearn.model_selection import train_test_split\n",
    "x_train, x_valid, y_train, y_valid = train_test_split(x_train_set, y_train_set, random_state = 1)"
   ]
  },
  {
   "attachments": {},
   "cell_type": "markdown",
   "metadata": {},
   "source": [
    "## Method 1: Add Gaussian Noise\n",
    "#### 1.1 Build Model"
   ]
  },
  {
   "cell_type": "code",
   "execution_count": 6,
   "metadata": {},
   "outputs": [],
   "source": [
    "np.random.seed(1)\n",
    "tf.random.set_seed(1)"
   ]
  },
  {
   "cell_type": "code",
   "execution_count": 7,
   "metadata": {},
   "outputs": [
    {
     "name": "stderr",
     "output_type": "stream",
     "text": [
      "2023-05-10 14:14:18.090150: I tensorflow/compiler/xla/stream_executor/cuda/cuda_gpu_executor.cc:981] successful NUMA node read from SysFS had negative value (-1), but there must be at least one NUMA node, so returning NUMA node zero\n",
      "2023-05-10 14:14:18.108874: I tensorflow/compiler/xla/stream_executor/cuda/cuda_gpu_executor.cc:981] successful NUMA node read from SysFS had negative value (-1), but there must be at least one NUMA node, so returning NUMA node zero\n",
      "2023-05-10 14:14:18.108959: I tensorflow/compiler/xla/stream_executor/cuda/cuda_gpu_executor.cc:981] successful NUMA node read from SysFS had negative value (-1), but there must be at least one NUMA node, so returning NUMA node zero\n",
      "2023-05-10 14:14:18.109625: I tensorflow/core/platform/cpu_feature_guard.cc:193] This TensorFlow binary is optimized with oneAPI Deep Neural Network Library (oneDNN) to use the following CPU instructions in performance-critical operations:  AVX2 FMA\n",
      "To enable them in other operations, rebuild TensorFlow with the appropriate compiler flags.\n",
      "2023-05-10 14:14:18.110474: I tensorflow/compiler/xla/stream_executor/cuda/cuda_gpu_executor.cc:981] successful NUMA node read from SysFS had negative value (-1), but there must be at least one NUMA node, so returning NUMA node zero\n",
      "2023-05-10 14:14:18.110556: I tensorflow/compiler/xla/stream_executor/cuda/cuda_gpu_executor.cc:981] successful NUMA node read from SysFS had negative value (-1), but there must be at least one NUMA node, so returning NUMA node zero\n",
      "2023-05-10 14:14:18.110623: I tensorflow/compiler/xla/stream_executor/cuda/cuda_gpu_executor.cc:981] successful NUMA node read from SysFS had negative value (-1), but there must be at least one NUMA node, so returning NUMA node zero\n",
      "2023-05-10 14:14:18.453508: I tensorflow/compiler/xla/stream_executor/cuda/cuda_gpu_executor.cc:981] successful NUMA node read from SysFS had negative value (-1), but there must be at least one NUMA node, so returning NUMA node zero\n",
      "2023-05-10 14:14:18.453616: I tensorflow/compiler/xla/stream_executor/cuda/cuda_gpu_executor.cc:981] successful NUMA node read from SysFS had negative value (-1), but there must be at least one NUMA node, so returning NUMA node zero\n",
      "2023-05-10 14:14:18.453690: I tensorflow/compiler/xla/stream_executor/cuda/cuda_gpu_executor.cc:981] successful NUMA node read from SysFS had negative value (-1), but there must be at least one NUMA node, so returning NUMA node zero\n",
      "2023-05-10 14:14:18.453755: I tensorflow/core/common_runtime/gpu/gpu_device.cc:1613] Created device /job:localhost/replica:0/task:0/device:GPU:0 with 7940 MB memory:  -> device: 0, name: NVIDIA GeForce RTX 3080, pci bus id: 0000:01:00.0, compute capability: 8.6\n"
     ]
    }
   ],
   "source": [
    "gaus_encoder = keras.models.Sequential([\n",
    "    keras.layers.Flatten(input_shape=[28, 28]), \n",
    "    keras.layers.GaussianNoise(stddev=.2),\n",
    "    keras.layers.Dense(100, activation='selu'),\n",
    "    keras.layers.Dense(30, activation='selu')\n",
    "])\n",
    "gaus_decoder = keras.models.Sequential([\n",
    "    keras.layers.Dense(100, activation='selu', input_shape=[30]), \n",
    "    keras.layers.Dense(28*28, activation='sigmoid'),\n",
    "    keras.layers.Reshape([28,28])\n",
    "])\n",
    "gaus_ae = keras.models.Sequential([gaus_encoder, gaus_decoder])"
   ]
  },
  {
   "cell_type": "code",
   "execution_count": 8,
   "metadata": {},
   "outputs": [
    {
     "name": "stdout",
     "output_type": "stream",
     "text": [
      "Model: \"sequential\"\n",
      "_________________________________________________________________\n",
      " Layer (type)                Output Shape              Param #   \n",
      "=================================================================\n",
      " flatten (Flatten)           (None, 784)               0         \n",
      "                                                                 \n",
      " gaussian_noise (GaussianNoi  (None, 784)              0         \n",
      " se)                                                             \n",
      "                                                                 \n",
      " dense (Dense)               (None, 100)               78500     \n",
      "                                                                 \n",
      " dense_1 (Dense)             (None, 30)                3030      \n",
      "                                                                 \n",
      "=================================================================\n",
      "Total params: 81,530\n",
      "Trainable params: 81,530\n",
      "Non-trainable params: 0\n",
      "_________________________________________________________________\n"
     ]
    }
   ],
   "source": [
    "gaus_encoder.summary()"
   ]
  },
  {
   "cell_type": "code",
   "execution_count": 9,
   "metadata": {},
   "outputs": [
    {
     "name": "stdout",
     "output_type": "stream",
     "text": [
      "Model: \"sequential_1\"\n",
      "_________________________________________________________________\n",
      " Layer (type)                Output Shape              Param #   \n",
      "=================================================================\n",
      " dense_2 (Dense)             (None, 100)               3100      \n",
      "                                                                 \n",
      " dense_3 (Dense)             (None, 784)               79184     \n",
      "                                                                 \n",
      " reshape (Reshape)           (None, 28, 28)            0         \n",
      "                                                                 \n",
      "=================================================================\n",
      "Total params: 82,284\n",
      "Trainable params: 82,284\n",
      "Non-trainable params: 0\n",
      "_________________________________________________________________\n"
     ]
    }
   ],
   "source": [
    "gaus_decoder.summary()"
   ]
  },
  {
   "cell_type": "code",
   "execution_count": 10,
   "metadata": {},
   "outputs": [
    {
     "name": "stdout",
     "output_type": "stream",
     "text": [
      "Model: \"sequential_2\"\n",
      "_________________________________________________________________\n",
      " Layer (type)                Output Shape              Param #   \n",
      "=================================================================\n",
      " sequential (Sequential)     (None, 30)                81530     \n",
      "                                                                 \n",
      " sequential_1 (Sequential)   (None, 28, 28)            82284     \n",
      "                                                                 \n",
      "=================================================================\n",
      "Total params: 163,814\n",
      "Trainable params: 163,814\n",
      "Non-trainable params: 0\n",
      "_________________________________________________________________\n"
     ]
    }
   ],
   "source": [
    "gaus_ae.summary()"
   ]
  },
  {
   "attachments": {},
   "cell_type": "markdown",
   "metadata": {},
   "source": [
    "#### 1.2 Compile"
   ]
  },
  {
   "cell_type": "code",
   "execution_count": 11,
   "metadata": {},
   "outputs": [],
   "source": [
    "def rounded_accuracy(y_true, y_pred):\n",
    "    return keras.metrics.binary_accuracy(tf.round(y_true), tf.round(y_pred)) # 0~1 -> 0,1\n",
    "gaus_ae.compile( loss='binary_crossentropy', \n",
    "               optimizer=keras.optimizers.SGD(learning_rate=1.0),\n",
    "               metrics=[rounded_accuracy])"
   ]
  },
  {
   "attachments": {},
   "cell_type": "markdown",
   "metadata": {},
   "source": [
    "#### 1.3 Train "
   ]
  },
  {
   "cell_type": "code",
   "execution_count": 12,
   "metadata": {},
   "outputs": [
    {
     "name": "stdout",
     "output_type": "stream",
     "text": [
      "Epoch 1/10\n",
      "   1/1407 [..............................] - ETA: 25:41 - loss: 0.7074 - rounded_accuracy: 0.4964"
     ]
    },
    {
     "name": "stderr",
     "output_type": "stream",
     "text": [
      "2023-05-10 14:14:27.203808: I tensorflow/compiler/xla/stream_executor/cuda/cuda_blas.cc:630] TensorFloat-32 will be used for the matrix multiplication. This will only be logged once.\n",
      "2023-05-10 14:14:27.206377: I tensorflow/compiler/xla/service/service.cc:173] XLA service 0x55b284c737f0 initialized for platform CUDA (this does not guarantee that XLA will be used). Devices:\n",
      "2023-05-10 14:14:27.206389: I tensorflow/compiler/xla/service/service.cc:181]   StreamExecutor device (0): NVIDIA GeForce RTX 3080, Compute Capability 8.6\n",
      "2023-05-10 14:14:27.239034: I tensorflow/compiler/jit/xla_compilation_cache.cc:477] Compiled cluster using XLA!  This line is logged at most once for the lifetime of the process.\n"
     ]
    },
    {
     "name": "stdout",
     "output_type": "stream",
     "text": [
      "1407/1407 [==============================] - 9s 5ms/step - loss: 0.3556 - rounded_accuracy: 0.8725 - val_loss: 0.3189 - val_rounded_accuracy: 0.9030\n",
      "Epoch 2/10\n",
      "1407/1407 [==============================] - 3s 2ms/step - loss: 0.3159 - rounded_accuracy: 0.9069 - val_loss: 0.3092 - val_rounded_accuracy: 0.9121\n",
      "Epoch 3/10\n",
      "1407/1407 [==============================] - 4s 3ms/step - loss: 0.3083 - rounded_accuracy: 0.9133 - val_loss: 0.3025 - val_rounded_accuracy: 0.9167\n",
      "Epoch 4/10\n",
      "1407/1407 [==============================] - 5s 3ms/step - loss: 0.3041 - rounded_accuracy: 0.9168 - val_loss: 0.3029 - val_rounded_accuracy: 0.9196\n",
      "Epoch 5/10\n",
      "1407/1407 [==============================] - 4s 3ms/step - loss: 0.3015 - rounded_accuracy: 0.9191 - val_loss: 0.2987 - val_rounded_accuracy: 0.9186\n",
      "Epoch 6/10\n",
      "1407/1407 [==============================] - 3s 2ms/step - loss: 0.2993 - rounded_accuracy: 0.9210 - val_loss: 0.2955 - val_rounded_accuracy: 0.9235\n",
      "Epoch 7/10\n",
      "1407/1407 [==============================] - 4s 3ms/step - loss: 0.2976 - rounded_accuracy: 0.9226 - val_loss: 0.2933 - val_rounded_accuracy: 0.9266\n",
      "Epoch 8/10\n",
      "1407/1407 [==============================] - 3s 2ms/step - loss: 0.2962 - rounded_accuracy: 0.9238 - val_loss: 0.2923 - val_rounded_accuracy: 0.9265\n",
      "Epoch 9/10\n",
      "1407/1407 [==============================] - 3s 2ms/step - loss: 0.2951 - rounded_accuracy: 0.9248 - val_loss: 0.2928 - val_rounded_accuracy: 0.9284\n",
      "Epoch 10/10\n",
      "1407/1407 [==============================] - 3s 2ms/step - loss: 0.2943 - rounded_accuracy: 0.9256 - val_loss: 0.2915 - val_rounded_accuracy: 0.9266\n"
     ]
    }
   ],
   "source": [
    "train = gaus_ae.fit(x_train, x_train, epochs=10, validation_data=(x_valid, x_valid))"
   ]
  },
  {
   "cell_type": "code",
   "execution_count": 13,
   "metadata": {},
   "outputs": [
    {
     "data": {
      "image/png": "[encoded data removed]",
      "text/plain": [
       "<Figure size 640x480 with 1 Axes>"
      ]
     },
     "metadata": {},
     "output_type": "display_data"
    }
   ],
   "source": [
    "pd.DataFrame(train.history).plot()\n",
    "plt.grid(True)\n",
    "plt.show()"
   ]
  },
  {
   "attachments": {},
   "cell_type": "markdown",
   "metadata": {},
   "source": [
    "#### 1.4 Evaluate"
   ]
  },
  {
   "cell_type": "code",
   "execution_count": 14,
   "metadata": {},
   "outputs": [],
   "source": [
    "np.random.seed(1)\n",
    "tf.random.set_seed(1)\n",
    "\n",
    "noise = keras.layers.GaussianNoise(.2)\n",
    "x_test_noise = noise(x_test, training = True)"
   ]
  },
  {
   "cell_type": "code",
   "execution_count": 15,
   "metadata": {},
   "outputs": [
    {
     "name": "stdout",
     "output_type": "stream",
     "text": [
      "313/313 [==============================] - 0s 1ms/step - loss: 0.2973 - rounded_accuracy: 0.9220\n"
     ]
    },
    {
     "data": {
      "text/plain": [
       "[0.29730913043022156, 0.9220280647277832]"
      ]
     },
     "execution_count": 15,
     "metadata": {},
     "output_type": "execute_result"
    }
   ],
   "source": [
    "gaus_ae.evaluate(x_test_noise, x_test) # noised (-> denoised) vs original "
   ]
  },
  {
   "attachments": {},
   "cell_type": "markdown",
   "metadata": {},
   "source": [
    "#### 1.5 Predict (Denoising)"
   ]
  },
  {
   "cell_type": "code",
   "execution_count": 16,
   "metadata": {},
   "outputs": [
    {
     "name": "stdout",
     "output_type": "stream",
     "text": [
      "313/313 [==============================] - 0s 741us/step\n"
     ]
    }
   ],
   "source": [
    "x_test_decoded = gaus_ae.predict(x_test_noise)"
   ]
  },
  {
   "cell_type": "code",
   "execution_count": 17,
   "metadata": {},
   "outputs": [
    {
     "data": {
      "image/png": "[encoded data removed]",
      "text/plain": [
       "<Figure size 1000x400 with 10 Axes>"
      ]
     },
     "metadata": {},
     "output_type": "display_data"
    }
   ],
   "source": [
    "plt.figure(figsize=(10, 4))\n",
    "for i in range(5):\n",
    "    plt.subplot(2, 5, 1 + i)\n",
    "    plt.imshow(x_test_noise[i], cmap='binary')\n",
    "    plt.title('Original')\n",
    "    plt.axis('off')\n",
    "\n",
    "    plt.subplot(2, 5, 1+ 5 + i)\n",
    "    plt.imshow(x_test_decoded[i], cmap='binary')\n",
    "    plt.title('Reconstructed')\n",
    "    plt.axis('off')\n",
    "plt.show()"
   ]
  },
  {
   "attachments": {},
   "cell_type": "markdown",
   "metadata": {},
   "source": [
    "## Model 2: Using Dropout\n",
    "#### 2.1 Build Model"
   ]
  },
  {
   "cell_type": "code",
   "execution_count": 18,
   "metadata": {},
   "outputs": [],
   "source": [
    "np.random.seed(1)\n",
    "tf.random.set_seed(1)"
   ]
  },
  {
   "cell_type": "code",
   "execution_count": 19,
   "metadata": {},
   "outputs": [],
   "source": [
    "drop_encoder = keras.models.Sequential([\n",
    "    keras.layers.Flatten(input_shape=[28, 28]), \n",
    "    keras.layers.Dropout(rate=.5),\n",
    "    keras.layers.Dense(100, activation='selu'),\n",
    "    keras.layers.Dense(30, activation='selu')\n",
    "])\n",
    "drop_decoder = keras.models.Sequential([\n",
    "    keras.layers.Dense(100, activation='selu', input_shape=[30]), \n",
    "    keras.layers.Dense(28*28, activation='sigmoid'),\n",
    "    keras.layers.Reshape([28,28])\n",
    "])\n",
    "drop_ae = keras.models.Sequential([drop_encoder, drop_decoder])"
   ]
  },
  {
   "cell_type": "code",
   "execution_count": 20,
   "metadata": {},
   "outputs": [
    {
     "name": "stdout",
     "output_type": "stream",
     "text": [
      "Model: \"sequential_3\"\n",
      "_________________________________________________________________\n",
      " Layer (type)                Output Shape              Param #   \n",
      "=================================================================\n",
      " flatten_1 (Flatten)         (None, 784)               0         \n",
      "                                                                 \n",
      " dropout (Dropout)           (None, 784)               0         \n",
      "                                                                 \n",
      " dense_4 (Dense)             (None, 100)               78500     \n",
      "                                                                 \n",
      " dense_5 (Dense)             (None, 30)                3030      \n",
      "                                                                 \n",
      "=================================================================\n",
      "Total params: 81,530\n",
      "Trainable params: 81,530\n",
      "Non-trainable params: 0\n",
      "_________________________________________________________________\n"
     ]
    }
   ],
   "source": [
    "drop_encoder.summary()"
   ]
  },
  {
   "cell_type": "code",
   "execution_count": 21,
   "metadata": {},
   "outputs": [
    {
     "name": "stdout",
     "output_type": "stream",
     "text": [
      "Model: \"sequential_4\"\n",
      "_________________________________________________________________\n",
      " Layer (type)                Output Shape              Param #   \n",
      "=================================================================\n",
      " dense_6 (Dense)             (None, 100)               3100      \n",
      "                                                                 \n",
      " dense_7 (Dense)             (None, 784)               79184     \n",
      "                                                                 \n",
      " reshape_1 (Reshape)         (None, 28, 28)            0         \n",
      "                                                                 \n",
      "=================================================================\n",
      "Total params: 82,284\n",
      "Trainable params: 82,284\n",
      "Non-trainable params: 0\n",
      "_________________________________________________________________\n"
     ]
    }
   ],
   "source": [
    "drop_decoder.summary()"
   ]
  },
  {
   "cell_type": "code",
   "execution_count": 22,
   "metadata": {},
   "outputs": [
    {
     "name": "stdout",
     "output_type": "stream",
     "text": [
      "Model: \"sequential_5\"\n",
      "_________________________________________________________________\n",
      " Layer (type)                Output Shape              Param #   \n",
      "=================================================================\n",
      " sequential_3 (Sequential)   (None, 30)                81530     \n",
      "                                                                 \n",
      " sequential_4 (Sequential)   (None, 28, 28)            82284     \n",
      "                                                                 \n",
      "=================================================================\n",
      "Total params: 163,814\n",
      "Trainable params: 163,814\n",
      "Non-trainable params: 0\n",
      "_________________________________________________________________\n"
     ]
    }
   ],
   "source": [
    "drop_ae.summary()"
   ]
  },
  {
   "attachments": {},
   "cell_type": "markdown",
   "metadata": {},
   "source": [
    "#### 2.2 Compile"
   ]
  },
  {
   "cell_type": "code",
   "execution_count": 24,
   "metadata": {},
   "outputs": [],
   "source": [
    "drop_ae.compile(loss='binary_crossentropy',  \n",
    "                optimizer=keras.optimizers.SGD(learning_rate=1.0),\n",
    "                metrics=[rounded_accuracy])"
   ]
  },
  {
   "attachments": {},
   "cell_type": "markdown",
   "metadata": {},
   "source": [
    "#### 2.3 Train "
   ]
  },
  {
   "cell_type": "code",
   "execution_count": 25,
   "metadata": {},
   "outputs": [
    {
     "name": "stdout",
     "output_type": "stream",
     "text": [
      "Epoch 1/10\n",
      "1407/1407 [==============================] - 4s 2ms/step - loss: 0.3631 - rounded_accuracy: 0.8658 - val_loss: 0.3239 - val_rounded_accuracy: 0.8978\n",
      "Epoch 2/10\n",
      "1407/1407 [==============================] - 3s 2ms/step - loss: 0.3221 - rounded_accuracy: 0.9002 - val_loss: 0.3142 - val_rounded_accuracy: 0.9048\n",
      "Epoch 3/10\n",
      "1407/1407 [==============================] - 4s 3ms/step - loss: 0.3159 - rounded_accuracy: 0.9050 - val_loss: 0.3084 - val_rounded_accuracy: 0.9122\n",
      "Epoch 4/10\n",
      "1407/1407 [==============================] - 3s 2ms/step - loss: 0.3116 - rounded_accuracy: 0.9086 - val_loss: 0.3065 - val_rounded_accuracy: 0.9108\n",
      "Epoch 5/10\n",
      "1407/1407 [==============================] - 3s 2ms/step - loss: 0.3088 - rounded_accuracy: 0.9109 - val_loss: 0.3097 - val_rounded_accuracy: 0.9030\n",
      "Epoch 6/10\n",
      "1407/1407 [==============================] - 4s 3ms/step - loss: 0.3069 - rounded_accuracy: 0.9124 - val_loss: 0.3016 - val_rounded_accuracy: 0.9151\n",
      "Epoch 7/10\n",
      "1407/1407 [==============================] - 3s 2ms/step - loss: 0.3053 - rounded_accuracy: 0.9138 - val_loss: 0.3011 - val_rounded_accuracy: 0.9146\n",
      "Epoch 8/10\n",
      "1407/1407 [==============================] - 8s 6ms/step - loss: 0.3041 - rounded_accuracy: 0.9147 - val_loss: 0.2973 - val_rounded_accuracy: 0.9202\n",
      "Epoch 9/10\n",
      "1407/1407 [==============================] - 8s 5ms/step - loss: 0.3030 - rounded_accuracy: 0.9157 - val_loss: 0.3004 - val_rounded_accuracy: 0.9192\n",
      "Epoch 10/10\n",
      "1407/1407 [==============================] - 7s 5ms/step - loss: 0.3022 - rounded_accuracy: 0.9163 - val_loss: 0.2975 - val_rounded_accuracy: 0.9225\n"
     ]
    }
   ],
   "source": [
    "train = drop_ae.fit(x_train, x_train, epochs=10, validation_data=(x_valid, x_valid))"
   ]
  },
  {
   "cell_type": "code",
   "execution_count": 26,
   "metadata": {},
   "outputs": [
    {
     "data": {
      "image/png": "[encoded data removed]",
      "text/plain": [
       "<Figure size 640x480 with 1 Axes>"
      ]
     },
     "metadata": {},
     "output_type": "display_data"
    }
   ],
   "source": [
    "pd.DataFrame(train.history).plot()\n",
    "plt.grid(True)\n",
    "plt.show()"
   ]
  },
  {
   "attachments": {},
   "cell_type": "markdown",
   "metadata": {},
   "source": [
    "#### 2.4 Evaluate"
   ]
  },
  {
   "cell_type": "code",
   "execution_count": 27,
   "metadata": {},
   "outputs": [],
   "source": [
    "np.random.seed(1)\n",
    "tf.random.set_seed(1)\n",
    "\n",
    "dropout = keras.layers.Dropout(.5)\n",
    "x_test_dropout = dropout(x_test, training = True)"
   ]
  },
  {
   "cell_type": "code",
   "execution_count": 28,
   "metadata": {},
   "outputs": [
    {
     "name": "stdout",
     "output_type": "stream",
     "text": [
      "313/313 [==============================] - 0s 1ms/step - loss: 0.3058 - rounded_accuracy: 0.9157\n"
     ]
    },
    {
     "data": {
      "text/plain": [
       "[0.30579277873039246, 0.9156724810600281]"
      ]
     },
     "execution_count": 28,
     "metadata": {},
     "output_type": "execute_result"
    }
   ],
   "source": [
    "drop_ae.evaluate(x_test_dropout, x_test) "
   ]
  },
  {
   "attachments": {},
   "cell_type": "markdown",
   "metadata": {},
   "source": [
    "#### 2.5 Predict (Denoising)"
   ]
  },
  {
   "cell_type": "code",
   "execution_count": 29,
   "metadata": {},
   "outputs": [
    {
     "name": "stdout",
     "output_type": "stream",
     "text": [
      "313/313 [==============================] - 0s 835us/step\n"
     ]
    }
   ],
   "source": [
    "x_test_decoded = drop_ae.predict(x_test_dropout)"
   ]
  },
  {
   "cell_type": "code",
   "execution_count": 31,
   "metadata": {},
   "outputs": [
    {
     "data": {
      "image/png": "[encoded data removed]",
      "text/plain": [
       "<Figure size 1000x400 with 10 Axes>"
      ]
     },
     "metadata": {},
     "output_type": "display_data"
    }
   ],
   "source": [
    "plt.figure(figsize=(10, 4))\n",
    "for i in range(5):\n",
    "    plt.subplot(2, 5, 1 + i)\n",
    "    plt.imshow(x_test_dropout[i], cmap='binary')\n",
    "    plt.title('Original')\n",
    "    plt.axis('off')\n",
    "\n",
    "    plt.subplot(2, 5, 1+ 5 + i)\n",
    "    plt.imshow(x_test_decoded[i], cmap='binary')\n",
    "    plt.title('Reconstructed')\n",
    "    plt.axis('off')\n",
    "plt.show()"
   ]
  }
 ],
 "metadata": {
  "kernelspec": {
   "display_name": "tf",
   "language": "python",
   "name": "python3"
  },
  "language_info": {
   "codemirror_mode": {
    "name": "ipython",
    "version": 3
   },
   "file_extension": ".py",
   "mimetype": "text/x-python",
   "name": "python",
   "nbconvert_exporter": "python",
   "pygments_lexer": "ipython3",
   "version": "3.10.6"
  },
  "orig_nbformat": 4
 },
 "nbformat": 4,
 "nbformat_minor": 2
}
