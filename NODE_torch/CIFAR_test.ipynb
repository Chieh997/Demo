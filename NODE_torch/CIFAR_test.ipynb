{
 "cells": [
  {
   "cell_type": "code",
   "execution_count": 1,
   "metadata": {},
   "outputs": [],
   "source": [
    "from torchdyn.models import *; from torchdyn import *\n",
    "from torchdyn.nn import DataControl, DepthCat, Augmenter, GalConv2d, Fourier\n",
    "\n",
    "import torch\n",
    "import torch.nn as nn\n",
    "\n",
    "import pytorch_lightning as pl\n",
    "from pytorch_lightning.loggers import TensorBoardLogger\n",
    "# from pytorch_lightning.callbacks import Callback, ModelCheckpoint\n",
    "from pytorch_lightning.utilities.model_summary import ModelSummary\n",
    "\n",
    "from utils import CIFARLearner, get_cifar_dloaders, MetricTracker\n"
   ]
  },
  {
   "cell_type": "code",
   "execution_count": 2,
   "metadata": {},
   "outputs": [],
   "source": [
    "# quick run for automated notebook validation\n",
    "dry_run = True"
   ]
  },
  {
   "cell_type": "code",
   "execution_count": 3,
   "metadata": {},
   "outputs": [
    {
     "name": "stdout",
     "output_type": "stream",
     "text": [
      "GPU State: cpu\n"
     ]
    }
   ],
   "source": [
    "device = torch.device(\"cuda:0\" if torch.cuda.is_available() else \"cpu\")\n",
    "accelerator = 'gpu' if torch.cuda.is_available() else 'cpu'\n",
    "print('GPU State:', device)"
   ]
  },
  {
   "cell_type": "code",
   "execution_count": 4,
   "metadata": {},
   "outputs": [],
   "source": [
    "epoch = 1\n",
    "\n",
    "path_to_data='./data/cifar10_data'\n",
    "\n",
    "trainloader, testloader = get_cifar_dloaders(batch_size=64, size=28, path=path_to_data, download=False, num_workers=8)"
   ]
  },
  {
   "cell_type": "code",
   "execution_count": 6,
   "metadata": {},
   "outputs": [
    {
     "name": "stdout",
     "output_type": "stream",
     "text": [
      "Your vector field callable (nn.Module) should have both time `t` and state `x` as arguments, we've wrapped it for you.\n"
     ]
    }
   ],
   "source": [
    "func = nn.Sequential(nn.GroupNorm(42, 42),\n",
    "                     nn.Conv2d(42, 42, 3, padding=1, bias=False),\n",
    "                     nn.Softplus(),                   \n",
    "                     nn.Conv2d(42, 42, 3, padding=1, bias=False),\n",
    "                     nn.Softplus(), \n",
    "                     nn.GroupNorm(42, 42),\n",
    "                     nn.Conv2d(42, 42, 1)\n",
    "                     ).to(device)\n",
    "\n",
    "nde = NeuralODE(func, \n",
    "               solver='dopri5',\n",
    "               sensitivity='adjoint',\n",
    "               atol=1e-4,\n",
    "               rtol=1e-4\n",
    "               ).to(device)\n",
    "s_span = torch.linspace(0, 1, 2)\n",
    "# NOTE: the first noop `Augmenters` is used only to keep the `nde` at index `2`. Used to extract NFEs in CIFARLearner.\n",
    "model = nn.Sequential(Augmenter(1, 0),\n",
    "                      nn.Conv2d(3, 42, 3, padding=1, bias=False),\n",
    "                      nde,\n",
    "                      nn.Conv2d(42, 6, 1),\n",
    "                      nn.AdaptiveAvgPool2d(4),\n",
    "                      nn.Flatten(),                     \n",
    "                      nn.Linear(6*16, 10)).to(device)"
   ]
  },
  {
   "cell_type": "code",
   "execution_count": 11,
   "metadata": {},
   "outputs": [
    {
     "name": "stderr",
     "output_type": "stream",
     "text": [
      "GPU available: False, used: False\n",
      "TPU available: False, using: 0 TPU cores\n",
      "IPU available: False, using: 0 IPUs\n",
      "HPU available: False, using: 0 HPUs\n",
      "Running in fast_dev_run mode: will run a full train, val, test and prediction loop using 1 batch(es).\n",
      "`Trainer(limit_train_batches=1)` was configured so 1 batch per epoch will be used.\n",
      "`Trainer(limit_val_batches=1)` was configured so 1 batch will be used.\n",
      "`Trainer(limit_test_batches=1)` was configured so 1 batch will be used.\n",
      "`Trainer(limit_predict_batches=1)` was configured so 1 batch will be used.\n",
      "`Trainer(val_check_interval=1.0)` was configured so validation will run at the end of the training epoch..\n",
      "\n",
      "  | Name  | Type       | Params\n",
      "-------------------------------------\n",
      "0 | model | Sequential | 36.1 K\n",
      "-------------------------------------\n",
      "36.1 K    Trainable params\n",
      "0         Non-trainable params\n",
      "36.1 K    Total params\n",
      "0.144     Total estimated model params size (MB)\n"
     ]
    },
    {
     "data": {
      "application/vnd.jupyter.widget-view+json": {
       "model_id": "d73ad871baf348e389454cd7f1fbeb94",
       "version_major": 2,
       "version_minor": 0
      },
      "text/plain": [
       "Training: 0it [00:00, ?it/s]"
      ]
     },
     "metadata": {},
     "output_type": "display_data"
    }
   ],
   "source": [
    "learn = CIFARLearner(model, trainloader, testloader)\n",
    "cb = MetricTracker()\n",
    "logger = TensorBoardLogger(save_dir='lightning_logs/CIFAR/', name = 'model1')\n",
    "trainer = pl.Trainer(max_epochs=epoch,\n",
    "                     accelerator=accelerator,\n",
    "                     fast_dev_run=dry_run,\n",
    "                     gpus=torch.cuda.device_count(),\n",
    "                     logger = logger,\n",
    "                     callbacks = [cb]\n",
    "                     )\n",
    "trainer.fit(learn)"
   ]
  },
  {
   "cell_type": "code",
   "execution_count": 12,
   "metadata": {},
   "outputs": [
    {
     "data": {
      "text/plain": [
       "[{'epoch': tensor(0.),\n",
       "  'train_loss': tensor(2.3473),\n",
       "  'accuracy': tensor(0.0625),\n",
       "  'NFE': tensor(26.)}]"
      ]
     },
     "execution_count": 12,
     "metadata": {},
     "output_type": "execute_result"
    }
   ],
   "source": [
    "cb.collection"
   ]
  }
 ],
 "metadata": {
  "interpreter": {
   "hash": "10e027bed3982100a2896bc2354dc7363cb258f4ff26393aad96ee00dd81e201"
  },
  "kernelspec": {
   "display_name": "Python 3.10.4 ('torchenv')",
   "language": "python",
   "name": "python3"
  },
  "language_info": {
   "codemirror_mode": {
    "name": "ipython",
    "version": 3
   },
   "file_extension": ".py",
   "mimetype": "text/x-python",
   "name": "python",
   "nbconvert_exporter": "python",
   "pygments_lexer": "ipython3",
   "version": "3.10.4"
  },
  "orig_nbformat": 4
 },
 "nbformat": 4,
 "nbformat_minor": 2
}
