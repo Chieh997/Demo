{
 "cells": [
  {
   "cell_type": "markdown",
   "metadata": {},
   "source": [
    "# Image Classification: MNIST\n",
    "\n",
    "Models:\n",
    "+ Model 1: Vanilla NODE\n",
    "+ Model 2: Aug.NODE\n",
    "+ Model num_c: Input-Layer\n",
    "+ Model 4: 2nd-Ordered"
   ]
  },
  {
   "cell_type": "code",
   "execution_count": 1,
   "metadata": {},
   "outputs": [],
   "source": [
    "from torchdyn.models import *; from torchdyn import *\n",
    "from torchdyn.nn import Augmenter\n",
    "\n",
    "import torch\n",
    "import torch.nn as nn\n",
    "\n",
    "import pytorch_lightning as pl\n",
    "from pytorch_lightning.loggers import TensorBoardLogger\n",
    "# from pytorch_lightning.callbacks import Callback, ModelCheckpoint\n",
    "\n",
    "from utils import Learner, get_MNIST_dloaders, MetricTracker"
   ]
  },
  {
   "cell_type": "markdown",
   "metadata": {},
   "source": [
    "## Initialization"
   ]
  },
  {
   "cell_type": "code",
   "execution_count": 2,
   "metadata": {},
   "outputs": [],
   "source": [
    "# quick run for automated notebook validation\n",
    "dry_run = True"
   ]
  },
  {
   "cell_type": "code",
   "execution_count": 3,
   "metadata": {},
   "outputs": [
    {
     "name": "stdout",
     "output_type": "stream",
     "text": [
      "GPU State: cuda:0\n"
     ]
    }
   ],
   "source": [
    "# GPU\n",
    "device = 'cuda:0' if torch.cuda.is_available() else 'cpu'\n",
    "accelerator = 'gpu' if torch.cuda.is_available() else 'cpu'\n",
    "print('GPU State:', device)"
   ]
  },
  {
   "cell_type": "markdown",
   "metadata": {},
   "source": [
    "## Data Loading"
   ]
  },
  {
   "cell_type": "code",
   "execution_count": 4,
   "metadata": {},
   "outputs": [],
   "source": [
    "epoch = 10\n",
    "path_to_data='./data/mnist_data'\n",
    "\n",
    "trainloader, testloader = get_MNIST_dloaders(batch_size=64, size=28, path=path_to_data, download= False, num_workers=8)"
   ]
  },
  {
   "cell_type": "markdown",
   "metadata": {},
   "source": [
    "<a id = 'NODE'></a>\n",
    "## Vanilla Neural ODE"
   ]
  },
  {
   "cell_type": "markdown",
   "metadata": {},
   "source": [
    "+ **vector field $f_\\theta$**:  3–layer depth–invariant CNNs,with each layer followed by an instance normalization layer"
   ]
  },
  {
   "cell_type": "code",
   "execution_count": 5,
   "metadata": {},
   "outputs": [],
   "source": [
    "dim = 42\n",
    "vfunc = nn.Sequential(\n",
    "    # input data = (64,1,28,28)\n",
    "        nn.GroupNorm(1, 1),\n",
    "        nn.Conv2d(1, dim, 3, padding=1, bias=False),\n",
    "        nn.Softplus(),\n",
    "        nn.Conv2d(dim, dim, 3, padding=1, bias=False),\n",
    "        nn.Softplus(), \n",
    "        nn.GroupNorm(dim, dim),\n",
    "        nn.Conv2d(dim, 1, 1),\n",
    "    ).to(device)"
   ]
  },
  {
   "cell_type": "code",
   "execution_count": 6,
   "metadata": {},
   "outputs": [
    {
     "name": "stdout",
     "output_type": "stream",
     "text": [
      "Your vector field callable (nn.Module) should have both time `t` and state `x` as arguments, we've wrapped it for you.\n"
     ]
    }
   ],
   "source": [
    "nde = NeuralODE(vfunc, \n",
    "               solver='dopri5',\n",
    "               sensitivity='adjoint',\n",
    "               atol=1e-4,\n",
    "               rtol=1e-4\n",
    "               ).to(device)\n",
    "# NOTE: the first noop `Augmenters` is used only to keep the `nde` at index `2`. Used to extract NFEs in Learner.\n",
    "model = nn.Sequential(\n",
    "        Augmenter(1, 0), # does nothing\n",
    "        Augmenter(1, 0), # does nothing\n",
    "        nde,\n",
    "        nn.Conv2d(1, 3, 1),\n",
    "        nn.AdaptiveAvgPool2d(4),\n",
    "        nn.Flatten(),                     \n",
    "        nn.Linear(3*16, 10)\n",
    "    ).to(device)"
   ]
  },
  {
   "cell_type": "code",
   "execution_count": null,
   "metadata": {},
   "outputs": [
    {
     "name": "stderr",
     "output_type": "stream",
     "text": [
      "GPU available: True, used: True\n",
      "TPU available: False, using: 0 TPU cores\n",
      "IPU available: False, using: 0 IPUs\n",
      "HPU available: False, using: 0 HPUs\n",
      "Running in fast_dev_run mode: will run a full train, val, test and prediction loop using 1 batch(es).\n",
      "`Trainer(limit_train_batches=1)` was configured so 1 batch per epoch will be used.\n",
      "`Trainer(limit_val_batches=1)` was configured so 1 batch will be used.\n",
      "`Trainer(limit_test_batches=1)` was configured so 1 batch will be used.\n",
      "`Trainer(limit_predict_batches=1)` was configured so 1 batch will be used.\n",
      "`Trainer(val_check_interval=1.0)` was configured so validation will run at the end of the training epoch..\n",
      "LOCAL_RANK: 0 - CUDA_VISIBLE_DEVICES: [0]\n",
      "\n",
      "  | Name     | Type             | Params\n",
      "----------------------------------------------\n",
      "0 | model    | Sequential       | 16.9 K\n",
      "1 | loss     | CrossEntropyLoss | 0     \n",
      "2 | accuarcy | Accuracy         | 0     \n",
      "----------------------------------------------\n",
      "16.9 K    Trainable params\n",
      "0         Non-trainable params\n",
      "16.9 K    Total params\n",
      "0.068     Total estimated model params size (MB)\n",
      "C:\\Users\\m1052\\miniconda3\\envs\\torchenv\\lib\\site-packages\\pytorch_lightning\\trainer\\trainer.py:1933: PossibleUserWarning: The number of training batches (1) is smaller than the logging interval Trainer(log_every_n_steps=50). Set a lower value for log_every_n_steps if you want to see logs for the training epoch.\n",
      "  rank_zero_warn(\n"
     ]
    },
    {
     "data": {
      "application/vnd.jupyter.widget-view+json": {
       "model_id": "5a96c8309c6f4c9481b90ef45fba5a0d",
       "version_major": 2,
       "version_minor": 0
      },
      "text/plain": [
       "Training: 0it [00:00, ?it/s]"
      ]
     },
     "metadata": {},
     "output_type": "display_data"
    }
   ],
   "source": [
    "learn = Learner(model, trainloader, testloader, device)\n",
    "cb = MetricTracker()\n",
    "logger = TensorBoardLogger(save_dir='lightning_logs/MNIST/', name = 'model1')\n",
    "trainer = pl.Trainer(max_epochs=1,\n",
    "                     accelerator=accelerator,\n",
    "                     fast_dev_run=dry_run,\n",
    "                     gpus=torch.cuda.device_count(),\n",
    "                     logger = logger,\n",
    "                     callbacks = [cb]\n",
    "                     )\n",
    "trainer.fit(learn)"
   ]
  },
  {
   "cell_type": "code",
   "execution_count": null,
   "metadata": {},
   "outputs": [],
   "source": [
    "trainer.test(learn)"
   ]
  },
  {
   "cell_type": "code",
   "execution_count": null,
   "metadata": {},
   "outputs": [],
   "source": [
    "file = './lightning_logs/MNIST/model1/logs.pt'\n",
    "torch.save(cb.collection, file)\n",
    "torch.load(file)"
   ]
  }
 ],
 "metadata": {
  "interpreter": {
   "hash": "10e027bed3982100a2896bc2354dc7363cb258f4ff26393aad96ee00dd81e201"
  },
  "kernelspec": {
   "display_name": "Python 3 (ipykernel)",
   "language": "python",
   "name": "python3"
  },
  "language_info": {
   "codemirror_mode": {
    "name": "ipython",
    "version": 3
   },
   "file_extension": ".py",
   "mimetype": "text/x-python",
   "name": "python",
   "nbconvert_exporter": "python",
   "pygments_lexer": "ipython3",
   "version": "3.10.4"
  }
 },
 "nbformat": 4,
 "nbformat_minor": 4
}
